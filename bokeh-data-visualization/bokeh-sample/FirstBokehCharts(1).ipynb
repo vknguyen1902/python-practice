{
 "cells": [
  {
   "cell_type": "code",
   "execution_count": 1,
   "metadata": {},
   "outputs": [
    {
     "data": {
      "text/html": [
       "\n",
       "    <div class=\"bk-root\">\n",
       "        <a href=\"https://bokeh.pydata.org\" target=\"_blank\" class=\"bk-logo bk-logo-small bk-logo-notebook\"></a>\n",
       "        <span id=\"a0d59d50-49fb-416d-b8b8-c8c3ca3d579c\">Loading BokehJS ...</span>\n",
       "    </div>"
      ]
     },
     "metadata": {},
     "output_type": "display_data"
    },
    {
     "data": {
      "application/javascript": [
       "\n",
       "(function(root) {\n",
       "  function now() {\n",
       "    return new Date();\n",
       "  }\n",
       "\n",
       "  var force = true;\n",
       "\n",
       "  if (typeof (root._bokeh_onload_callbacks) === \"undefined\" || force === true) {\n",
       "    root._bokeh_onload_callbacks = [];\n",
       "    root._bokeh_is_loading = undefined;\n",
       "  }\n",
       "\n",
       "  var JS_MIME_TYPE = 'application/javascript';\n",
       "  var HTML_MIME_TYPE = 'text/html';\n",
       "  var EXEC_MIME_TYPE = 'application/vnd.bokehjs_exec.v0+json';\n",
       "  var CLASS_NAME = 'output_bokeh rendered_html';\n",
       "\n",
       "  /**\n",
       "   * Render data to the DOM node\n",
       "   */\n",
       "  function render(props, node) {\n",
       "    var script = document.createElement(\"script\");\n",
       "    node.appendChild(script);\n",
       "  }\n",
       "\n",
       "  /**\n",
       "   * Handle when an output is cleared or removed\n",
       "   */\n",
       "  function handleClearOutput(event, handle) {\n",
       "    var cell = handle.cell;\n",
       "\n",
       "    var id = cell.output_area._bokeh_element_id;\n",
       "    var server_id = cell.output_area._bokeh_server_id;\n",
       "    // Clean up Bokeh references\n",
       "    if (id !== undefined) {\n",
       "      Bokeh.index[id].model.document.clear();\n",
       "      delete Bokeh.index[id];\n",
       "    }\n",
       "\n",
       "    if (server_id !== undefined) {\n",
       "      // Clean up Bokeh references\n",
       "      var cmd = \"from bokeh.io.state import curstate; print(curstate().uuid_to_server['\" + server_id + \"'].get_sessions()[0].document.roots[0]._id)\";\n",
       "      cell.notebook.kernel.execute(cmd, {\n",
       "        iopub: {\n",
       "          output: function(msg) {\n",
       "            var element_id = msg.content.text.trim();\n",
       "            Bokeh.index[element_id].model.document.clear();\n",
       "            delete Bokeh.index[element_id];\n",
       "          }\n",
       "        }\n",
       "      });\n",
       "      // Destroy server and session\n",
       "      var cmd = \"import bokeh.io.notebook as ion; ion.destroy_server('\" + server_id + \"')\";\n",
       "      cell.notebook.kernel.execute(cmd);\n",
       "    }\n",
       "  }\n",
       "\n",
       "  /**\n",
       "   * Handle when a new output is added\n",
       "   */\n",
       "  function handleAddOutput(event, handle) {\n",
       "    var output_area = handle.output_area;\n",
       "    var output = handle.output;\n",
       "\n",
       "    // limit handleAddOutput to display_data with EXEC_MIME_TYPE content only\n",
       "    if ((output.output_type != \"display_data\") || (!output.data.hasOwnProperty(EXEC_MIME_TYPE))) {\n",
       "      return\n",
       "    }\n",
       "\n",
       "    var toinsert = output_area.element.find(`.${CLASS_NAME.split(' ')[0]}`);\n",
       "\n",
       "    if (output.metadata[EXEC_MIME_TYPE][\"id\"] !== undefined) {\n",
       "      toinsert[0].firstChild.textContent = output.data[JS_MIME_TYPE];\n",
       "      // store reference to embed id on output_area\n",
       "      output_area._bokeh_element_id = output.metadata[EXEC_MIME_TYPE][\"id\"];\n",
       "    }\n",
       "    if (output.metadata[EXEC_MIME_TYPE][\"server_id\"] !== undefined) {\n",
       "      var bk_div = document.createElement(\"div\");\n",
       "      bk_div.innerHTML = output.data[HTML_MIME_TYPE];\n",
       "      var script_attrs = bk_div.children[0].attributes;\n",
       "      for (var i = 0; i < script_attrs.length; i++) {\n",
       "        toinsert[0].firstChild.setAttribute(script_attrs[i].name, script_attrs[i].value);\n",
       "      }\n",
       "      // store reference to server id on output_area\n",
       "      output_area._bokeh_server_id = output.metadata[EXEC_MIME_TYPE][\"server_id\"];\n",
       "    }\n",
       "  }\n",
       "\n",
       "  function register_renderer(events, OutputArea) {\n",
       "\n",
       "    function append_mime(data, metadata, element) {\n",
       "      // create a DOM node to render to\n",
       "      var toinsert = this.create_output_subarea(\n",
       "        metadata,\n",
       "        CLASS_NAME,\n",
       "        EXEC_MIME_TYPE\n",
       "      );\n",
       "      this.keyboard_manager.register_events(toinsert);\n",
       "      // Render to node\n",
       "      var props = {data: data, metadata: metadata[EXEC_MIME_TYPE]};\n",
       "      render(props, toinsert[0]);\n",
       "      element.append(toinsert);\n",
       "      return toinsert\n",
       "    }\n",
       "\n",
       "    /* Handle when an output is cleared or removed */\n",
       "    events.on('clear_output.CodeCell', handleClearOutput);\n",
       "    events.on('delete.Cell', handleClearOutput);\n",
       "\n",
       "    /* Handle when a new output is added */\n",
       "    events.on('output_added.OutputArea', handleAddOutput);\n",
       "\n",
       "    /**\n",
       "     * Register the mime type and append_mime function with output_area\n",
       "     */\n",
       "    OutputArea.prototype.register_mime_type(EXEC_MIME_TYPE, append_mime, {\n",
       "      /* Is output safe? */\n",
       "      safe: true,\n",
       "      /* Index of renderer in `output_area.display_order` */\n",
       "      index: 0\n",
       "    });\n",
       "  }\n",
       "\n",
       "  // register the mime type if in Jupyter Notebook environment and previously unregistered\n",
       "  if (root.Jupyter !== undefined) {\n",
       "    var events = require('base/js/events');\n",
       "    var OutputArea = require('notebook/js/outputarea').OutputArea;\n",
       "\n",
       "    if (OutputArea.prototype.mime_types().indexOf(EXEC_MIME_TYPE) == -1) {\n",
       "      register_renderer(events, OutputArea);\n",
       "    }\n",
       "  }\n",
       "\n",
       "  \n",
       "  if (typeof (root._bokeh_timeout) === \"undefined\" || force === true) {\n",
       "    root._bokeh_timeout = Date.now() + 5000;\n",
       "    root._bokeh_failed_load = false;\n",
       "  }\n",
       "\n",
       "  var NB_LOAD_WARNING = {'data': {'text/html':\n",
       "     \"<div style='background-color: #fdd'>\\n\"+\n",
       "     \"<p>\\n\"+\n",
       "     \"BokehJS does not appear to have successfully loaded. If loading BokehJS from CDN, this \\n\"+\n",
       "     \"may be due to a slow or bad network connection. Possible fixes:\\n\"+\n",
       "     \"</p>\\n\"+\n",
       "     \"<ul>\\n\"+\n",
       "     \"<li>re-rerun `output_notebook()` to attempt to load from CDN again, or</li>\\n\"+\n",
       "     \"<li>use INLINE resources instead, as so:</li>\\n\"+\n",
       "     \"</ul>\\n\"+\n",
       "     \"<code>\\n\"+\n",
       "     \"from bokeh.resources import INLINE\\n\"+\n",
       "     \"output_notebook(resources=INLINE)\\n\"+\n",
       "     \"</code>\\n\"+\n",
       "     \"</div>\"}};\n",
       "\n",
       "  function display_loaded() {\n",
       "    var el = document.getElementById(\"a0d59d50-49fb-416d-b8b8-c8c3ca3d579c\");\n",
       "    if (el != null) {\n",
       "      el.textContent = \"BokehJS is loading...\";\n",
       "    }\n",
       "    if (root.Bokeh !== undefined) {\n",
       "      if (el != null) {\n",
       "        el.textContent = \"BokehJS \" + root.Bokeh.version + \" successfully loaded.\";\n",
       "      }\n",
       "    } else if (Date.now() < root._bokeh_timeout) {\n",
       "      setTimeout(display_loaded, 100)\n",
       "    }\n",
       "  }\n",
       "\n",
       "\n",
       "  function run_callbacks() {\n",
       "    try {\n",
       "      root._bokeh_onload_callbacks.forEach(function(callback) { callback() });\n",
       "    }\n",
       "    finally {\n",
       "      delete root._bokeh_onload_callbacks\n",
       "    }\n",
       "    console.info(\"Bokeh: all callbacks have finished\");\n",
       "  }\n",
       "\n",
       "  function load_libs(js_urls, callback) {\n",
       "    root._bokeh_onload_callbacks.push(callback);\n",
       "    if (root._bokeh_is_loading > 0) {\n",
       "      console.log(\"Bokeh: BokehJS is being loaded, scheduling callback at\", now());\n",
       "      return null;\n",
       "    }\n",
       "    if (js_urls == null || js_urls.length === 0) {\n",
       "      run_callbacks();\n",
       "      return null;\n",
       "    }\n",
       "    console.log(\"Bokeh: BokehJS not loaded, scheduling load and callback at\", now());\n",
       "    root._bokeh_is_loading = js_urls.length;\n",
       "    for (var i = 0; i < js_urls.length; i++) {\n",
       "      var url = js_urls[i];\n",
       "      var s = document.createElement('script');\n",
       "      s.src = url;\n",
       "      s.async = false;\n",
       "      s.onreadystatechange = s.onload = function() {\n",
       "        root._bokeh_is_loading--;\n",
       "        if (root._bokeh_is_loading === 0) {\n",
       "          console.log(\"Bokeh: all BokehJS libraries loaded\");\n",
       "          run_callbacks()\n",
       "        }\n",
       "      };\n",
       "      s.onerror = function() {\n",
       "        console.warn(\"failed to load library \" + url);\n",
       "      };\n",
       "      console.log(\"Bokeh: injecting script tag for BokehJS library: \", url);\n",
       "      document.getElementsByTagName(\"head\")[0].appendChild(s);\n",
       "    }\n",
       "  };var element = document.getElementById(\"a0d59d50-49fb-416d-b8b8-c8c3ca3d579c\");\n",
       "  if (element == null) {\n",
       "    console.log(\"Bokeh: ERROR: autoload.js configured with elementid 'a0d59d50-49fb-416d-b8b8-c8c3ca3d579c' but no matching script tag was found. \")\n",
       "    return false;\n",
       "  }\n",
       "\n",
       "  var js_urls = [\"https://cdn.pydata.org/bokeh/release/bokeh-0.12.10.min.js\", \"https://cdn.pydata.org/bokeh/release/bokeh-widgets-0.12.10.min.js\", \"https://cdn.pydata.org/bokeh/release/bokeh-tables-0.12.10.min.js\", \"https://cdn.pydata.org/bokeh/release/bokeh-gl-0.12.10.min.js\"];\n",
       "\n",
       "  var inline_js = [\n",
       "    function(Bokeh) {\n",
       "      Bokeh.set_log_level(\"info\");\n",
       "    },\n",
       "    \n",
       "    function(Bokeh) {\n",
       "      \n",
       "    },\n",
       "    function(Bokeh) {\n",
       "      console.log(\"Bokeh: injecting CSS: https://cdn.pydata.org/bokeh/release/bokeh-0.12.10.min.css\");\n",
       "      Bokeh.embed.inject_css(\"https://cdn.pydata.org/bokeh/release/bokeh-0.12.10.min.css\");\n",
       "      console.log(\"Bokeh: injecting CSS: https://cdn.pydata.org/bokeh/release/bokeh-widgets-0.12.10.min.css\");\n",
       "      Bokeh.embed.inject_css(\"https://cdn.pydata.org/bokeh/release/bokeh-widgets-0.12.10.min.css\");\n",
       "      console.log(\"Bokeh: injecting CSS: https://cdn.pydata.org/bokeh/release/bokeh-tables-0.12.10.min.css\");\n",
       "      Bokeh.embed.inject_css(\"https://cdn.pydata.org/bokeh/release/bokeh-tables-0.12.10.min.css\");\n",
       "    }\n",
       "  ];\n",
       "\n",
       "  function run_inline_js() {\n",
       "    \n",
       "    if ((root.Bokeh !== undefined) || (force === true)) {\n",
       "      for (var i = 0; i < inline_js.length; i++) {\n",
       "        inline_js[i].call(root, root.Bokeh);\n",
       "      }if (force === true) {\n",
       "        display_loaded();\n",
       "      }} else if (Date.now() < root._bokeh_timeout) {\n",
       "      setTimeout(run_inline_js, 100);\n",
       "    } else if (!root._bokeh_failed_load) {\n",
       "      console.log(\"Bokeh: BokehJS failed to load within specified timeout.\");\n",
       "      root._bokeh_failed_load = true;\n",
       "    } else if (force !== true) {\n",
       "      var cell = $(document.getElementById(\"a0d59d50-49fb-416d-b8b8-c8c3ca3d579c\")).parents('.cell').data().cell;\n",
       "      cell.output_area.append_execute_result(NB_LOAD_WARNING)\n",
       "    }\n",
       "\n",
       "  }\n",
       "\n",
       "  if (root._bokeh_is_loading === 0) {\n",
       "    console.log(\"Bokeh: BokehJS loaded, going straight to plotting\");\n",
       "    run_inline_js();\n",
       "  } else {\n",
       "    load_libs(js_urls, function() {\n",
       "      console.log(\"Bokeh: BokehJS plotting callback run at\", now());\n",
       "      run_inline_js();\n",
       "    });\n",
       "  }\n",
       "}(window));"
      ],
      "application/vnd.bokehjs_load.v0+json": "\n(function(root) {\n  function now() {\n    return new Date();\n  }\n\n  var force = true;\n\n  if (typeof (root._bokeh_onload_callbacks) === \"undefined\" || force === true) {\n    root._bokeh_onload_callbacks = [];\n    root._bokeh_is_loading = undefined;\n  }\n\n  \n\n  \n  if (typeof (root._bokeh_timeout) === \"undefined\" || force === true) {\n    root._bokeh_timeout = Date.now() + 5000;\n    root._bokeh_failed_load = false;\n  }\n\n  var NB_LOAD_WARNING = {'data': {'text/html':\n     \"<div style='background-color: #fdd'>\\n\"+\n     \"<p>\\n\"+\n     \"BokehJS does not appear to have successfully loaded. If loading BokehJS from CDN, this \\n\"+\n     \"may be due to a slow or bad network connection. Possible fixes:\\n\"+\n     \"</p>\\n\"+\n     \"<ul>\\n\"+\n     \"<li>re-rerun `output_notebook()` to attempt to load from CDN again, or</li>\\n\"+\n     \"<li>use INLINE resources instead, as so:</li>\\n\"+\n     \"</ul>\\n\"+\n     \"<code>\\n\"+\n     \"from bokeh.resources import INLINE\\n\"+\n     \"output_notebook(resources=INLINE)\\n\"+\n     \"</code>\\n\"+\n     \"</div>\"}};\n\n  function display_loaded() {\n    var el = document.getElementById(\"a0d59d50-49fb-416d-b8b8-c8c3ca3d579c\");\n    if (el != null) {\n      el.textContent = \"BokehJS is loading...\";\n    }\n    if (root.Bokeh !== undefined) {\n      if (el != null) {\n        el.textContent = \"BokehJS \" + root.Bokeh.version + \" successfully loaded.\";\n      }\n    } else if (Date.now() < root._bokeh_timeout) {\n      setTimeout(display_loaded, 100)\n    }\n  }\n\n\n  function run_callbacks() {\n    try {\n      root._bokeh_onload_callbacks.forEach(function(callback) { callback() });\n    }\n    finally {\n      delete root._bokeh_onload_callbacks\n    }\n    console.info(\"Bokeh: all callbacks have finished\");\n  }\n\n  function load_libs(js_urls, callback) {\n    root._bokeh_onload_callbacks.push(callback);\n    if (root._bokeh_is_loading > 0) {\n      console.log(\"Bokeh: BokehJS is being loaded, scheduling callback at\", now());\n      return null;\n    }\n    if (js_urls == null || js_urls.length === 0) {\n      run_callbacks();\n      return null;\n    }\n    console.log(\"Bokeh: BokehJS not loaded, scheduling load and callback at\", now());\n    root._bokeh_is_loading = js_urls.length;\n    for (var i = 0; i < js_urls.length; i++) {\n      var url = js_urls[i];\n      var s = document.createElement('script');\n      s.src = url;\n      s.async = false;\n      s.onreadystatechange = s.onload = function() {\n        root._bokeh_is_loading--;\n        if (root._bokeh_is_loading === 0) {\n          console.log(\"Bokeh: all BokehJS libraries loaded\");\n          run_callbacks()\n        }\n      };\n      s.onerror = function() {\n        console.warn(\"failed to load library \" + url);\n      };\n      console.log(\"Bokeh: injecting script tag for BokehJS library: \", url);\n      document.getElementsByTagName(\"head\")[0].appendChild(s);\n    }\n  };var element = document.getElementById(\"a0d59d50-49fb-416d-b8b8-c8c3ca3d579c\");\n  if (element == null) {\n    console.log(\"Bokeh: ERROR: autoload.js configured with elementid 'a0d59d50-49fb-416d-b8b8-c8c3ca3d579c' but no matching script tag was found. \")\n    return false;\n  }\n\n  var js_urls = [\"https://cdn.pydata.org/bokeh/release/bokeh-0.12.10.min.js\", \"https://cdn.pydata.org/bokeh/release/bokeh-widgets-0.12.10.min.js\", \"https://cdn.pydata.org/bokeh/release/bokeh-tables-0.12.10.min.js\", \"https://cdn.pydata.org/bokeh/release/bokeh-gl-0.12.10.min.js\"];\n\n  var inline_js = [\n    function(Bokeh) {\n      Bokeh.set_log_level(\"info\");\n    },\n    \n    function(Bokeh) {\n      \n    },\n    function(Bokeh) {\n      console.log(\"Bokeh: injecting CSS: https://cdn.pydata.org/bokeh/release/bokeh-0.12.10.min.css\");\n      Bokeh.embed.inject_css(\"https://cdn.pydata.org/bokeh/release/bokeh-0.12.10.min.css\");\n      console.log(\"Bokeh: injecting CSS: https://cdn.pydata.org/bokeh/release/bokeh-widgets-0.12.10.min.css\");\n      Bokeh.embed.inject_css(\"https://cdn.pydata.org/bokeh/release/bokeh-widgets-0.12.10.min.css\");\n      console.log(\"Bokeh: injecting CSS: https://cdn.pydata.org/bokeh/release/bokeh-tables-0.12.10.min.css\");\n      Bokeh.embed.inject_css(\"https://cdn.pydata.org/bokeh/release/bokeh-tables-0.12.10.min.css\");\n    }\n  ];\n\n  function run_inline_js() {\n    \n    if ((root.Bokeh !== undefined) || (force === true)) {\n      for (var i = 0; i < inline_js.length; i++) {\n        inline_js[i].call(root, root.Bokeh);\n      }if (force === true) {\n        display_loaded();\n      }} else if (Date.now() < root._bokeh_timeout) {\n      setTimeout(run_inline_js, 100);\n    } else if (!root._bokeh_failed_load) {\n      console.log(\"Bokeh: BokehJS failed to load within specified timeout.\");\n      root._bokeh_failed_load = true;\n    } else if (force !== true) {\n      var cell = $(document.getElementById(\"a0d59d50-49fb-416d-b8b8-c8c3ca3d579c\")).parents('.cell').data().cell;\n      cell.output_area.append_execute_result(NB_LOAD_WARNING)\n    }\n\n  }\n\n  if (root._bokeh_is_loading === 0) {\n    console.log(\"Bokeh: BokehJS loaded, going straight to plotting\");\n    run_inline_js();\n  } else {\n    load_libs(js_urls, function() {\n      console.log(\"Bokeh: BokehJS plotting callback run at\", now());\n      run_inline_js();\n    });\n  }\n}(window));"
     },
     "metadata": {},
     "output_type": "display_data"
    }
   ],
   "source": [
    "# import statements\n",
    "from bokeh.plotting import figure\n",
    "from bokeh.io import output_notebook, show\n",
    "from bokeh.models import WheelZoomTool, HoverTool\n",
    "\n",
    "output_notebook()"
   ]
  },
  {
   "cell_type": "markdown",
   "metadata": {},
   "source": [
    "# Create a plot with scatter and line glyphs -- Numerical Range\n",
    "## Step-1: Create a figure object"
   ]
  },
  {
   "cell_type": "code",
   "execution_count": 2,
   "metadata": {
    "collapsed": true
   },
   "outputs": [],
   "source": [
    "myPlot = figure(height=400, width=400, \n",
    "                   title=\"My first Bokeh plot\", \n",
    "                   x_axis_label=\"Some things on X\",\n",
    "                   y_axis_label=\"These are their numbers!\", \n",
    "                   tools=\"pan,box_zoom,reset, tap\",                  \n",
    "                   toolbar_location=\"above\")\n",
    "\n",
    "# Another way to add tools to figure object. To do this you must import them separately from MODELS\n",
    "# See more on plot tools at https://bokeh.pydata.org/en/latest/docs/user_guide/tools.html\n",
    "myPlot.add_tools(WheelZoomTool())\n",
    "myPlot.add_tools(HoverTool())"
   ]
  },
  {
   "cell_type": "markdown",
   "metadata": {},
   "source": [
    "## Step-2: Add and customize glyphs with a xy position, color, size, and alpha \n",
    "See additional glyphs at https://bokeh.pydata.org/en/latest/docs/user_guide/plotting.html"
   ]
  },
  {
   "cell_type": "code",
   "execution_count": 7,
   "metadata": {},
   "outputs": [],
   "source": [
    "# Circle glpyh\n",
    "cir = myPlot.circle(x=[3,6,5], y=[4,8,10], \n",
    "                 color=['blue','red','green'], \n",
    "                 size=[5,10,15], \n",
    "                 alpha=0.25)\n",
    "\n",
    "# Square glyph\n",
    "sq = myPlot.square(x=[4,6,9], y=[6,6,8], \n",
    "                 color=['brown','gray','blue'], \n",
    "                 size=[3,5,7], \n",
    "                 alpha=0.75)\n",
    "\n",
    "# line glyph\n",
    "lin = myPlot.line(x=[3,6,5], y=[4,8,10],\n",
    "                     color='red',\n",
    "                     line_width=3)"
   ]
  },
  {
   "cell_type": "markdown",
   "metadata": {},
   "source": [
    "## Step-3: Setting the axis and grid properties \n",
    "Axis properties: https://bokeh.pydata.org/en/latest/docs/user_guide/styling.html#axes\n",
    "\n",
    "Grid Properties: https://bokeh.pydata.org/en/latest/docs/user_guide/styling.html#grids"
   ]
  },
  {
   "cell_type": "code",
   "execution_count": 8,
   "metadata": {
    "collapsed": true
   },
   "outputs": [],
   "source": [
    "# Make sure X- and Y-axis range begins at 0; otherwise it will default to min values for X and Y ranges in the dataset\n",
    "myPlot.x_range.start = 0\n",
    "myPlot.y_range.start = 0\n",
    "\n",
    "myPlot.xgrid.grid_line_color = None\n",
    "myPlot.ygrid.grid_line_color = 'Pink'"
   ]
  },
  {
   "cell_type": "markdown",
   "metadata": {},
   "source": [
    "## Last Step: Show the scatterplot"
   ]
  },
  {
   "cell_type": "code",
   "execution_count": 9,
   "metadata": {},
   "outputs": [
    {
     "data": {
      "text/html": [
       "\n",
       "<div class=\"bk-root\">\n",
       "    <div class=\"bk-plotdiv\" id=\"0a1bd002-7ccf-4178-b76b-0190da3cadf8\"></div>\n",
       "</div>"
      ]
     },
     "metadata": {},
     "output_type": "display_data"
    },
    {
     "data": {
      "application/javascript": [
       "(function(root) {\n",
       "  function embed_document(root) {\n",
       "    var docs_json = {\"33de2606-0d03-461f-b83a-590b21f981f1\":{\"roots\":{\"references\":[{\"attributes\":{\"data_source\":{\"id\":\"4d88a7e4-7107-48f1-80b6-dae003bbcdd9\",\"type\":\"ColumnDataSource\"},\"glyph\":{\"id\":\"02b6d8e4-0663-4017-8754-8502b6d65c30\",\"type\":\"Circle\"},\"hover_glyph\":null,\"muted_glyph\":null,\"nonselection_glyph\":{\"id\":\"c7ddbddd-12e6-481b-a8e7-d697fc06d98a\",\"type\":\"Circle\"},\"selection_glyph\":null,\"view\":{\"id\":\"a47a084b-aa5b-447c-b67d-451aeda8dcde\",\"type\":\"CDSView\"}},\"id\":\"f6ec6d54-5a06-4e00-87a9-bb9f26bf02db\",\"type\":\"GlyphRenderer\"},{\"attributes\":{\"callback\":null,\"column_names\":[\"x\",\"y\"],\"data\":{\"x\":[3,6,5],\"y\":[4,8,10]}},\"id\":\"73e35171-4e61-46d6-9451-d61abde8cfe1\",\"type\":\"ColumnDataSource\"},{\"attributes\":{},\"id\":\"bee5ffd8-114d-423a-b4c4-fce28c7d44b6\",\"type\":\"BasicTicker\"},{\"attributes\":{\"callback\":null,\"column_names\":[\"size\",\"x\",\"y\",\"fill_color\",\"line_color\"],\"data\":{\"fill_color\":[\"blue\",\"red\",\"green\"],\"line_color\":[\"blue\",\"red\",\"green\"],\"size\":[5,10,15],\"x\":[3,6,5],\"y\":[4,8,10]}},\"id\":\"b713b303-6235-4b51-847a-d4587984a6ea\",\"type\":\"ColumnDataSource\"},{\"attributes\":{\"fill_alpha\":{\"value\":0.1},\"fill_color\":{\"value\":\"#1f77b4\"},\"line_alpha\":{\"value\":0.1},\"line_color\":{\"value\":\"#1f77b4\"},\"size\":{\"field\":\"size\",\"units\":\"screen\"},\"x\":{\"field\":\"x\"},\"y\":{\"field\":\"y\"}},\"id\":\"303ffce2-8a5a-499e-8d81-585611ba5471\",\"type\":\"Square\"},{\"attributes\":{\"fill_alpha\":{\"value\":0.25},\"fill_color\":{\"field\":\"fill_color\"},\"line_alpha\":{\"value\":0.25},\"line_color\":{\"field\":\"line_color\"},\"size\":{\"field\":\"size\",\"units\":\"screen\"},\"x\":{\"field\":\"x\"},\"y\":{\"field\":\"y\"}},\"id\":\"327d4eed-373b-4aec-974c-35a15a52c2be\",\"type\":\"Circle\"},{\"attributes\":{\"line_color\":{\"value\":\"red\"},\"line_width\":{\"value\":3},\"x\":{\"field\":\"x\"},\"y\":{\"field\":\"y\"}},\"id\":\"b7191c91-1d4f-4e27-aef1-0f25794a6fc4\",\"type\":\"Line\"},{\"attributes\":{\"grid_line_color\":{\"value\":null},\"plot\":{\"id\":\"00568a72-f2cc-49bd-845e-868f2cfdb86c\",\"subtype\":\"Figure\",\"type\":\"Plot\"},\"ticker\":{\"id\":\"bee5ffd8-114d-423a-b4c4-fce28c7d44b6\",\"type\":\"BasicTicker\"}},\"id\":\"1a434eaa-4b6b-4c74-aa5d-823f4ddc10ba\",\"type\":\"Grid\"},{\"attributes\":{\"data_source\":{\"id\":\"0a3b0cab-7ec9-4ba5-86bc-471afe432044\",\"type\":\"ColumnDataSource\"},\"glyph\":{\"id\":\"9acb6a22-1bfc-4244-8d82-1fd4f71dc6a3\",\"type\":\"Square\"},\"hover_glyph\":null,\"muted_glyph\":null,\"nonselection_glyph\":{\"id\":\"303ffce2-8a5a-499e-8d81-585611ba5471\",\"type\":\"Square\"},\"selection_glyph\":null,\"view\":{\"id\":\"3f032310-12a5-42fc-ba18-b3f21c2face6\",\"type\":\"CDSView\"}},\"id\":\"727ad2e9-fb7e-4ce8-a921-8718f0d33c22\",\"type\":\"GlyphRenderer\"},{\"attributes\":{\"fill_alpha\":{\"value\":0.1},\"fill_color\":{\"value\":\"#1f77b4\"},\"line_alpha\":{\"value\":0.1},\"line_color\":{\"value\":\"#1f77b4\"},\"size\":{\"field\":\"size\",\"units\":\"screen\"},\"x\":{\"field\":\"x\"},\"y\":{\"field\":\"y\"}},\"id\":\"c7ddbddd-12e6-481b-a8e7-d697fc06d98a\",\"type\":\"Circle\"},{\"attributes\":{\"axis_label\":\"These are their numbers!\",\"formatter\":{\"id\":\"140f96c0-2263-43bf-8047-3a78c16b606d\",\"type\":\"BasicTickFormatter\"},\"plot\":{\"id\":\"00568a72-f2cc-49bd-845e-868f2cfdb86c\",\"subtype\":\"Figure\",\"type\":\"Plot\"},\"ticker\":{\"id\":\"3e5d2b56-8b12-40c7-bf91-d1561c711712\",\"type\":\"BasicTicker\"}},\"id\":\"eaf8dfb5-50ff-4700-8631-abdec724bb89\",\"type\":\"LinearAxis\"},{\"attributes\":{\"source\":{\"id\":\"73e35171-4e61-46d6-9451-d61abde8cfe1\",\"type\":\"ColumnDataSource\"}},\"id\":\"259167c3-4629-4430-acab-e787391e5b66\",\"type\":\"CDSView\"},{\"attributes\":{\"fill_alpha\":{\"value\":0.1},\"fill_color\":{\"value\":\"#1f77b4\"},\"line_alpha\":{\"value\":0.1},\"line_color\":{\"value\":\"#1f77b4\"},\"size\":{\"field\":\"size\",\"units\":\"screen\"},\"x\":{\"field\":\"x\"},\"y\":{\"field\":\"y\"}},\"id\":\"19cbadb7-1ceb-4d6b-81c6-adfa4e219b24\",\"type\":\"Circle\"},{\"attributes\":{\"data_source\":{\"id\":\"b713b303-6235-4b51-847a-d4587984a6ea\",\"type\":\"ColumnDataSource\"},\"glyph\":{\"id\":\"327d4eed-373b-4aec-974c-35a15a52c2be\",\"type\":\"Circle\"},\"hover_glyph\":null,\"muted_glyph\":null,\"nonselection_glyph\":{\"id\":\"19cbadb7-1ceb-4d6b-81c6-adfa4e219b24\",\"type\":\"Circle\"},\"selection_glyph\":null,\"view\":{\"id\":\"bccdb535-fcb4-41db-ab8f-938835ce807b\",\"type\":\"CDSView\"}},\"id\":\"2a5a6185-b1a5-45e5-8f3c-f16f2792e7d8\",\"type\":\"GlyphRenderer\"},{\"attributes\":{},\"id\":\"3e5d2b56-8b12-40c7-bf91-d1561c711712\",\"type\":\"BasicTicker\"},{\"attributes\":{\"dimension\":1,\"grid_line_color\":{\"value\":\"Pink\"},\"plot\":{\"id\":\"00568a72-f2cc-49bd-845e-868f2cfdb86c\",\"subtype\":\"Figure\",\"type\":\"Plot\"},\"ticker\":{\"id\":\"3e5d2b56-8b12-40c7-bf91-d1561c711712\",\"type\":\"BasicTicker\"}},\"id\":\"c4f70085-bbf2-465c-af0d-bf7e3de12bc9\",\"type\":\"Grid\"},{\"attributes\":{\"fill_alpha\":{\"value\":0.1},\"fill_color\":{\"value\":\"#1f77b4\"},\"line_alpha\":{\"value\":0.1},\"line_color\":{\"value\":\"#1f77b4\"},\"size\":{\"field\":\"size\",\"units\":\"screen\"},\"x\":{\"field\":\"x\"},\"y\":{\"field\":\"y\"}},\"id\":\"5ed36411-d53a-4d7e-b602-86b769b08292\",\"type\":\"Square\"},{\"attributes\":{},\"id\":\"140f96c0-2263-43bf-8047-3a78c16b606d\",\"type\":\"BasicTickFormatter\"},{\"attributes\":{},\"id\":\"f38411c5-91f0-47af-a7e5-23eb7bd330df\",\"type\":\"PanTool\"},{\"attributes\":{\"source\":{\"id\":\"0a3b0cab-7ec9-4ba5-86bc-471afe432044\",\"type\":\"ColumnDataSource\"}},\"id\":\"3f032310-12a5-42fc-ba18-b3f21c2face6\",\"type\":\"CDSView\"},{\"attributes\":{\"fill_alpha\":{\"value\":0.75},\"fill_color\":{\"field\":\"fill_color\"},\"line_alpha\":{\"value\":0.75},\"line_color\":{\"field\":\"line_color\"},\"size\":{\"field\":\"size\",\"units\":\"screen\"},\"x\":{\"field\":\"x\"},\"y\":{\"field\":\"y\"}},\"id\":\"9e77d9e1-5e2e-4cc4-bd86-c34b22f4bdf9\",\"type\":\"Square\"},{\"attributes\":{\"callback\":null,\"column_names\":[\"x\",\"y\",\"size\",\"fill_color\",\"line_color\"],\"data\":{\"fill_color\":[\"brown\",\"gray\",\"blue\"],\"line_color\":[\"brown\",\"gray\",\"blue\"],\"size\":[3,5,7],\"x\":[4,6,9],\"y\":[6,6,8]}},\"id\":\"ad5dc2c8-ab98-4e56-9c3a-9cfb4adc43d0\",\"type\":\"ColumnDataSource\"},{\"attributes\":{\"callback\":null,\"column_names\":[\"size\",\"x\",\"y\",\"fill_color\",\"line_color\"],\"data\":{\"fill_color\":[\"blue\",\"red\",\"green\"],\"line_color\":[\"blue\",\"red\",\"green\"],\"size\":[5,10,15],\"x\":[3,6,5],\"y\":[4,8,10]}},\"id\":\"f53eebb9-a8e0-48f0-807a-fd92ab91ecf6\",\"type\":\"ColumnDataSource\"},{\"attributes\":{\"fill_alpha\":{\"value\":0.25},\"fill_color\":{\"field\":\"fill_color\"},\"line_alpha\":{\"value\":0.25},\"line_color\":{\"field\":\"line_color\"},\"size\":{\"field\":\"size\",\"units\":\"screen\"},\"x\":{\"field\":\"x\"},\"y\":{\"field\":\"y\"}},\"id\":\"260cb716-5b80-4c69-b8ce-0197a2f4358b\",\"type\":\"Circle\"},{\"attributes\":{\"source\":{\"id\":\"b713b303-6235-4b51-847a-d4587984a6ea\",\"type\":\"ColumnDataSource\"}},\"id\":\"bccdb535-fcb4-41db-ab8f-938835ce807b\",\"type\":\"CDSView\"},{\"attributes\":{\"line_alpha\":{\"value\":0.1},\"line_color\":{\"value\":\"#1f77b4\"},\"line_width\":{\"value\":3},\"x\":{\"field\":\"x\"},\"y\":{\"field\":\"y\"}},\"id\":\"14a6238e-3651-4b88-b992-f1f76cbdc48f\",\"type\":\"Line\"},{\"attributes\":{\"line_alpha\":{\"value\":0.1},\"line_color\":{\"value\":\"#1f77b4\"},\"line_width\":{\"value\":3},\"x\":{\"field\":\"x\"},\"y\":{\"field\":\"y\"}},\"id\":\"dbda7dc3-7201-4527-937c-7ab49bef5a9b\",\"type\":\"Line\"},{\"attributes\":{\"fill_alpha\":{\"value\":0.1},\"fill_color\":{\"value\":\"#1f77b4\"},\"line_alpha\":{\"value\":0.1},\"line_color\":{\"value\":\"#1f77b4\"},\"size\":{\"field\":\"size\",\"units\":\"screen\"},\"x\":{\"field\":\"x\"},\"y\":{\"field\":\"y\"}},\"id\":\"3a67ccc1-160b-4ce6-9e5c-53c0424c3f88\",\"type\":\"Circle\"},{\"attributes\":{\"data_source\":{\"id\":\"73e35171-4e61-46d6-9451-d61abde8cfe1\",\"type\":\"ColumnDataSource\"},\"glyph\":{\"id\":\"b7191c91-1d4f-4e27-aef1-0f25794a6fc4\",\"type\":\"Line\"},\"hover_glyph\":null,\"muted_glyph\":null,\"nonselection_glyph\":{\"id\":\"dbda7dc3-7201-4527-937c-7ab49bef5a9b\",\"type\":\"Line\"},\"selection_glyph\":null,\"view\":{\"id\":\"259167c3-4629-4430-acab-e787391e5b66\",\"type\":\"CDSView\"}},\"id\":\"2a3ec0be-6f7c-4474-b44d-6add1b6611fd\",\"type\":\"GlyphRenderer\"},{\"attributes\":{\"fill_alpha\":{\"value\":0.75},\"fill_color\":{\"field\":\"fill_color\"},\"line_alpha\":{\"value\":0.75},\"line_color\":{\"field\":\"line_color\"},\"size\":{\"field\":\"size\",\"units\":\"screen\"},\"x\":{\"field\":\"x\"},\"y\":{\"field\":\"y\"}},\"id\":\"9acb6a22-1bfc-4244-8d82-1fd4f71dc6a3\",\"type\":\"Square\"},{\"attributes\":{\"data_source\":{\"id\":\"ad5dc2c8-ab98-4e56-9c3a-9cfb4adc43d0\",\"type\":\"ColumnDataSource\"},\"glyph\":{\"id\":\"9e77d9e1-5e2e-4cc4-bd86-c34b22f4bdf9\",\"type\":\"Square\"},\"hover_glyph\":null,\"muted_glyph\":null,\"nonselection_glyph\":{\"id\":\"5ed36411-d53a-4d7e-b602-86b769b08292\",\"type\":\"Square\"},\"selection_glyph\":null,\"view\":{\"id\":\"26c39989-0351-429d-b771-4d1b331a03ee\",\"type\":\"CDSView\"}},\"id\":\"5f7b7492-ea1e-4f05-8c82-4971fb3bac1d\",\"type\":\"GlyphRenderer\"},{\"attributes\":{\"overlay\":{\"id\":\"93479817-e9a5-414f-b098-d7c35c930d6c\",\"type\":\"BoxAnnotation\"}},\"id\":\"8f625cdd-959b-4a37-b75d-02d240480a35\",\"type\":\"BoxZoomTool\"},{\"attributes\":{\"line_color\":{\"value\":\"red\"},\"line_width\":{\"value\":3},\"x\":{\"field\":\"x\"},\"y\":{\"field\":\"y\"}},\"id\":\"9a7ee6cf-828a-4741-8b96-5bae36402805\",\"type\":\"Line\"},{\"attributes\":{\"data_source\":{\"id\":\"412a6c5f-452f-4871-93c5-1f6d2adedf38\",\"type\":\"ColumnDataSource\"},\"glyph\":{\"id\":\"9a7ee6cf-828a-4741-8b96-5bae36402805\",\"type\":\"Line\"},\"hover_glyph\":null,\"muted_glyph\":null,\"nonselection_glyph\":{\"id\":\"14a6238e-3651-4b88-b992-f1f76cbdc48f\",\"type\":\"Line\"},\"selection_glyph\":null,\"view\":{\"id\":\"01a545e8-245d-4b22-96a6-d40de65ccde2\",\"type\":\"CDSView\"}},\"id\":\"588d8d65-87bc-4052-957c-aba35ada773b\",\"type\":\"GlyphRenderer\"},{\"attributes\":{},\"id\":\"1c000e99-9f3f-4564-bf6d-bf1323998ec2\",\"type\":\"ResetTool\"},{\"attributes\":{\"data_source\":{\"id\":\"f53eebb9-a8e0-48f0-807a-fd92ab91ecf6\",\"type\":\"ColumnDataSource\"},\"glyph\":{\"id\":\"260cb716-5b80-4c69-b8ce-0197a2f4358b\",\"type\":\"Circle\"},\"hover_glyph\":null,\"muted_glyph\":null,\"nonselection_glyph\":{\"id\":\"3a67ccc1-160b-4ce6-9e5c-53c0424c3f88\",\"type\":\"Circle\"},\"selection_glyph\":null,\"view\":{\"id\":\"d6f493f7-a95c-4921-932e-b8ca93464eef\",\"type\":\"CDSView\"}},\"id\":\"7ac9ca7c-adfb-4924-b8eb-ea13c33f1b18\",\"type\":\"GlyphRenderer\"},{\"attributes\":{\"callback\":null},\"id\":\"8ef9c4bc-5e80-451a-ae36-a878981eb609\",\"type\":\"TapTool\"},{\"attributes\":{\"source\":{\"id\":\"ad5dc2c8-ab98-4e56-9c3a-9cfb4adc43d0\",\"type\":\"ColumnDataSource\"}},\"id\":\"26c39989-0351-429d-b771-4d1b331a03ee\",\"type\":\"CDSView\"},{\"attributes\":{\"bottom_units\":\"screen\",\"fill_alpha\":{\"value\":0.5},\"fill_color\":{\"value\":\"lightgrey\"},\"left_units\":\"screen\",\"level\":\"overlay\",\"line_alpha\":{\"value\":1.0},\"line_color\":{\"value\":\"black\"},\"line_dash\":[4,4],\"line_width\":{\"value\":2},\"plot\":null,\"render_mode\":\"css\",\"right_units\":\"screen\",\"top_units\":\"screen\"},\"id\":\"93479817-e9a5-414f-b098-d7c35c930d6c\",\"type\":\"BoxAnnotation\"},{\"attributes\":{\"source\":{\"id\":\"412a6c5f-452f-4871-93c5-1f6d2adedf38\",\"type\":\"ColumnDataSource\"}},\"id\":\"01a545e8-245d-4b22-96a6-d40de65ccde2\",\"type\":\"CDSView\"},{\"attributes\":{\"source\":{\"id\":\"db5ae9fc-086f-496e-a994-d1f72ed99782\",\"type\":\"ColumnDataSource\"}},\"id\":\"2f66068e-ddc8-49df-8752-d300e886d8c4\",\"type\":\"CDSView\"},{\"attributes\":{\"source\":{\"id\":\"f53eebb9-a8e0-48f0-807a-fd92ab91ecf6\",\"type\":\"ColumnDataSource\"}},\"id\":\"d6f493f7-a95c-4921-932e-b8ca93464eef\",\"type\":\"CDSView\"},{\"attributes\":{\"callback\":null,\"column_names\":[\"x\",\"y\"],\"data\":{\"x\":[3,6,5],\"y\":[4,8,10]}},\"id\":\"412a6c5f-452f-4871-93c5-1f6d2adedf38\",\"type\":\"ColumnDataSource\"},{\"attributes\":{\"callback\":null,\"column_names\":[\"x\",\"y\",\"size\",\"fill_color\",\"line_color\"],\"data\":{\"fill_color\":[\"brown\",\"gray\",\"blue\"],\"line_color\":[\"brown\",\"gray\",\"blue\"],\"size\":[3,5,7],\"x\":[4,6,9],\"y\":[6,6,8]}},\"id\":\"0a3b0cab-7ec9-4ba5-86bc-471afe432044\",\"type\":\"ColumnDataSource\"},{\"attributes\":{},\"id\":\"0c1a7f71-b1cb-4f85-9b70-2f7f3143921a\",\"type\":\"WheelZoomTool\"},{\"attributes\":{\"callback\":null,\"column_names\":[\"size\",\"x\",\"y\",\"fill_color\",\"line_color\"],\"data\":{\"fill_color\":[\"blue\",\"red\",\"green\"],\"line_color\":[\"blue\",\"red\",\"green\"],\"size\":[5,10,15],\"x\":[3,6,5],\"y\":[4,8,10]}},\"id\":\"4d88a7e4-7107-48f1-80b6-dae003bbcdd9\",\"type\":\"ColumnDataSource\"},{\"attributes\":{\"below\":[{\"id\":\"c4ba089f-5037-43e8-924e-9cd8637e47be\",\"type\":\"LinearAxis\"}],\"left\":[{\"id\":\"eaf8dfb5-50ff-4700-8631-abdec724bb89\",\"type\":\"LinearAxis\"}],\"plot_height\":400,\"plot_width\":400,\"renderers\":[{\"id\":\"c4ba089f-5037-43e8-924e-9cd8637e47be\",\"type\":\"LinearAxis\"},{\"id\":\"1a434eaa-4b6b-4c74-aa5d-823f4ddc10ba\",\"type\":\"Grid\"},{\"id\":\"eaf8dfb5-50ff-4700-8631-abdec724bb89\",\"type\":\"LinearAxis\"},{\"id\":\"c4f70085-bbf2-465c-af0d-bf7e3de12bc9\",\"type\":\"Grid\"},{\"id\":\"93479817-e9a5-414f-b098-d7c35c930d6c\",\"type\":\"BoxAnnotation\"},{\"id\":\"f6ec6d54-5a06-4e00-87a9-bb9f26bf02db\",\"type\":\"GlyphRenderer\"},{\"id\":\"727ad2e9-fb7e-4ce8-a921-8718f0d33c22\",\"type\":\"GlyphRenderer\"},{\"id\":\"2a3ec0be-6f7c-4474-b44d-6add1b6611fd\",\"type\":\"GlyphRenderer\"},{\"id\":\"2a5a6185-b1a5-45e5-8f3c-f16f2792e7d8\",\"type\":\"GlyphRenderer\"},{\"id\":\"5f7b7492-ea1e-4f05-8c82-4971fb3bac1d\",\"type\":\"GlyphRenderer\"},{\"id\":\"7ac9ca7c-adfb-4924-b8eb-ea13c33f1b18\",\"type\":\"GlyphRenderer\"},{\"id\":\"0a678f4c-392e-45c9-8614-af4a1a2f220d\",\"type\":\"GlyphRenderer\"},{\"id\":\"588d8d65-87bc-4052-957c-aba35ada773b\",\"type\":\"GlyphRenderer\"}],\"title\":{\"id\":\"dd1e9923-8e57-4dfe-a4fc-4326b30e2a98\",\"type\":\"Title\"},\"toolbar\":{\"id\":\"fac19b66-6622-438a-b798-725bbc0438e4\",\"type\":\"Toolbar\"},\"toolbar_location\":\"above\",\"x_range\":{\"id\":\"a9124023-a62f-4b64-ba14-cec29d7ec119\",\"type\":\"DataRange1d\"},\"x_scale\":{\"id\":\"059bdbd1-ea8b-47f8-a110-c9f95ae72e38\",\"type\":\"LinearScale\"},\"y_range\":{\"id\":\"b1b9425e-3774-46e1-ab1b-b39e2c288acd\",\"type\":\"DataRange1d\"},\"y_scale\":{\"id\":\"1819af45-d43f-4a19-849a-0c9c6d399f33\",\"type\":\"LinearScale\"}},\"id\":\"00568a72-f2cc-49bd-845e-868f2cfdb86c\",\"subtype\":\"Figure\",\"type\":\"Plot\"},{\"attributes\":{\"callback\":null,\"column_names\":[\"x\",\"y\",\"size\",\"fill_color\",\"line_color\"],\"data\":{\"fill_color\":[\"brown\",\"gray\",\"blue\"],\"line_color\":[\"brown\",\"gray\",\"blue\"],\"size\":[3,5,7],\"x\":[4,6,9],\"y\":[6,6,8]}},\"id\":\"db5ae9fc-086f-496e-a994-d1f72ed99782\",\"type\":\"ColumnDataSource\"},{\"attributes\":{},\"id\":\"a5c58f78-6785-47ea-a34d-39a5121bdfc3\",\"type\":\"BasicTickFormatter\"},{\"attributes\":{\"data_source\":{\"id\":\"db5ae9fc-086f-496e-a994-d1f72ed99782\",\"type\":\"ColumnDataSource\"},\"glyph\":{\"id\":\"faa9caa8-cc16-4bae-a793-dff443a93438\",\"type\":\"Square\"},\"hover_glyph\":null,\"muted_glyph\":null,\"nonselection_glyph\":{\"id\":\"f22c29c9-1ef1-4973-8896-1107969cac76\",\"type\":\"Square\"},\"selection_glyph\":null,\"view\":{\"id\":\"2f66068e-ddc8-49df-8752-d300e886d8c4\",\"type\":\"CDSView\"}},\"id\":\"0a678f4c-392e-45c9-8614-af4a1a2f220d\",\"type\":\"GlyphRenderer\"},{\"attributes\":{\"callback\":null},\"id\":\"0529b39f-3041-4521-b334-79bd1f19acf8\",\"type\":\"HoverTool\"},{\"attributes\":{\"source\":{\"id\":\"4d88a7e4-7107-48f1-80b6-dae003bbcdd9\",\"type\":\"ColumnDataSource\"}},\"id\":\"a47a084b-aa5b-447c-b67d-451aeda8dcde\",\"type\":\"CDSView\"},{\"attributes\":{\"plot\":null,\"text\":\"My first Bokeh plot\"},\"id\":\"dd1e9923-8e57-4dfe-a4fc-4326b30e2a98\",\"type\":\"Title\"},{\"attributes\":{\"fill_alpha\":{\"value\":0.25},\"fill_color\":{\"field\":\"fill_color\"},\"line_alpha\":{\"value\":0.25},\"line_color\":{\"field\":\"line_color\"},\"size\":{\"field\":\"size\",\"units\":\"screen\"},\"x\":{\"field\":\"x\"},\"y\":{\"field\":\"y\"}},\"id\":\"02b6d8e4-0663-4017-8754-8502b6d65c30\",\"type\":\"Circle\"},{\"attributes\":{\"callback\":null,\"start\":0},\"id\":\"a9124023-a62f-4b64-ba14-cec29d7ec119\",\"type\":\"DataRange1d\"},{\"attributes\":{\"active_drag\":\"auto\",\"active_inspect\":\"auto\",\"active_scroll\":\"auto\",\"active_tap\":\"auto\",\"tools\":[{\"id\":\"f38411c5-91f0-47af-a7e5-23eb7bd330df\",\"type\":\"PanTool\"},{\"id\":\"8f625cdd-959b-4a37-b75d-02d240480a35\",\"type\":\"BoxZoomTool\"},{\"id\":\"1c000e99-9f3f-4564-bf6d-bf1323998ec2\",\"type\":\"ResetTool\"},{\"id\":\"8ef9c4bc-5e80-451a-ae36-a878981eb609\",\"type\":\"TapTool\"},{\"id\":\"0c1a7f71-b1cb-4f85-9b70-2f7f3143921a\",\"type\":\"WheelZoomTool\"},{\"id\":\"0529b39f-3041-4521-b334-79bd1f19acf8\",\"type\":\"HoverTool\"}]},\"id\":\"fac19b66-6622-438a-b798-725bbc0438e4\",\"type\":\"Toolbar\"},{\"attributes\":{\"fill_alpha\":{\"value\":0.1},\"fill_color\":{\"value\":\"#1f77b4\"},\"line_alpha\":{\"value\":0.1},\"line_color\":{\"value\":\"#1f77b4\"},\"size\":{\"field\":\"size\",\"units\":\"screen\"},\"x\":{\"field\":\"x\"},\"y\":{\"field\":\"y\"}},\"id\":\"f22c29c9-1ef1-4973-8896-1107969cac76\",\"type\":\"Square\"},{\"attributes\":{\"axis_label\":\"Some things on X\",\"formatter\":{\"id\":\"a5c58f78-6785-47ea-a34d-39a5121bdfc3\",\"type\":\"BasicTickFormatter\"},\"plot\":{\"id\":\"00568a72-f2cc-49bd-845e-868f2cfdb86c\",\"subtype\":\"Figure\",\"type\":\"Plot\"},\"ticker\":{\"id\":\"bee5ffd8-114d-423a-b4c4-fce28c7d44b6\",\"type\":\"BasicTicker\"}},\"id\":\"c4ba089f-5037-43e8-924e-9cd8637e47be\",\"type\":\"LinearAxis\"},{\"attributes\":{\"fill_alpha\":{\"value\":0.75},\"fill_color\":{\"field\":\"fill_color\"},\"line_alpha\":{\"value\":0.75},\"line_color\":{\"field\":\"line_color\"},\"size\":{\"field\":\"size\",\"units\":\"screen\"},\"x\":{\"field\":\"x\"},\"y\":{\"field\":\"y\"}},\"id\":\"faa9caa8-cc16-4bae-a793-dff443a93438\",\"type\":\"Square\"},{\"attributes\":{},\"id\":\"059bdbd1-ea8b-47f8-a110-c9f95ae72e38\",\"type\":\"LinearScale\"},{\"attributes\":{\"callback\":null,\"start\":0},\"id\":\"b1b9425e-3774-46e1-ab1b-b39e2c288acd\",\"type\":\"DataRange1d\"},{\"attributes\":{},\"id\":\"1819af45-d43f-4a19-849a-0c9c6d399f33\",\"type\":\"LinearScale\"}],\"root_ids\":[\"00568a72-f2cc-49bd-845e-868f2cfdb86c\"]},\"title\":\"Bokeh Application\",\"version\":\"0.12.10\"}};\n",
       "    var render_items = [{\"docid\":\"33de2606-0d03-461f-b83a-590b21f981f1\",\"elementid\":\"0a1bd002-7ccf-4178-b76b-0190da3cadf8\",\"modelid\":\"00568a72-f2cc-49bd-845e-868f2cfdb86c\"}];\n",
       "\n",
       "    root.Bokeh.embed.embed_items(docs_json, render_items);\n",
       "  }\n",
       "\n",
       "  if (root.Bokeh !== undefined) {\n",
       "    embed_document(root);\n",
       "  } else {\n",
       "    var attempts = 0;\n",
       "    var timer = setInterval(function(root) {\n",
       "      if (root.Bokeh !== undefined) {\n",
       "        embed_document(root);\n",
       "        clearInterval(timer);\n",
       "      }\n",
       "      attempts++;\n",
       "      if (attempts > 100) {\n",
       "        console.log(\"Bokeh: ERROR: Unable to embed document because BokehJS library is missing\")\n",
       "        clearInterval(timer);\n",
       "      }\n",
       "    }, 10, root)\n",
       "  }\n",
       "})(window);"
      ],
      "application/vnd.bokehjs_exec.v0+json": ""
     },
     "metadata": {
      "application/vnd.bokehjs_exec.v0+json": {
       "id": "00568a72-f2cc-49bd-845e-868f2cfdb86c"
      }
     },
     "output_type": "display_data"
    }
   ],
   "source": [
    "# Everytime you make any change, you need to SHOW to get the updated chart \n",
    "show(myPlot)"
   ]
  },
  {
   "cell_type": "markdown",
   "metadata": {},
   "source": [
    "## Updating glyph and axis label properties"
   ]
  },
  {
   "cell_type": "code",
   "execution_count": 13,
   "metadata": {},
   "outputs": [
    {
     "data": {
      "text/html": [
       "\n",
       "<div class=\"bk-root\">\n",
       "    <div class=\"bk-plotdiv\" id=\"17785af0-9d4a-42b8-8cb3-5566006d9367\"></div>\n",
       "</div>"
      ]
     },
     "metadata": {},
     "output_type": "display_data"
    },
    {
     "data": {
      "application/javascript": [
       "(function(root) {\n",
       "  function embed_document(root) {\n",
       "    var docs_json = {\"89775b55-630e-4d36-ad9b-70163af26750\":{\"roots\":{\"references\":[{\"attributes\":{\"data_source\":{\"id\":\"4d88a7e4-7107-48f1-80b6-dae003bbcdd9\",\"type\":\"ColumnDataSource\"},\"glyph\":{\"id\":\"02b6d8e4-0663-4017-8754-8502b6d65c30\",\"type\":\"Circle\"},\"hover_glyph\":null,\"muted_glyph\":null,\"nonselection_glyph\":{\"id\":\"c7ddbddd-12e6-481b-a8e7-d697fc06d98a\",\"type\":\"Circle\"},\"selection_glyph\":null,\"view\":{\"id\":\"a47a084b-aa5b-447c-b67d-451aeda8dcde\",\"type\":\"CDSView\"}},\"id\":\"f6ec6d54-5a06-4e00-87a9-bb9f26bf02db\",\"type\":\"GlyphRenderer\"},{\"attributes\":{\"callback\":null,\"column_names\":[\"x\",\"y\"],\"data\":{\"x\":[3,6,5],\"y\":[4,8,10]}},\"id\":\"73e35171-4e61-46d6-9451-d61abde8cfe1\",\"type\":\"ColumnDataSource\"},{\"attributes\":{},\"id\":\"bee5ffd8-114d-423a-b4c4-fce28c7d44b6\",\"type\":\"BasicTicker\"},{\"attributes\":{\"callback\":null,\"column_names\":[\"size\",\"x\",\"y\",\"fill_color\",\"line_color\"],\"data\":{\"fill_color\":[\"blue\",\"red\",\"green\"],\"line_color\":[\"blue\",\"red\",\"green\"],\"size\":[5,10,15],\"x\":[3,6,5],\"y\":[4,8,10]}},\"id\":\"b713b303-6235-4b51-847a-d4587984a6ea\",\"type\":\"ColumnDataSource\"},{\"attributes\":{\"fill_alpha\":{\"value\":0.1},\"fill_color\":{\"value\":\"#1f77b4\"},\"line_alpha\":{\"value\":0.1},\"line_color\":{\"value\":\"#1f77b4\"},\"size\":{\"field\":\"size\",\"units\":\"screen\"},\"x\":{\"field\":\"x\"},\"y\":{\"field\":\"y\"}},\"id\":\"303ffce2-8a5a-499e-8d81-585611ba5471\",\"type\":\"Square\"},{\"attributes\":{\"fill_alpha\":{\"value\":0.25},\"fill_color\":{\"field\":\"fill_color\"},\"line_alpha\":{\"value\":0.25},\"line_color\":{\"field\":\"line_color\"},\"size\":{\"field\":\"size\",\"units\":\"screen\"},\"x\":{\"field\":\"x\"},\"y\":{\"field\":\"y\"}},\"id\":\"327d4eed-373b-4aec-974c-35a15a52c2be\",\"type\":\"Circle\"},{\"attributes\":{\"line_color\":{\"value\":\"red\"},\"line_width\":{\"value\":3},\"x\":{\"field\":\"x\"},\"y\":{\"field\":\"y\"}},\"id\":\"b7191c91-1d4f-4e27-aef1-0f25794a6fc4\",\"type\":\"Line\"},{\"attributes\":{\"grid_line_color\":{\"value\":null},\"plot\":{\"id\":\"00568a72-f2cc-49bd-845e-868f2cfdb86c\",\"subtype\":\"Figure\",\"type\":\"Plot\"},\"ticker\":{\"id\":\"bee5ffd8-114d-423a-b4c4-fce28c7d44b6\",\"type\":\"BasicTicker\"}},\"id\":\"1a434eaa-4b6b-4c74-aa5d-823f4ddc10ba\",\"type\":\"Grid\"},{\"attributes\":{\"data_source\":{\"id\":\"0a3b0cab-7ec9-4ba5-86bc-471afe432044\",\"type\":\"ColumnDataSource\"},\"glyph\":{\"id\":\"9acb6a22-1bfc-4244-8d82-1fd4f71dc6a3\",\"type\":\"Square\"},\"hover_glyph\":null,\"muted_glyph\":null,\"nonselection_glyph\":{\"id\":\"303ffce2-8a5a-499e-8d81-585611ba5471\",\"type\":\"Square\"},\"selection_glyph\":null,\"view\":{\"id\":\"3f032310-12a5-42fc-ba18-b3f21c2face6\",\"type\":\"CDSView\"}},\"id\":\"727ad2e9-fb7e-4ce8-a921-8718f0d33c22\",\"type\":\"GlyphRenderer\"},{\"attributes\":{\"fill_alpha\":{\"value\":0.1},\"fill_color\":{\"value\":\"#1f77b4\"},\"line_alpha\":{\"value\":0.1},\"line_color\":{\"value\":\"#1f77b4\"},\"size\":{\"field\":\"size\",\"units\":\"screen\"},\"x\":{\"field\":\"x\"},\"y\":{\"field\":\"y\"}},\"id\":\"c7ddbddd-12e6-481b-a8e7-d697fc06d98a\",\"type\":\"Circle\"},{\"attributes\":{\"axis_label\":\"Changing the Y axis label\",\"formatter\":{\"id\":\"140f96c0-2263-43bf-8047-3a78c16b606d\",\"type\":\"BasicTickFormatter\"},\"plot\":{\"id\":\"00568a72-f2cc-49bd-845e-868f2cfdb86c\",\"subtype\":\"Figure\",\"type\":\"Plot\"},\"ticker\":{\"id\":\"3e5d2b56-8b12-40c7-bf91-d1561c711712\",\"type\":\"BasicTicker\"}},\"id\":\"eaf8dfb5-50ff-4700-8631-abdec724bb89\",\"type\":\"LinearAxis\"},{\"attributes\":{\"source\":{\"id\":\"73e35171-4e61-46d6-9451-d61abde8cfe1\",\"type\":\"ColumnDataSource\"}},\"id\":\"259167c3-4629-4430-acab-e787391e5b66\",\"type\":\"CDSView\"},{\"attributes\":{\"fill_alpha\":{\"value\":0.1},\"fill_color\":{\"value\":\"#1f77b4\"},\"line_alpha\":{\"value\":0.1},\"line_color\":{\"value\":\"#1f77b4\"},\"size\":{\"field\":\"size\",\"units\":\"screen\"},\"x\":{\"field\":\"x\"},\"y\":{\"field\":\"y\"}},\"id\":\"19cbadb7-1ceb-4d6b-81c6-adfa4e219b24\",\"type\":\"Circle\"},{\"attributes\":{\"data_source\":{\"id\":\"b713b303-6235-4b51-847a-d4587984a6ea\",\"type\":\"ColumnDataSource\"},\"glyph\":{\"id\":\"327d4eed-373b-4aec-974c-35a15a52c2be\",\"type\":\"Circle\"},\"hover_glyph\":null,\"muted_glyph\":null,\"nonselection_glyph\":{\"id\":\"19cbadb7-1ceb-4d6b-81c6-adfa4e219b24\",\"type\":\"Circle\"},\"selection_glyph\":null,\"view\":{\"id\":\"bccdb535-fcb4-41db-ab8f-938835ce807b\",\"type\":\"CDSView\"}},\"id\":\"2a5a6185-b1a5-45e5-8f3c-f16f2792e7d8\",\"type\":\"GlyphRenderer\"},{\"attributes\":{},\"id\":\"3e5d2b56-8b12-40c7-bf91-d1561c711712\",\"type\":\"BasicTicker\"},{\"attributes\":{\"dimension\":1,\"grid_line_color\":{\"value\":\"Pink\"},\"plot\":{\"id\":\"00568a72-f2cc-49bd-845e-868f2cfdb86c\",\"subtype\":\"Figure\",\"type\":\"Plot\"},\"ticker\":{\"id\":\"3e5d2b56-8b12-40c7-bf91-d1561c711712\",\"type\":\"BasicTicker\"}},\"id\":\"c4f70085-bbf2-465c-af0d-bf7e3de12bc9\",\"type\":\"Grid\"},{\"attributes\":{\"fill_alpha\":{\"value\":0.1},\"fill_color\":{\"value\":\"#1f77b4\"},\"line_alpha\":{\"value\":0.1},\"line_color\":{\"value\":\"#1f77b4\"},\"size\":{\"field\":\"size\",\"units\":\"screen\"},\"x\":{\"field\":\"x\"},\"y\":{\"field\":\"y\"}},\"id\":\"5ed36411-d53a-4d7e-b602-86b769b08292\",\"type\":\"Square\"},{\"attributes\":{},\"id\":\"140f96c0-2263-43bf-8047-3a78c16b606d\",\"type\":\"BasicTickFormatter\"},{\"attributes\":{},\"id\":\"f38411c5-91f0-47af-a7e5-23eb7bd330df\",\"type\":\"PanTool\"},{\"attributes\":{\"source\":{\"id\":\"0a3b0cab-7ec9-4ba5-86bc-471afe432044\",\"type\":\"ColumnDataSource\"}},\"id\":\"3f032310-12a5-42fc-ba18-b3f21c2face6\",\"type\":\"CDSView\"},{\"attributes\":{\"fill_alpha\":{\"value\":0.75},\"fill_color\":{\"field\":\"fill_color\"},\"line_alpha\":{\"value\":0.75},\"line_color\":{\"field\":\"line_color\"},\"size\":{\"field\":\"size\",\"units\":\"screen\"},\"x\":{\"field\":\"x\"},\"y\":{\"field\":\"y\"}},\"id\":\"9e77d9e1-5e2e-4cc4-bd86-c34b22f4bdf9\",\"type\":\"Square\"},{\"attributes\":{\"callback\":null,\"column_names\":[\"x\",\"y\",\"size\",\"fill_color\",\"line_color\"],\"data\":{\"fill_color\":[\"brown\",\"gray\",\"blue\"],\"line_color\":[\"brown\",\"gray\",\"blue\"],\"size\":[3,5,7],\"x\":[4,6,9],\"y\":[6,6,8]}},\"id\":\"ad5dc2c8-ab98-4e56-9c3a-9cfb4adc43d0\",\"type\":\"ColumnDataSource\"},{\"attributes\":{\"callback\":null,\"column_names\":[\"size\",\"x\",\"y\",\"fill_color\",\"line_color\"],\"data\":{\"fill_color\":[\"blue\",\"red\",\"green\"],\"line_color\":[\"blue\",\"red\",\"green\"],\"size\":[5,10,15],\"x\":[3,6,5],\"y\":[4,8,10]}},\"id\":\"f53eebb9-a8e0-48f0-807a-fd92ab91ecf6\",\"type\":\"ColumnDataSource\"},{\"attributes\":{\"fill_alpha\":{\"value\":0.25},\"fill_color\":{\"field\":\"fill_color\"},\"line_alpha\":{\"value\":0.25},\"line_color\":{\"field\":\"line_color\"},\"size\":{\"units\":\"screen\",\"value\":20},\"x\":{\"field\":\"x\"},\"y\":{\"field\":\"y\"}},\"id\":\"260cb716-5b80-4c69-b8ce-0197a2f4358b\",\"type\":\"Circle\"},{\"attributes\":{\"source\":{\"id\":\"b713b303-6235-4b51-847a-d4587984a6ea\",\"type\":\"ColumnDataSource\"}},\"id\":\"bccdb535-fcb4-41db-ab8f-938835ce807b\",\"type\":\"CDSView\"},{\"attributes\":{\"line_alpha\":{\"value\":0.1},\"line_color\":{\"value\":\"#1f77b4\"},\"line_width\":{\"value\":3},\"x\":{\"field\":\"x\"},\"y\":{\"field\":\"y\"}},\"id\":\"14a6238e-3651-4b88-b992-f1f76cbdc48f\",\"type\":\"Line\"},{\"attributes\":{\"line_alpha\":{\"value\":0.1},\"line_color\":{\"value\":\"#1f77b4\"},\"line_width\":{\"value\":3},\"x\":{\"field\":\"x\"},\"y\":{\"field\":\"y\"}},\"id\":\"dbda7dc3-7201-4527-937c-7ab49bef5a9b\",\"type\":\"Line\"},{\"attributes\":{\"fill_alpha\":{\"value\":0.1},\"fill_color\":{\"value\":\"#1f77b4\"},\"line_alpha\":{\"value\":0.1},\"line_color\":{\"value\":\"#1f77b4\"},\"size\":{\"field\":\"size\",\"units\":\"screen\"},\"x\":{\"field\":\"x\"},\"y\":{\"field\":\"y\"}},\"id\":\"3a67ccc1-160b-4ce6-9e5c-53c0424c3f88\",\"type\":\"Circle\"},{\"attributes\":{\"data_source\":{\"id\":\"73e35171-4e61-46d6-9451-d61abde8cfe1\",\"type\":\"ColumnDataSource\"},\"glyph\":{\"id\":\"b7191c91-1d4f-4e27-aef1-0f25794a6fc4\",\"type\":\"Line\"},\"hover_glyph\":null,\"muted_glyph\":null,\"nonselection_glyph\":{\"id\":\"dbda7dc3-7201-4527-937c-7ab49bef5a9b\",\"type\":\"Line\"},\"selection_glyph\":null,\"view\":{\"id\":\"259167c3-4629-4430-acab-e787391e5b66\",\"type\":\"CDSView\"}},\"id\":\"2a3ec0be-6f7c-4474-b44d-6add1b6611fd\",\"type\":\"GlyphRenderer\"},{\"attributes\":{\"fill_alpha\":{\"value\":0.75},\"fill_color\":{\"field\":\"fill_color\"},\"line_alpha\":{\"value\":0.75},\"line_color\":{\"field\":\"line_color\"},\"size\":{\"field\":\"size\",\"units\":\"screen\"},\"x\":{\"field\":\"x\"},\"y\":{\"field\":\"y\"}},\"id\":\"9acb6a22-1bfc-4244-8d82-1fd4f71dc6a3\",\"type\":\"Square\"},{\"attributes\":{\"data_source\":{\"id\":\"ad5dc2c8-ab98-4e56-9c3a-9cfb4adc43d0\",\"type\":\"ColumnDataSource\"},\"glyph\":{\"id\":\"9e77d9e1-5e2e-4cc4-bd86-c34b22f4bdf9\",\"type\":\"Square\"},\"hover_glyph\":null,\"muted_glyph\":null,\"nonselection_glyph\":{\"id\":\"5ed36411-d53a-4d7e-b602-86b769b08292\",\"type\":\"Square\"},\"selection_glyph\":null,\"view\":{\"id\":\"26c39989-0351-429d-b771-4d1b331a03ee\",\"type\":\"CDSView\"}},\"id\":\"5f7b7492-ea1e-4f05-8c82-4971fb3bac1d\",\"type\":\"GlyphRenderer\"},{\"attributes\":{\"overlay\":{\"id\":\"93479817-e9a5-414f-b098-d7c35c930d6c\",\"type\":\"BoxAnnotation\"}},\"id\":\"8f625cdd-959b-4a37-b75d-02d240480a35\",\"type\":\"BoxZoomTool\"},{\"attributes\":{\"line_color\":{\"value\":\"blue\"},\"line_width\":{\"value\":1},\"x\":{\"field\":\"x\"},\"y\":{\"field\":\"y\"}},\"id\":\"9a7ee6cf-828a-4741-8b96-5bae36402805\",\"type\":\"Line\"},{\"attributes\":{\"data_source\":{\"id\":\"412a6c5f-452f-4871-93c5-1f6d2adedf38\",\"type\":\"ColumnDataSource\"},\"glyph\":{\"id\":\"9a7ee6cf-828a-4741-8b96-5bae36402805\",\"type\":\"Line\"},\"hover_glyph\":null,\"muted_glyph\":null,\"nonselection_glyph\":{\"id\":\"14a6238e-3651-4b88-b992-f1f76cbdc48f\",\"type\":\"Line\"},\"selection_glyph\":null,\"view\":{\"id\":\"01a545e8-245d-4b22-96a6-d40de65ccde2\",\"type\":\"CDSView\"}},\"id\":\"588d8d65-87bc-4052-957c-aba35ada773b\",\"type\":\"GlyphRenderer\"},{\"attributes\":{},\"id\":\"1c000e99-9f3f-4564-bf6d-bf1323998ec2\",\"type\":\"ResetTool\"},{\"attributes\":{\"data_source\":{\"id\":\"f53eebb9-a8e0-48f0-807a-fd92ab91ecf6\",\"type\":\"ColumnDataSource\"},\"glyph\":{\"id\":\"260cb716-5b80-4c69-b8ce-0197a2f4358b\",\"type\":\"Circle\"},\"hover_glyph\":null,\"muted_glyph\":null,\"nonselection_glyph\":{\"id\":\"3a67ccc1-160b-4ce6-9e5c-53c0424c3f88\",\"type\":\"Circle\"},\"selection_glyph\":null,\"view\":{\"id\":\"d6f493f7-a95c-4921-932e-b8ca93464eef\",\"type\":\"CDSView\"}},\"id\":\"7ac9ca7c-adfb-4924-b8eb-ea13c33f1b18\",\"type\":\"GlyphRenderer\"},{\"attributes\":{\"callback\":null},\"id\":\"8ef9c4bc-5e80-451a-ae36-a878981eb609\",\"type\":\"TapTool\"},{\"attributes\":{\"source\":{\"id\":\"ad5dc2c8-ab98-4e56-9c3a-9cfb4adc43d0\",\"type\":\"ColumnDataSource\"}},\"id\":\"26c39989-0351-429d-b771-4d1b331a03ee\",\"type\":\"CDSView\"},{\"attributes\":{\"bottom_units\":\"screen\",\"fill_alpha\":{\"value\":0.5},\"fill_color\":{\"value\":\"lightgrey\"},\"left_units\":\"screen\",\"level\":\"overlay\",\"line_alpha\":{\"value\":1.0},\"line_color\":{\"value\":\"black\"},\"line_dash\":[4,4],\"line_width\":{\"value\":2},\"plot\":null,\"render_mode\":\"css\",\"right_units\":\"screen\",\"top_units\":\"screen\"},\"id\":\"93479817-e9a5-414f-b098-d7c35c930d6c\",\"type\":\"BoxAnnotation\"},{\"attributes\":{\"source\":{\"id\":\"412a6c5f-452f-4871-93c5-1f6d2adedf38\",\"type\":\"ColumnDataSource\"}},\"id\":\"01a545e8-245d-4b22-96a6-d40de65ccde2\",\"type\":\"CDSView\"},{\"attributes\":{\"source\":{\"id\":\"db5ae9fc-086f-496e-a994-d1f72ed99782\",\"type\":\"ColumnDataSource\"}},\"id\":\"2f66068e-ddc8-49df-8752-d300e886d8c4\",\"type\":\"CDSView\"},{\"attributes\":{\"source\":{\"id\":\"f53eebb9-a8e0-48f0-807a-fd92ab91ecf6\",\"type\":\"ColumnDataSource\"}},\"id\":\"d6f493f7-a95c-4921-932e-b8ca93464eef\",\"type\":\"CDSView\"},{\"attributes\":{\"callback\":null,\"column_names\":[\"x\",\"y\"],\"data\":{\"x\":[3,6,5],\"y\":[4,8,10]}},\"id\":\"412a6c5f-452f-4871-93c5-1f6d2adedf38\",\"type\":\"ColumnDataSource\"},{\"attributes\":{\"callback\":null,\"column_names\":[\"x\",\"y\",\"size\",\"fill_color\",\"line_color\"],\"data\":{\"fill_color\":[\"brown\",\"gray\",\"blue\"],\"line_color\":[\"brown\",\"gray\",\"blue\"],\"size\":[3,5,7],\"x\":[4,6,9],\"y\":[6,6,8]}},\"id\":\"0a3b0cab-7ec9-4ba5-86bc-471afe432044\",\"type\":\"ColumnDataSource\"},{\"attributes\":{},\"id\":\"0c1a7f71-b1cb-4f85-9b70-2f7f3143921a\",\"type\":\"WheelZoomTool\"},{\"attributes\":{\"callback\":null,\"column_names\":[\"size\",\"x\",\"y\",\"fill_color\",\"line_color\"],\"data\":{\"fill_color\":[\"blue\",\"red\",\"green\"],\"line_color\":[\"blue\",\"red\",\"green\"],\"size\":[5,10,15],\"x\":[3,6,5],\"y\":[4,8,10]}},\"id\":\"4d88a7e4-7107-48f1-80b6-dae003bbcdd9\",\"type\":\"ColumnDataSource\"},{\"attributes\":{\"below\":[{\"id\":\"c4ba089f-5037-43e8-924e-9cd8637e47be\",\"type\":\"LinearAxis\"}],\"left\":[{\"id\":\"eaf8dfb5-50ff-4700-8631-abdec724bb89\",\"type\":\"LinearAxis\"}],\"plot_height\":400,\"plot_width\":400,\"renderers\":[{\"id\":\"c4ba089f-5037-43e8-924e-9cd8637e47be\",\"type\":\"LinearAxis\"},{\"id\":\"1a434eaa-4b6b-4c74-aa5d-823f4ddc10ba\",\"type\":\"Grid\"},{\"id\":\"eaf8dfb5-50ff-4700-8631-abdec724bb89\",\"type\":\"LinearAxis\"},{\"id\":\"c4f70085-bbf2-465c-af0d-bf7e3de12bc9\",\"type\":\"Grid\"},{\"id\":\"93479817-e9a5-414f-b098-d7c35c930d6c\",\"type\":\"BoxAnnotation\"},{\"id\":\"f6ec6d54-5a06-4e00-87a9-bb9f26bf02db\",\"type\":\"GlyphRenderer\"},{\"id\":\"727ad2e9-fb7e-4ce8-a921-8718f0d33c22\",\"type\":\"GlyphRenderer\"},{\"id\":\"2a3ec0be-6f7c-4474-b44d-6add1b6611fd\",\"type\":\"GlyphRenderer\"},{\"id\":\"2a5a6185-b1a5-45e5-8f3c-f16f2792e7d8\",\"type\":\"GlyphRenderer\"},{\"id\":\"5f7b7492-ea1e-4f05-8c82-4971fb3bac1d\",\"type\":\"GlyphRenderer\"},{\"id\":\"7ac9ca7c-adfb-4924-b8eb-ea13c33f1b18\",\"type\":\"GlyphRenderer\"},{\"id\":\"0a678f4c-392e-45c9-8614-af4a1a2f220d\",\"type\":\"GlyphRenderer\"},{\"id\":\"588d8d65-87bc-4052-957c-aba35ada773b\",\"type\":\"GlyphRenderer\"}],\"title\":{\"id\":\"dd1e9923-8e57-4dfe-a4fc-4326b30e2a98\",\"type\":\"Title\"},\"toolbar\":{\"id\":\"fac19b66-6622-438a-b798-725bbc0438e4\",\"type\":\"Toolbar\"},\"toolbar_location\":\"above\",\"x_range\":{\"id\":\"a9124023-a62f-4b64-ba14-cec29d7ec119\",\"type\":\"DataRange1d\"},\"x_scale\":{\"id\":\"059bdbd1-ea8b-47f8-a110-c9f95ae72e38\",\"type\":\"LinearScale\"},\"y_range\":{\"id\":\"b1b9425e-3774-46e1-ab1b-b39e2c288acd\",\"type\":\"DataRange1d\"},\"y_scale\":{\"id\":\"1819af45-d43f-4a19-849a-0c9c6d399f33\",\"type\":\"LinearScale\"}},\"id\":\"00568a72-f2cc-49bd-845e-868f2cfdb86c\",\"subtype\":\"Figure\",\"type\":\"Plot\"},{\"attributes\":{\"callback\":null,\"column_names\":[\"x\",\"y\",\"size\",\"fill_color\",\"line_color\"],\"data\":{\"fill_color\":[\"brown\",\"gray\",\"blue\"],\"line_color\":[\"brown\",\"gray\",\"blue\"],\"size\":[3,5,7],\"x\":[4,6,9],\"y\":[6,6,8]}},\"id\":\"db5ae9fc-086f-496e-a994-d1f72ed99782\",\"type\":\"ColumnDataSource\"},{\"attributes\":{},\"id\":\"a5c58f78-6785-47ea-a34d-39a5121bdfc3\",\"type\":\"BasicTickFormatter\"},{\"attributes\":{\"data_source\":{\"id\":\"db5ae9fc-086f-496e-a994-d1f72ed99782\",\"type\":\"ColumnDataSource\"},\"glyph\":{\"id\":\"faa9caa8-cc16-4bae-a793-dff443a93438\",\"type\":\"Square\"},\"hover_glyph\":null,\"muted_glyph\":null,\"nonselection_glyph\":{\"id\":\"f22c29c9-1ef1-4973-8896-1107969cac76\",\"type\":\"Square\"},\"selection_glyph\":null,\"view\":{\"id\":\"2f66068e-ddc8-49df-8752-d300e886d8c4\",\"type\":\"CDSView\"}},\"id\":\"0a678f4c-392e-45c9-8614-af4a1a2f220d\",\"type\":\"GlyphRenderer\"},{\"attributes\":{\"callback\":null},\"id\":\"0529b39f-3041-4521-b334-79bd1f19acf8\",\"type\":\"HoverTool\"},{\"attributes\":{\"source\":{\"id\":\"4d88a7e4-7107-48f1-80b6-dae003bbcdd9\",\"type\":\"ColumnDataSource\"}},\"id\":\"a47a084b-aa5b-447c-b67d-451aeda8dcde\",\"type\":\"CDSView\"},{\"attributes\":{\"plot\":null,\"text\":\"My first Bokeh plot\"},\"id\":\"dd1e9923-8e57-4dfe-a4fc-4326b30e2a98\",\"type\":\"Title\"},{\"attributes\":{\"fill_alpha\":{\"value\":0.25},\"fill_color\":{\"field\":\"fill_color\"},\"line_alpha\":{\"value\":0.25},\"line_color\":{\"field\":\"line_color\"},\"size\":{\"field\":\"size\",\"units\":\"screen\"},\"x\":{\"field\":\"x\"},\"y\":{\"field\":\"y\"}},\"id\":\"02b6d8e4-0663-4017-8754-8502b6d65c30\",\"type\":\"Circle\"},{\"attributes\":{\"callback\":null,\"start\":0},\"id\":\"a9124023-a62f-4b64-ba14-cec29d7ec119\",\"type\":\"DataRange1d\"},{\"attributes\":{\"active_drag\":\"auto\",\"active_inspect\":\"auto\",\"active_scroll\":\"auto\",\"active_tap\":\"auto\",\"tools\":[{\"id\":\"f38411c5-91f0-47af-a7e5-23eb7bd330df\",\"type\":\"PanTool\"},{\"id\":\"8f625cdd-959b-4a37-b75d-02d240480a35\",\"type\":\"BoxZoomTool\"},{\"id\":\"1c000e99-9f3f-4564-bf6d-bf1323998ec2\",\"type\":\"ResetTool\"},{\"id\":\"8ef9c4bc-5e80-451a-ae36-a878981eb609\",\"type\":\"TapTool\"},{\"id\":\"0c1a7f71-b1cb-4f85-9b70-2f7f3143921a\",\"type\":\"WheelZoomTool\"},{\"id\":\"0529b39f-3041-4521-b334-79bd1f19acf8\",\"type\":\"HoverTool\"}]},\"id\":\"fac19b66-6622-438a-b798-725bbc0438e4\",\"type\":\"Toolbar\"},{\"attributes\":{\"fill_alpha\":{\"value\":0.1},\"fill_color\":{\"value\":\"#1f77b4\"},\"line_alpha\":{\"value\":0.1},\"line_color\":{\"value\":\"#1f77b4\"},\"size\":{\"field\":\"size\",\"units\":\"screen\"},\"x\":{\"field\":\"x\"},\"y\":{\"field\":\"y\"}},\"id\":\"f22c29c9-1ef1-4973-8896-1107969cac76\",\"type\":\"Square\"},{\"attributes\":{\"axis_label\":\"Changing the X axis label\",\"formatter\":{\"id\":\"a5c58f78-6785-47ea-a34d-39a5121bdfc3\",\"type\":\"BasicTickFormatter\"},\"plot\":{\"id\":\"00568a72-f2cc-49bd-845e-868f2cfdb86c\",\"subtype\":\"Figure\",\"type\":\"Plot\"},\"ticker\":{\"id\":\"bee5ffd8-114d-423a-b4c4-fce28c7d44b6\",\"type\":\"BasicTicker\"}},\"id\":\"c4ba089f-5037-43e8-924e-9cd8637e47be\",\"type\":\"LinearAxis\"},{\"attributes\":{\"fill_alpha\":{\"value\":0.75},\"fill_color\":{\"value\":\"red\"},\"line_alpha\":{\"value\":0.75},\"line_color\":{\"value\":\"red\"},\"size\":{\"field\":\"size\",\"units\":\"screen\"},\"x\":{\"field\":\"x\"},\"y\":{\"field\":\"y\"}},\"id\":\"faa9caa8-cc16-4bae-a793-dff443a93438\",\"type\":\"Square\"},{\"attributes\":{},\"id\":\"059bdbd1-ea8b-47f8-a110-c9f95ae72e38\",\"type\":\"LinearScale\"},{\"attributes\":{\"callback\":null,\"start\":0},\"id\":\"b1b9425e-3774-46e1-ab1b-b39e2c288acd\",\"type\":\"DataRange1d\"},{\"attributes\":{},\"id\":\"1819af45-d43f-4a19-849a-0c9c6d399f33\",\"type\":\"LinearScale\"}],\"root_ids\":[\"00568a72-f2cc-49bd-845e-868f2cfdb86c\"]},\"title\":\"Bokeh Application\",\"version\":\"0.12.10\"}};\n",
       "    var render_items = [{\"docid\":\"89775b55-630e-4d36-ad9b-70163af26750\",\"elementid\":\"17785af0-9d4a-42b8-8cb3-5566006d9367\",\"modelid\":\"00568a72-f2cc-49bd-845e-868f2cfdb86c\"}];\n",
       "\n",
       "    root.Bokeh.embed.embed_items(docs_json, render_items);\n",
       "  }\n",
       "\n",
       "  if (root.Bokeh !== undefined) {\n",
       "    embed_document(root);\n",
       "  } else {\n",
       "    var attempts = 0;\n",
       "    var timer = setInterval(function(root) {\n",
       "      if (root.Bokeh !== undefined) {\n",
       "        embed_document(root);\n",
       "        clearInterval(timer);\n",
       "      }\n",
       "      attempts++;\n",
       "      if (attempts > 100) {\n",
       "        console.log(\"Bokeh: ERROR: Unable to embed document because BokehJS library is missing\")\n",
       "        clearInterval(timer);\n",
       "      }\n",
       "    }, 10, root)\n",
       "  }\n",
       "})(window);"
      ],
      "application/vnd.bokehjs_exec.v0+json": ""
     },
     "metadata": {
      "application/vnd.bokehjs_exec.v0+json": {
       "id": "00568a72-f2cc-49bd-845e-868f2cfdb86c"
      }
     },
     "output_type": "display_data"
    }
   ],
   "source": [
    "# You can also control the various properties of renderer glyphs in the following manner as well. \n",
    "# Here is an example with size, fill_color, line_color, and line_width\n",
    "cir.glyph.size = 20\n",
    "sq.glyph.fill_color = 'red'\n",
    "sq.glyph.line_color = 'red'\n",
    "lin.glyph.line_color = 'blue'\n",
    "lin.glyph.line_width= 1\n",
    "\n",
    "# Labeling axes\n",
    "myPlot.xaxis.axis_label = \"Changing the X axis label\"\n",
    "myPlot.yaxis.axis_label = \"Changing the Y axis label\"\n",
    "\n",
    "# Show the plot\n",
    "show(myPlot)"
   ]
  },
  {
   "cell_type": "markdown",
   "metadata": {},
   "source": [
    "# Create a plot with bar glyphs -- Categorical Range"
   ]
  },
  {
   "cell_type": "code",
   "execution_count": 10,
   "metadata": {},
   "outputs": [
    {
     "data": {
      "text/html": [
       "\n",
       "<div class=\"bk-root\">\n",
       "    <div class=\"bk-plotdiv\" id=\"e36548a7-3aa7-4eca-ba0f-b7250e747acd\"></div>\n",
       "</div>"
      ]
     },
     "metadata": {},
     "output_type": "display_data"
    },
    {
     "data": {
      "application/javascript": [
       "(function(root) {\n",
       "  function embed_document(root) {\n",
       "    var docs_json = {\"b97e2027-c355-45cc-8d03-2becb6868155\":{\"roots\":{\"references\":[{\"attributes\":{},\"id\":\"5fe2eaa9-5edb-45df-918c-568ece205c8a\",\"type\":\"ResetTool\"},{\"attributes\":{},\"id\":\"98570dc5-ef90-4233-b6be-02cd732c6828\",\"type\":\"CategoricalTickFormatter\"},{\"attributes\":{\"callback\":null},\"id\":\"cb938b35-4644-4002-bc3e-6333325d7204\",\"type\":\"DataRange1d\"},{\"attributes\":{\"formatter\":{\"id\":\"99a8f6f0-3a66-41ef-90aa-4d9c2f113fe4\",\"type\":\"BasicTickFormatter\"},\"plot\":{\"id\":\"3c1e39ed-8f93-4ddb-8d1c-1d0203790e82\",\"subtype\":\"Figure\",\"type\":\"Plot\"},\"ticker\":{\"id\":\"c70bd3d6-b342-4f72-bfa6-7685e56337ec\",\"type\":\"BasicTicker\"}},\"id\":\"abf4ee17-c58b-4a55-8757-8663c5f12e08\",\"type\":\"LinearAxis\"},{\"attributes\":{\"data_source\":{\"id\":\"81c973e1-d404-4354-a9bb-4488781e453e\",\"type\":\"ColumnDataSource\"},\"glyph\":{\"id\":\"530f050c-55db-4853-a419-ff1910d333e0\",\"type\":\"VBar\"},\"hover_glyph\":null,\"muted_glyph\":null,\"nonselection_glyph\":{\"id\":\"f4ad65f0-2d6f-4719-9a98-802c5c72ba1e\",\"type\":\"VBar\"},\"selection_glyph\":null,\"view\":{\"id\":\"7c9aa064-3a6e-48eb-8410-4b520e0d84dc\",\"type\":\"CDSView\"}},\"id\":\"ebe88e70-67a8-4476-87b6-af1aa74714c5\",\"type\":\"GlyphRenderer\"},{\"attributes\":{},\"id\":\"e908e1c1-6d6f-40fd-bea7-5985083b182d\",\"type\":\"CategoricalScale\"},{\"attributes\":{},\"id\":\"2d876812-1b5f-4b33-99d8-0bb638c4864b\",\"type\":\"LinearScale\"},{\"attributes\":{\"plot\":{\"id\":\"3c1e39ed-8f93-4ddb-8d1c-1d0203790e82\",\"subtype\":\"Figure\",\"type\":\"Plot\"},\"ticker\":{\"id\":\"c2533ded-450d-4535-9589-2223b5cf6b02\",\"type\":\"CategoricalTicker\"}},\"id\":\"3ad0b419-64dd-4949-a728-fbd055eda7fa\",\"type\":\"Grid\"},{\"attributes\":{\"fill_color\":{\"field\":\"fill_color\"},\"line_color\":{\"field\":\"line_color\"},\"top\":{\"field\":\"top\"},\"width\":{\"value\":0.3},\"x\":{\"field\":\"x\"}},\"id\":\"530f050c-55db-4853-a419-ff1910d333e0\",\"type\":\"VBar\"},{\"attributes\":{\"callback\":null,\"column_names\":[\"x\",\"top\",\"fill_color\",\"line_color\"],\"data\":{\"fill_color\":[\"red\",\"yellow\",\"blue\"],\"line_color\":[\"red\",\"yellow\",\"blue\"],\"top\":[20000,300,400000],\"x\":[\"bananas\",\"apples\",\"organges\"]}},\"id\":\"81c973e1-d404-4354-a9bb-4488781e453e\",\"type\":\"ColumnDataSource\"},{\"attributes\":{\"formatter\":{\"id\":\"98570dc5-ef90-4233-b6be-02cd732c6828\",\"type\":\"CategoricalTickFormatter\"},\"plot\":{\"id\":\"3c1e39ed-8f93-4ddb-8d1c-1d0203790e82\",\"subtype\":\"Figure\",\"type\":\"Plot\"},\"ticker\":{\"id\":\"c2533ded-450d-4535-9589-2223b5cf6b02\",\"type\":\"CategoricalTicker\"}},\"id\":\"52eefd99-3ca2-4584-a840-08fdb8fa5117\",\"type\":\"CategoricalAxis\"},{\"attributes\":{\"active_drag\":\"auto\",\"active_inspect\":\"auto\",\"active_scroll\":\"auto\",\"active_tap\":\"auto\",\"tools\":[{\"id\":\"86a53f6f-ea8a-4611-a009-58ef0b2719e7\",\"type\":\"PanTool\"},{\"id\":\"b3bcb6eb-5ae4-483c-a75a-218b7fd058f5\",\"type\":\"BoxZoomTool\"},{\"id\":\"5fe2eaa9-5edb-45df-918c-568ece205c8a\",\"type\":\"ResetTool\"}]},\"id\":\"b9b541ab-7e20-4af4-a4d9-d9b8224e82b4\",\"type\":\"Toolbar\"},{\"attributes\":{},\"id\":\"99a8f6f0-3a66-41ef-90aa-4d9c2f113fe4\",\"type\":\"BasicTickFormatter\"},{\"attributes\":{},\"id\":\"c2533ded-450d-4535-9589-2223b5cf6b02\",\"type\":\"CategoricalTicker\"},{\"attributes\":{},\"id\":\"c70bd3d6-b342-4f72-bfa6-7685e56337ec\",\"type\":\"BasicTicker\"},{\"attributes\":{\"dimension\":1,\"plot\":{\"id\":\"3c1e39ed-8f93-4ddb-8d1c-1d0203790e82\",\"subtype\":\"Figure\",\"type\":\"Plot\"},\"ticker\":{\"id\":\"c70bd3d6-b342-4f72-bfa6-7685e56337ec\",\"type\":\"BasicTicker\"}},\"id\":\"f88db192-de24-4f5f-b176-bface8c33a55\",\"type\":\"Grid\"},{\"attributes\":{\"fill_alpha\":{\"value\":0.1},\"fill_color\":{\"value\":\"#1f77b4\"},\"line_alpha\":{\"value\":0.1},\"line_color\":{\"value\":\"#1f77b4\"},\"top\":{\"field\":\"top\"},\"width\":{\"value\":0.3},\"x\":{\"field\":\"x\"}},\"id\":\"f4ad65f0-2d6f-4719-9a98-802c5c72ba1e\",\"type\":\"VBar\"},{\"attributes\":{\"bottom_units\":\"screen\",\"fill_alpha\":{\"value\":0.5},\"fill_color\":{\"value\":\"lightgrey\"},\"left_units\":\"screen\",\"level\":\"overlay\",\"line_alpha\":{\"value\":1.0},\"line_color\":{\"value\":\"black\"},\"line_dash\":[4,4],\"line_width\":{\"value\":2},\"plot\":null,\"render_mode\":\"css\",\"right_units\":\"screen\",\"top_units\":\"screen\"},\"id\":\"4ef7e27e-9ea9-4026-8ba3-bf886b573443\",\"type\":\"BoxAnnotation\"},{\"attributes\":{},\"id\":\"86a53f6f-ea8a-4611-a009-58ef0b2719e7\",\"type\":\"PanTool\"},{\"attributes\":{\"below\":[{\"id\":\"52eefd99-3ca2-4584-a840-08fdb8fa5117\",\"type\":\"CategoricalAxis\"}],\"left\":[{\"id\":\"abf4ee17-c58b-4a55-8757-8663c5f12e08\",\"type\":\"LinearAxis\"}],\"plot_height\":400,\"plot_width\":400,\"renderers\":[{\"id\":\"52eefd99-3ca2-4584-a840-08fdb8fa5117\",\"type\":\"CategoricalAxis\"},{\"id\":\"3ad0b419-64dd-4949-a728-fbd055eda7fa\",\"type\":\"Grid\"},{\"id\":\"abf4ee17-c58b-4a55-8757-8663c5f12e08\",\"type\":\"LinearAxis\"},{\"id\":\"f88db192-de24-4f5f-b176-bface8c33a55\",\"type\":\"Grid\"},{\"id\":\"4ef7e27e-9ea9-4026-8ba3-bf886b573443\",\"type\":\"BoxAnnotation\"},{\"id\":\"ebe88e70-67a8-4476-87b6-af1aa74714c5\",\"type\":\"GlyphRenderer\"}],\"title\":{\"id\":\"ef0d9543-b475-4f2c-b443-c3e16ee417e0\",\"type\":\"Title\"},\"toolbar\":{\"id\":\"b9b541ab-7e20-4af4-a4d9-d9b8224e82b4\",\"type\":\"Toolbar\"},\"x_range\":{\"id\":\"272ca20f-5914-455e-89ee-125c6f46d61f\",\"type\":\"FactorRange\"},\"x_scale\":{\"id\":\"e908e1c1-6d6f-40fd-bea7-5985083b182d\",\"type\":\"CategoricalScale\"},\"y_range\":{\"id\":\"cb938b35-4644-4002-bc3e-6333325d7204\",\"type\":\"DataRange1d\"},\"y_scale\":{\"id\":\"2d876812-1b5f-4b33-99d8-0bb638c4864b\",\"type\":\"LinearScale\"}},\"id\":\"3c1e39ed-8f93-4ddb-8d1c-1d0203790e82\",\"subtype\":\"Figure\",\"type\":\"Plot\"},{\"attributes\":{\"plot\":null,\"text\":\"My First Bar Plot\"},\"id\":\"ef0d9543-b475-4f2c-b443-c3e16ee417e0\",\"type\":\"Title\"},{\"attributes\":{\"source\":{\"id\":\"81c973e1-d404-4354-a9bb-4488781e453e\",\"type\":\"ColumnDataSource\"}},\"id\":\"7c9aa064-3a6e-48eb-8410-4b520e0d84dc\",\"type\":\"CDSView\"},{\"attributes\":{\"overlay\":{\"id\":\"4ef7e27e-9ea9-4026-8ba3-bf886b573443\",\"type\":\"BoxAnnotation\"}},\"id\":\"b3bcb6eb-5ae4-483c-a75a-218b7fd058f5\",\"type\":\"BoxZoomTool\"},{\"attributes\":{\"callback\":null,\"factors\":[\"bananas\",\"apples\",\"organges\"]},\"id\":\"272ca20f-5914-455e-89ee-125c6f46d61f\",\"type\":\"FactorRange\"}],\"root_ids\":[\"3c1e39ed-8f93-4ddb-8d1c-1d0203790e82\"]},\"title\":\"Bokeh Application\",\"version\":\"0.12.10\"}};\n",
       "    var render_items = [{\"docid\":\"b97e2027-c355-45cc-8d03-2becb6868155\",\"elementid\":\"e36548a7-3aa7-4eca-ba0f-b7250e747acd\",\"modelid\":\"3c1e39ed-8f93-4ddb-8d1c-1d0203790e82\"}];\n",
       "\n",
       "    root.Bokeh.embed.embed_items(docs_json, render_items);\n",
       "  }\n",
       "\n",
       "  if (root.Bokeh !== undefined) {\n",
       "    embed_document(root);\n",
       "  } else {\n",
       "    var attempts = 0;\n",
       "    var timer = setInterval(function(root) {\n",
       "      if (root.Bokeh !== undefined) {\n",
       "        embed_document(root);\n",
       "        clearInterval(timer);\n",
       "      }\n",
       "      attempts++;\n",
       "      if (attempts > 100) {\n",
       "        console.log(\"Bokeh: ERROR: Unable to embed document because BokehJS library is missing\")\n",
       "        clearInterval(timer);\n",
       "      }\n",
       "    }, 10, root)\n",
       "  }\n",
       "})(window);"
      ],
      "application/vnd.bokehjs_exec.v0+json": ""
     },
     "metadata": {
      "application/vnd.bokehjs_exec.v0+json": {
       "id": "3c1e39ed-8f93-4ddb-8d1c-1d0203790e82"
      }
     },
     "output_type": "display_data"
    }
   ],
   "source": [
    "# Categories for the axis, say X-axis\n",
    "fruits=['bananas', 'apples', 'organges']\n",
    "\n",
    "# Step-1: Create figure object with categorical range\n",
    "mybar = figure(height=400, width=400,\n",
    "               # specify the categorical range \n",
    "               x_range=fruits,\n",
    "               title=\"My First Bar Plot\",\n",
    "               tools=\"pan,box_zoom,reset\")\n",
    "\n",
    "# Step-2: Add vbar glyph\n",
    "mybar.vbar(# specify the xy values, width, and color\n",
    "           x = fruits, \n",
    "           top = [20000,300,400000], \n",
    "           width = 0.3, \n",
    "           color = ['red','yellow','blue']\n",
    "           )\n",
    "\n",
    "# Step-3: Show\n",
    "show(mybar)"
   ]
  },
  {
   "cell_type": "markdown",
   "metadata": {},
   "source": [
    "### Formatting the tick marks for axes\n",
    "\n",
    "For more details see https://bokeh.pydata.org/en/latest/docs/user_guide/styling.html#tick-label-formats"
   ]
  },
  {
   "cell_type": "code",
   "execution_count": 11,
   "metadata": {
    "collapsed": true
   },
   "outputs": [],
   "source": [
    "from bokeh.models import NumeralTickFormatter"
   ]
  },
  {
   "cell_type": "code",
   "execution_count": 12,
   "metadata": {},
   "outputs": [
    {
     "data": {
      "text/html": [
       "\n",
       "<div class=\"bk-root\">\n",
       "    <div class=\"bk-plotdiv\" id=\"9ddbcc27-5851-421a-8dab-deaab835bcdc\"></div>\n",
       "</div>"
      ]
     },
     "metadata": {},
     "output_type": "display_data"
    },
    {
     "data": {
      "application/javascript": [
       "(function(root) {\n",
       "  function embed_document(root) {\n",
       "    var docs_json = {\"f3dc2c5f-8658-48ee-838f-1a666045f7a9\":{\"roots\":{\"references\":[{\"attributes\":{},\"id\":\"5fe2eaa9-5edb-45df-918c-568ece205c8a\",\"type\":\"ResetTool\"},{\"attributes\":{},\"id\":\"98570dc5-ef90-4233-b6be-02cd732c6828\",\"type\":\"CategoricalTickFormatter\"},{\"attributes\":{\"callback\":null},\"id\":\"cb938b35-4644-4002-bc3e-6333325d7204\",\"type\":\"DataRange1d\"},{\"attributes\":{\"formatter\":{\"id\":\"508181c0-fb67-44c6-ad68-4da53d361931\",\"type\":\"NumeralTickFormatter\"},\"plot\":{\"id\":\"3c1e39ed-8f93-4ddb-8d1c-1d0203790e82\",\"subtype\":\"Figure\",\"type\":\"Plot\"},\"ticker\":{\"id\":\"c70bd3d6-b342-4f72-bfa6-7685e56337ec\",\"type\":\"BasicTicker\"}},\"id\":\"abf4ee17-c58b-4a55-8757-8663c5f12e08\",\"type\":\"LinearAxis\"},{\"attributes\":{\"data_source\":{\"id\":\"81c973e1-d404-4354-a9bb-4488781e453e\",\"type\":\"ColumnDataSource\"},\"glyph\":{\"id\":\"530f050c-55db-4853-a419-ff1910d333e0\",\"type\":\"VBar\"},\"hover_glyph\":null,\"muted_glyph\":null,\"nonselection_glyph\":{\"id\":\"f4ad65f0-2d6f-4719-9a98-802c5c72ba1e\",\"type\":\"VBar\"},\"selection_glyph\":null,\"view\":{\"id\":\"7c9aa064-3a6e-48eb-8410-4b520e0d84dc\",\"type\":\"CDSView\"}},\"id\":\"ebe88e70-67a8-4476-87b6-af1aa74714c5\",\"type\":\"GlyphRenderer\"},{\"attributes\":{},\"id\":\"e908e1c1-6d6f-40fd-bea7-5985083b182d\",\"type\":\"CategoricalScale\"},{\"attributes\":{},\"id\":\"2d876812-1b5f-4b33-99d8-0bb638c4864b\",\"type\":\"LinearScale\"},{\"attributes\":{\"plot\":{\"id\":\"3c1e39ed-8f93-4ddb-8d1c-1d0203790e82\",\"subtype\":\"Figure\",\"type\":\"Plot\"},\"ticker\":{\"id\":\"c2533ded-450d-4535-9589-2223b5cf6b02\",\"type\":\"CategoricalTicker\"}},\"id\":\"3ad0b419-64dd-4949-a728-fbd055eda7fa\",\"type\":\"Grid\"},{\"attributes\":{\"fill_color\":{\"field\":\"fill_color\"},\"line_color\":{\"field\":\"line_color\"},\"top\":{\"field\":\"top\"},\"width\":{\"value\":0.3},\"x\":{\"field\":\"x\"}},\"id\":\"530f050c-55db-4853-a419-ff1910d333e0\",\"type\":\"VBar\"},{\"attributes\":{\"callback\":null,\"column_names\":[\"x\",\"top\",\"fill_color\",\"line_color\"],\"data\":{\"fill_color\":[\"red\",\"yellow\",\"blue\"],\"line_color\":[\"red\",\"yellow\",\"blue\"],\"top\":[20000,300,400000],\"x\":[\"bananas\",\"apples\",\"organges\"]}},\"id\":\"81c973e1-d404-4354-a9bb-4488781e453e\",\"type\":\"ColumnDataSource\"},{\"attributes\":{\"formatter\":{\"id\":\"98570dc5-ef90-4233-b6be-02cd732c6828\",\"type\":\"CategoricalTickFormatter\"},\"plot\":{\"id\":\"3c1e39ed-8f93-4ddb-8d1c-1d0203790e82\",\"subtype\":\"Figure\",\"type\":\"Plot\"},\"ticker\":{\"id\":\"c2533ded-450d-4535-9589-2223b5cf6b02\",\"type\":\"CategoricalTicker\"}},\"id\":\"52eefd99-3ca2-4584-a840-08fdb8fa5117\",\"type\":\"CategoricalAxis\"},{\"attributes\":{\"format\":\"0a\"},\"id\":\"508181c0-fb67-44c6-ad68-4da53d361931\",\"type\":\"NumeralTickFormatter\"},{\"attributes\":{\"active_drag\":\"auto\",\"active_inspect\":\"auto\",\"active_scroll\":\"auto\",\"active_tap\":\"auto\",\"tools\":[{\"id\":\"86a53f6f-ea8a-4611-a009-58ef0b2719e7\",\"type\":\"PanTool\"},{\"id\":\"b3bcb6eb-5ae4-483c-a75a-218b7fd058f5\",\"type\":\"BoxZoomTool\"},{\"id\":\"5fe2eaa9-5edb-45df-918c-568ece205c8a\",\"type\":\"ResetTool\"}]},\"id\":\"b9b541ab-7e20-4af4-a4d9-d9b8224e82b4\",\"type\":\"Toolbar\"},{\"attributes\":{},\"id\":\"c2533ded-450d-4535-9589-2223b5cf6b02\",\"type\":\"CategoricalTicker\"},{\"attributes\":{},\"id\":\"c70bd3d6-b342-4f72-bfa6-7685e56337ec\",\"type\":\"BasicTicker\"},{\"attributes\":{\"dimension\":1,\"plot\":{\"id\":\"3c1e39ed-8f93-4ddb-8d1c-1d0203790e82\",\"subtype\":\"Figure\",\"type\":\"Plot\"},\"ticker\":{\"id\":\"c70bd3d6-b342-4f72-bfa6-7685e56337ec\",\"type\":\"BasicTicker\"}},\"id\":\"f88db192-de24-4f5f-b176-bface8c33a55\",\"type\":\"Grid\"},{\"attributes\":{\"fill_alpha\":{\"value\":0.1},\"fill_color\":{\"value\":\"#1f77b4\"},\"line_alpha\":{\"value\":0.1},\"line_color\":{\"value\":\"#1f77b4\"},\"top\":{\"field\":\"top\"},\"width\":{\"value\":0.3},\"x\":{\"field\":\"x\"}},\"id\":\"f4ad65f0-2d6f-4719-9a98-802c5c72ba1e\",\"type\":\"VBar\"},{\"attributes\":{\"bottom_units\":\"screen\",\"fill_alpha\":{\"value\":0.5},\"fill_color\":{\"value\":\"lightgrey\"},\"left_units\":\"screen\",\"level\":\"overlay\",\"line_alpha\":{\"value\":1.0},\"line_color\":{\"value\":\"black\"},\"line_dash\":[4,4],\"line_width\":{\"value\":2},\"plot\":null,\"render_mode\":\"css\",\"right_units\":\"screen\",\"top_units\":\"screen\"},\"id\":\"4ef7e27e-9ea9-4026-8ba3-bf886b573443\",\"type\":\"BoxAnnotation\"},{\"attributes\":{},\"id\":\"86a53f6f-ea8a-4611-a009-58ef0b2719e7\",\"type\":\"PanTool\"},{\"attributes\":{\"below\":[{\"id\":\"52eefd99-3ca2-4584-a840-08fdb8fa5117\",\"type\":\"CategoricalAxis\"}],\"left\":[{\"id\":\"abf4ee17-c58b-4a55-8757-8663c5f12e08\",\"type\":\"LinearAxis\"}],\"plot_height\":400,\"plot_width\":400,\"renderers\":[{\"id\":\"52eefd99-3ca2-4584-a840-08fdb8fa5117\",\"type\":\"CategoricalAxis\"},{\"id\":\"3ad0b419-64dd-4949-a728-fbd055eda7fa\",\"type\":\"Grid\"},{\"id\":\"abf4ee17-c58b-4a55-8757-8663c5f12e08\",\"type\":\"LinearAxis\"},{\"id\":\"f88db192-de24-4f5f-b176-bface8c33a55\",\"type\":\"Grid\"},{\"id\":\"4ef7e27e-9ea9-4026-8ba3-bf886b573443\",\"type\":\"BoxAnnotation\"},{\"id\":\"ebe88e70-67a8-4476-87b6-af1aa74714c5\",\"type\":\"GlyphRenderer\"}],\"title\":{\"id\":\"ef0d9543-b475-4f2c-b443-c3e16ee417e0\",\"type\":\"Title\"},\"toolbar\":{\"id\":\"b9b541ab-7e20-4af4-a4d9-d9b8224e82b4\",\"type\":\"Toolbar\"},\"x_range\":{\"id\":\"272ca20f-5914-455e-89ee-125c6f46d61f\",\"type\":\"FactorRange\"},\"x_scale\":{\"id\":\"e908e1c1-6d6f-40fd-bea7-5985083b182d\",\"type\":\"CategoricalScale\"},\"y_range\":{\"id\":\"cb938b35-4644-4002-bc3e-6333325d7204\",\"type\":\"DataRange1d\"},\"y_scale\":{\"id\":\"2d876812-1b5f-4b33-99d8-0bb638c4864b\",\"type\":\"LinearScale\"}},\"id\":\"3c1e39ed-8f93-4ddb-8d1c-1d0203790e82\",\"subtype\":\"Figure\",\"type\":\"Plot\"},{\"attributes\":{\"plot\":null,\"text\":\"My First Bar Plot\"},\"id\":\"ef0d9543-b475-4f2c-b443-c3e16ee417e0\",\"type\":\"Title\"},{\"attributes\":{\"source\":{\"id\":\"81c973e1-d404-4354-a9bb-4488781e453e\",\"type\":\"ColumnDataSource\"}},\"id\":\"7c9aa064-3a6e-48eb-8410-4b520e0d84dc\",\"type\":\"CDSView\"},{\"attributes\":{\"overlay\":{\"id\":\"4ef7e27e-9ea9-4026-8ba3-bf886b573443\",\"type\":\"BoxAnnotation\"}},\"id\":\"b3bcb6eb-5ae4-483c-a75a-218b7fd058f5\",\"type\":\"BoxZoomTool\"},{\"attributes\":{\"callback\":null,\"factors\":[\"bananas\",\"apples\",\"organges\"]},\"id\":\"272ca20f-5914-455e-89ee-125c6f46d61f\",\"type\":\"FactorRange\"}],\"root_ids\":[\"3c1e39ed-8f93-4ddb-8d1c-1d0203790e82\"]},\"title\":\"Bokeh Application\",\"version\":\"0.12.10\"}};\n",
       "    var render_items = [{\"docid\":\"f3dc2c5f-8658-48ee-838f-1a666045f7a9\",\"elementid\":\"9ddbcc27-5851-421a-8dab-deaab835bcdc\",\"modelid\":\"3c1e39ed-8f93-4ddb-8d1c-1d0203790e82\"}];\n",
       "\n",
       "    root.Bokeh.embed.embed_items(docs_json, render_items);\n",
       "  }\n",
       "\n",
       "  if (root.Bokeh !== undefined) {\n",
       "    embed_document(root);\n",
       "  } else {\n",
       "    var attempts = 0;\n",
       "    var timer = setInterval(function(root) {\n",
       "      if (root.Bokeh !== undefined) {\n",
       "        embed_document(root);\n",
       "        clearInterval(timer);\n",
       "      }\n",
       "      attempts++;\n",
       "      if (attempts > 100) {\n",
       "        console.log(\"Bokeh: ERROR: Unable to embed document because BokehJS library is missing\")\n",
       "        clearInterval(timer);\n",
       "      }\n",
       "    }, 10, root)\n",
       "  }\n",
       "})(window);"
      ],
      "application/vnd.bokehjs_exec.v0+json": ""
     },
     "metadata": {
      "application/vnd.bokehjs_exec.v0+json": {
       "id": "3c1e39ed-8f93-4ddb-8d1c-1d0203790e82"
      }
     },
     "output_type": "display_data"
    }
   ],
   "source": [
    "# Changing formatting for y-axis\n",
    "mybar.yaxis[0].formatter = NumeralTickFormatter(format=\"0a\")\n",
    "show(mybar)"
   ]
  },
  {
   "cell_type": "code",
   "execution_count": null,
   "metadata": {
    "collapsed": true
   },
   "outputs": [],
   "source": []
  }
 ],
 "metadata": {
  "kernelspec": {
   "display_name": "Python 3",
   "language": "python",
   "name": "python3"
  },
  "language_info": {
   "codemirror_mode": {
    "name": "ipython",
    "version": 3
   },
   "file_extension": ".py",
   "mimetype": "text/x-python",
   "name": "python",
   "nbconvert_exporter": "python",
   "pygments_lexer": "ipython3",
   "version": "3.6.3"
  }
 },
 "nbformat": 4,
 "nbformat_minor": 2
}
