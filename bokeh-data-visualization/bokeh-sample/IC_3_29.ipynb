{
 "cells": [
  {
   "cell_type": "code",
   "execution_count": 1,
   "metadata": {
    "collapsed": true
   },
   "outputs": [],
   "source": [
    "# Standard import statement\n",
    "import pandas as pd\n",
    "from bokeh.io import output_notebook, show\n",
    "from bokeh.plotting import figure"
   ]
  },
  {
   "cell_type": "code",
   "execution_count": 2,
   "metadata": {},
   "outputs": [
    {
     "data": {
      "text/html": [
       "\n",
       "    <div class=\"bk-root\">\n",
       "        <a href=\"https://bokeh.pydata.org\" target=\"_blank\" class=\"bk-logo bk-logo-small bk-logo-notebook\"></a>\n",
       "        <span id=\"e790e46d-c02d-42d2-8f61-542b4bbea6a0\">Loading BokehJS ...</span>\n",
       "    </div>"
      ]
     },
     "metadata": {},
     "output_type": "display_data"
    },
    {
     "data": {
      "application/javascript": [
       "\n",
       "(function(root) {\n",
       "  function now() {\n",
       "    return new Date();\n",
       "  }\n",
       "\n",
       "  var force = true;\n",
       "\n",
       "  if (typeof (root._bokeh_onload_callbacks) === \"undefined\" || force === true) {\n",
       "    root._bokeh_onload_callbacks = [];\n",
       "    root._bokeh_is_loading = undefined;\n",
       "  }\n",
       "\n",
       "  var JS_MIME_TYPE = 'application/javascript';\n",
       "  var HTML_MIME_TYPE = 'text/html';\n",
       "  var EXEC_MIME_TYPE = 'application/vnd.bokehjs_exec.v0+json';\n",
       "  var CLASS_NAME = 'output_bokeh rendered_html';\n",
       "\n",
       "  /**\n",
       "   * Render data to the DOM node\n",
       "   */\n",
       "  function render(props, node) {\n",
       "    var script = document.createElement(\"script\");\n",
       "    node.appendChild(script);\n",
       "  }\n",
       "\n",
       "  /**\n",
       "   * Handle when an output is cleared or removed\n",
       "   */\n",
       "  function handleClearOutput(event, handle) {\n",
       "    var cell = handle.cell;\n",
       "\n",
       "    var id = cell.output_area._bokeh_element_id;\n",
       "    var server_id = cell.output_area._bokeh_server_id;\n",
       "    // Clean up Bokeh references\n",
       "    if (id !== undefined) {\n",
       "      Bokeh.index[id].model.document.clear();\n",
       "      delete Bokeh.index[id];\n",
       "    }\n",
       "\n",
       "    if (server_id !== undefined) {\n",
       "      // Clean up Bokeh references\n",
       "      var cmd = \"from bokeh.io.state import curstate; print(curstate().uuid_to_server['\" + server_id + \"'].get_sessions()[0].document.roots[0]._id)\";\n",
       "      cell.notebook.kernel.execute(cmd, {\n",
       "        iopub: {\n",
       "          output: function(msg) {\n",
       "            var element_id = msg.content.text.trim();\n",
       "            Bokeh.index[element_id].model.document.clear();\n",
       "            delete Bokeh.index[element_id];\n",
       "          }\n",
       "        }\n",
       "      });\n",
       "      // Destroy server and session\n",
       "      var cmd = \"import bokeh.io.notebook as ion; ion.destroy_server('\" + server_id + \"')\";\n",
       "      cell.notebook.kernel.execute(cmd);\n",
       "    }\n",
       "  }\n",
       "\n",
       "  /**\n",
       "   * Handle when a new output is added\n",
       "   */\n",
       "  function handleAddOutput(event, handle) {\n",
       "    var output_area = handle.output_area;\n",
       "    var output = handle.output;\n",
       "\n",
       "    // limit handleAddOutput to display_data with EXEC_MIME_TYPE content only\n",
       "    if ((output.output_type != \"display_data\") || (!output.data.hasOwnProperty(EXEC_MIME_TYPE))) {\n",
       "      return\n",
       "    }\n",
       "\n",
       "    var toinsert = output_area.element.find(`.${CLASS_NAME.split(' ')[0]}`);\n",
       "\n",
       "    if (output.metadata[EXEC_MIME_TYPE][\"id\"] !== undefined) {\n",
       "      toinsert[0].firstChild.textContent = output.data[JS_MIME_TYPE];\n",
       "      // store reference to embed id on output_area\n",
       "      output_area._bokeh_element_id = output.metadata[EXEC_MIME_TYPE][\"id\"];\n",
       "    }\n",
       "    if (output.metadata[EXEC_MIME_TYPE][\"server_id\"] !== undefined) {\n",
       "      var bk_div = document.createElement(\"div\");\n",
       "      bk_div.innerHTML = output.data[HTML_MIME_TYPE];\n",
       "      var script_attrs = bk_div.children[0].attributes;\n",
       "      for (var i = 0; i < script_attrs.length; i++) {\n",
       "        toinsert[0].firstChild.setAttribute(script_attrs[i].name, script_attrs[i].value);\n",
       "      }\n",
       "      // store reference to server id on output_area\n",
       "      output_area._bokeh_server_id = output.metadata[EXEC_MIME_TYPE][\"server_id\"];\n",
       "    }\n",
       "  }\n",
       "\n",
       "  function register_renderer(events, OutputArea) {\n",
       "\n",
       "    function append_mime(data, metadata, element) {\n",
       "      // create a DOM node to render to\n",
       "      var toinsert = this.create_output_subarea(\n",
       "        metadata,\n",
       "        CLASS_NAME,\n",
       "        EXEC_MIME_TYPE\n",
       "      );\n",
       "      this.keyboard_manager.register_events(toinsert);\n",
       "      // Render to node\n",
       "      var props = {data: data, metadata: metadata[EXEC_MIME_TYPE]};\n",
       "      render(props, toinsert[0]);\n",
       "      element.append(toinsert);\n",
       "      return toinsert\n",
       "    }\n",
       "\n",
       "    /* Handle when an output is cleared or removed */\n",
       "    events.on('clear_output.CodeCell', handleClearOutput);\n",
       "    events.on('delete.Cell', handleClearOutput);\n",
       "\n",
       "    /* Handle when a new output is added */\n",
       "    events.on('output_added.OutputArea', handleAddOutput);\n",
       "\n",
       "    /**\n",
       "     * Register the mime type and append_mime function with output_area\n",
       "     */\n",
       "    OutputArea.prototype.register_mime_type(EXEC_MIME_TYPE, append_mime, {\n",
       "      /* Is output safe? */\n",
       "      safe: true,\n",
       "      /* Index of renderer in `output_area.display_order` */\n",
       "      index: 0\n",
       "    });\n",
       "  }\n",
       "\n",
       "  // register the mime type if in Jupyter Notebook environment and previously unregistered\n",
       "  if (root.Jupyter !== undefined) {\n",
       "    var events = require('base/js/events');\n",
       "    var OutputArea = require('notebook/js/outputarea').OutputArea;\n",
       "\n",
       "    if (OutputArea.prototype.mime_types().indexOf(EXEC_MIME_TYPE) == -1) {\n",
       "      register_renderer(events, OutputArea);\n",
       "    }\n",
       "  }\n",
       "\n",
       "  \n",
       "  if (typeof (root._bokeh_timeout) === \"undefined\" || force === true) {\n",
       "    root._bokeh_timeout = Date.now() + 5000;\n",
       "    root._bokeh_failed_load = false;\n",
       "  }\n",
       "\n",
       "  var NB_LOAD_WARNING = {'data': {'text/html':\n",
       "     \"<div style='background-color: #fdd'>\\n\"+\n",
       "     \"<p>\\n\"+\n",
       "     \"BokehJS does not appear to have successfully loaded. If loading BokehJS from CDN, this \\n\"+\n",
       "     \"may be due to a slow or bad network connection. Possible fixes:\\n\"+\n",
       "     \"</p>\\n\"+\n",
       "     \"<ul>\\n\"+\n",
       "     \"<li>re-rerun `output_notebook()` to attempt to load from CDN again, or</li>\\n\"+\n",
       "     \"<li>use INLINE resources instead, as so:</li>\\n\"+\n",
       "     \"</ul>\\n\"+\n",
       "     \"<code>\\n\"+\n",
       "     \"from bokeh.resources import INLINE\\n\"+\n",
       "     \"output_notebook(resources=INLINE)\\n\"+\n",
       "     \"</code>\\n\"+\n",
       "     \"</div>\"}};\n",
       "\n",
       "  function display_loaded() {\n",
       "    var el = document.getElementById(\"e790e46d-c02d-42d2-8f61-542b4bbea6a0\");\n",
       "    if (el != null) {\n",
       "      el.textContent = \"BokehJS is loading...\";\n",
       "    }\n",
       "    if (root.Bokeh !== undefined) {\n",
       "      if (el != null) {\n",
       "        el.textContent = \"BokehJS \" + root.Bokeh.version + \" successfully loaded.\";\n",
       "      }\n",
       "    } else if (Date.now() < root._bokeh_timeout) {\n",
       "      setTimeout(display_loaded, 100)\n",
       "    }\n",
       "  }\n",
       "\n",
       "\n",
       "  function run_callbacks() {\n",
       "    try {\n",
       "      root._bokeh_onload_callbacks.forEach(function(callback) { callback() });\n",
       "    }\n",
       "    finally {\n",
       "      delete root._bokeh_onload_callbacks\n",
       "    }\n",
       "    console.info(\"Bokeh: all callbacks have finished\");\n",
       "  }\n",
       "\n",
       "  function load_libs(js_urls, callback) {\n",
       "    root._bokeh_onload_callbacks.push(callback);\n",
       "    if (root._bokeh_is_loading > 0) {\n",
       "      console.log(\"Bokeh: BokehJS is being loaded, scheduling callback at\", now());\n",
       "      return null;\n",
       "    }\n",
       "    if (js_urls == null || js_urls.length === 0) {\n",
       "      run_callbacks();\n",
       "      return null;\n",
       "    }\n",
       "    console.log(\"Bokeh: BokehJS not loaded, scheduling load and callback at\", now());\n",
       "    root._bokeh_is_loading = js_urls.length;\n",
       "    for (var i = 0; i < js_urls.length; i++) {\n",
       "      var url = js_urls[i];\n",
       "      var s = document.createElement('script');\n",
       "      s.src = url;\n",
       "      s.async = false;\n",
       "      s.onreadystatechange = s.onload = function() {\n",
       "        root._bokeh_is_loading--;\n",
       "        if (root._bokeh_is_loading === 0) {\n",
       "          console.log(\"Bokeh: all BokehJS libraries loaded\");\n",
       "          run_callbacks()\n",
       "        }\n",
       "      };\n",
       "      s.onerror = function() {\n",
       "        console.warn(\"failed to load library \" + url);\n",
       "      };\n",
       "      console.log(\"Bokeh: injecting script tag for BokehJS library: \", url);\n",
       "      document.getElementsByTagName(\"head\")[0].appendChild(s);\n",
       "    }\n",
       "  };var element = document.getElementById(\"e790e46d-c02d-42d2-8f61-542b4bbea6a0\");\n",
       "  if (element == null) {\n",
       "    console.log(\"Bokeh: ERROR: autoload.js configured with elementid 'e790e46d-c02d-42d2-8f61-542b4bbea6a0' but no matching script tag was found. \")\n",
       "    return false;\n",
       "  }\n",
       "\n",
       "  var js_urls = [\"https://cdn.pydata.org/bokeh/release/bokeh-0.12.10.min.js\", \"https://cdn.pydata.org/bokeh/release/bokeh-widgets-0.12.10.min.js\", \"https://cdn.pydata.org/bokeh/release/bokeh-tables-0.12.10.min.js\", \"https://cdn.pydata.org/bokeh/release/bokeh-gl-0.12.10.min.js\"];\n",
       "\n",
       "  var inline_js = [\n",
       "    function(Bokeh) {\n",
       "      Bokeh.set_log_level(\"info\");\n",
       "    },\n",
       "    \n",
       "    function(Bokeh) {\n",
       "      \n",
       "    },\n",
       "    function(Bokeh) {\n",
       "      console.log(\"Bokeh: injecting CSS: https://cdn.pydata.org/bokeh/release/bokeh-0.12.10.min.css\");\n",
       "      Bokeh.embed.inject_css(\"https://cdn.pydata.org/bokeh/release/bokeh-0.12.10.min.css\");\n",
       "      console.log(\"Bokeh: injecting CSS: https://cdn.pydata.org/bokeh/release/bokeh-widgets-0.12.10.min.css\");\n",
       "      Bokeh.embed.inject_css(\"https://cdn.pydata.org/bokeh/release/bokeh-widgets-0.12.10.min.css\");\n",
       "      console.log(\"Bokeh: injecting CSS: https://cdn.pydata.org/bokeh/release/bokeh-tables-0.12.10.min.css\");\n",
       "      Bokeh.embed.inject_css(\"https://cdn.pydata.org/bokeh/release/bokeh-tables-0.12.10.min.css\");\n",
       "    }\n",
       "  ];\n",
       "\n",
       "  function run_inline_js() {\n",
       "    \n",
       "    if ((root.Bokeh !== undefined) || (force === true)) {\n",
       "      for (var i = 0; i < inline_js.length; i++) {\n",
       "        inline_js[i].call(root, root.Bokeh);\n",
       "      }if (force === true) {\n",
       "        display_loaded();\n",
       "      }} else if (Date.now() < root._bokeh_timeout) {\n",
       "      setTimeout(run_inline_js, 100);\n",
       "    } else if (!root._bokeh_failed_load) {\n",
       "      console.log(\"Bokeh: BokehJS failed to load within specified timeout.\");\n",
       "      root._bokeh_failed_load = true;\n",
       "    } else if (force !== true) {\n",
       "      var cell = $(document.getElementById(\"e790e46d-c02d-42d2-8f61-542b4bbea6a0\")).parents('.cell').data().cell;\n",
       "      cell.output_area.append_execute_result(NB_LOAD_WARNING)\n",
       "    }\n",
       "\n",
       "  }\n",
       "\n",
       "  if (root._bokeh_is_loading === 0) {\n",
       "    console.log(\"Bokeh: BokehJS loaded, going straight to plotting\");\n",
       "    run_inline_js();\n",
       "  } else {\n",
       "    load_libs(js_urls, function() {\n",
       "      console.log(\"Bokeh: BokehJS plotting callback run at\", now());\n",
       "      run_inline_js();\n",
       "    });\n",
       "  }\n",
       "}(window));"
      ],
      "application/vnd.bokehjs_load.v0+json": "\n(function(root) {\n  function now() {\n    return new Date();\n  }\n\n  var force = true;\n\n  if (typeof (root._bokeh_onload_callbacks) === \"undefined\" || force === true) {\n    root._bokeh_onload_callbacks = [];\n    root._bokeh_is_loading = undefined;\n  }\n\n  \n\n  \n  if (typeof (root._bokeh_timeout) === \"undefined\" || force === true) {\n    root._bokeh_timeout = Date.now() + 5000;\n    root._bokeh_failed_load = false;\n  }\n\n  var NB_LOAD_WARNING = {'data': {'text/html':\n     \"<div style='background-color: #fdd'>\\n\"+\n     \"<p>\\n\"+\n     \"BokehJS does not appear to have successfully loaded. If loading BokehJS from CDN, this \\n\"+\n     \"may be due to a slow or bad network connection. Possible fixes:\\n\"+\n     \"</p>\\n\"+\n     \"<ul>\\n\"+\n     \"<li>re-rerun `output_notebook()` to attempt to load from CDN again, or</li>\\n\"+\n     \"<li>use INLINE resources instead, as so:</li>\\n\"+\n     \"</ul>\\n\"+\n     \"<code>\\n\"+\n     \"from bokeh.resources import INLINE\\n\"+\n     \"output_notebook(resources=INLINE)\\n\"+\n     \"</code>\\n\"+\n     \"</div>\"}};\n\n  function display_loaded() {\n    var el = document.getElementById(\"e790e46d-c02d-42d2-8f61-542b4bbea6a0\");\n    if (el != null) {\n      el.textContent = \"BokehJS is loading...\";\n    }\n    if (root.Bokeh !== undefined) {\n      if (el != null) {\n        el.textContent = \"BokehJS \" + root.Bokeh.version + \" successfully loaded.\";\n      }\n    } else if (Date.now() < root._bokeh_timeout) {\n      setTimeout(display_loaded, 100)\n    }\n  }\n\n\n  function run_callbacks() {\n    try {\n      root._bokeh_onload_callbacks.forEach(function(callback) { callback() });\n    }\n    finally {\n      delete root._bokeh_onload_callbacks\n    }\n    console.info(\"Bokeh: all callbacks have finished\");\n  }\n\n  function load_libs(js_urls, callback) {\n    root._bokeh_onload_callbacks.push(callback);\n    if (root._bokeh_is_loading > 0) {\n      console.log(\"Bokeh: BokehJS is being loaded, scheduling callback at\", now());\n      return null;\n    }\n    if (js_urls == null || js_urls.length === 0) {\n      run_callbacks();\n      return null;\n    }\n    console.log(\"Bokeh: BokehJS not loaded, scheduling load and callback at\", now());\n    root._bokeh_is_loading = js_urls.length;\n    for (var i = 0; i < js_urls.length; i++) {\n      var url = js_urls[i];\n      var s = document.createElement('script');\n      s.src = url;\n      s.async = false;\n      s.onreadystatechange = s.onload = function() {\n        root._bokeh_is_loading--;\n        if (root._bokeh_is_loading === 0) {\n          console.log(\"Bokeh: all BokehJS libraries loaded\");\n          run_callbacks()\n        }\n      };\n      s.onerror = function() {\n        console.warn(\"failed to load library \" + url);\n      };\n      console.log(\"Bokeh: injecting script tag for BokehJS library: \", url);\n      document.getElementsByTagName(\"head\")[0].appendChild(s);\n    }\n  };var element = document.getElementById(\"e790e46d-c02d-42d2-8f61-542b4bbea6a0\");\n  if (element == null) {\n    console.log(\"Bokeh: ERROR: autoload.js configured with elementid 'e790e46d-c02d-42d2-8f61-542b4bbea6a0' but no matching script tag was found. \")\n    return false;\n  }\n\n  var js_urls = [\"https://cdn.pydata.org/bokeh/release/bokeh-0.12.10.min.js\", \"https://cdn.pydata.org/bokeh/release/bokeh-widgets-0.12.10.min.js\", \"https://cdn.pydata.org/bokeh/release/bokeh-tables-0.12.10.min.js\", \"https://cdn.pydata.org/bokeh/release/bokeh-gl-0.12.10.min.js\"];\n\n  var inline_js = [\n    function(Bokeh) {\n      Bokeh.set_log_level(\"info\");\n    },\n    \n    function(Bokeh) {\n      \n    },\n    function(Bokeh) {\n      console.log(\"Bokeh: injecting CSS: https://cdn.pydata.org/bokeh/release/bokeh-0.12.10.min.css\");\n      Bokeh.embed.inject_css(\"https://cdn.pydata.org/bokeh/release/bokeh-0.12.10.min.css\");\n      console.log(\"Bokeh: injecting CSS: https://cdn.pydata.org/bokeh/release/bokeh-widgets-0.12.10.min.css\");\n      Bokeh.embed.inject_css(\"https://cdn.pydata.org/bokeh/release/bokeh-widgets-0.12.10.min.css\");\n      console.log(\"Bokeh: injecting CSS: https://cdn.pydata.org/bokeh/release/bokeh-tables-0.12.10.min.css\");\n      Bokeh.embed.inject_css(\"https://cdn.pydata.org/bokeh/release/bokeh-tables-0.12.10.min.css\");\n    }\n  ];\n\n  function run_inline_js() {\n    \n    if ((root.Bokeh !== undefined) || (force === true)) {\n      for (var i = 0; i < inline_js.length; i++) {\n        inline_js[i].call(root, root.Bokeh);\n      }if (force === true) {\n        display_loaded();\n      }} else if (Date.now() < root._bokeh_timeout) {\n      setTimeout(run_inline_js, 100);\n    } else if (!root._bokeh_failed_load) {\n      console.log(\"Bokeh: BokehJS failed to load within specified timeout.\");\n      root._bokeh_failed_load = true;\n    } else if (force !== true) {\n      var cell = $(document.getElementById(\"e790e46d-c02d-42d2-8f61-542b4bbea6a0\")).parents('.cell').data().cell;\n      cell.output_area.append_execute_result(NB_LOAD_WARNING)\n    }\n\n  }\n\n  if (root._bokeh_is_loading === 0) {\n    console.log(\"Bokeh: BokehJS loaded, going straight to plotting\");\n    run_inline_js();\n  } else {\n    load_libs(js_urls, function() {\n      console.log(\"Bokeh: BokehJS plotting callback run at\", now());\n      run_inline_js();\n    });\n  }\n}(window));"
     },
     "metadata": {},
     "output_type": "display_data"
    }
   ],
   "source": [
    "output_notebook()"
   ]
  },
  {
   "cell_type": "code",
   "execution_count": 40,
   "metadata": {
    "collapsed": true
   },
   "outputs": [],
   "source": [
    "# Step1: create figure object\n",
    "myPlot = figure(height=500, width=500,\n",
    "               title=\"My first bokeh chart\",\n",
    "               x_axis_label=\"Something on X\",\n",
    "               y_axis_label =\"Something on Y\")"
   ]
  },
  {
   "cell_type": "code",
   "execution_count": 41,
   "metadata": {},
   "outputs": [
    {
     "data": {
      "text/html": [
       "<div style=\"display: table;\"><div style=\"display: table-row;\"><div style=\"display: table-cell;\"><b title=\"bokeh.models.renderers.GlyphRenderer\">GlyphRenderer</b>(</div><div style=\"display: table-cell;\">id&nbsp;=&nbsp;'a6df83b8-148f-4835-a315-ded4cdab29c4', <span id=\"c5653a95-60ed-4b94-98ad-7db3012b753c\" style=\"cursor: pointer;\">&hellip;)</span></div></div><div class=\"ab14680c-a9e6-4efc-9bc6-6686e7e4f780\" style=\"display: none;\"><div style=\"display: table-cell;\"></div><div style=\"display: table-cell;\">data_source&nbsp;=&nbsp;ColumnDataSource(id='d7dba7d9-0769-4cdc-b0b9-9e8abf510afd', ...),</div></div><div class=\"ab14680c-a9e6-4efc-9bc6-6686e7e4f780\" style=\"display: none;\"><div style=\"display: table-cell;\"></div><div style=\"display: table-cell;\">glyph&nbsp;=&nbsp;Line(id='81b53ed6-a7ba-4329-add3-1804c0b6c1a9', ...),</div></div><div class=\"ab14680c-a9e6-4efc-9bc6-6686e7e4f780\" style=\"display: none;\"><div style=\"display: table-cell;\"></div><div style=\"display: table-cell;\">hover_glyph&nbsp;=&nbsp;None,</div></div><div class=\"ab14680c-a9e6-4efc-9bc6-6686e7e4f780\" style=\"display: none;\"><div style=\"display: table-cell;\"></div><div style=\"display: table-cell;\">js_event_callbacks&nbsp;=&nbsp;{},</div></div><div class=\"ab14680c-a9e6-4efc-9bc6-6686e7e4f780\" style=\"display: none;\"><div style=\"display: table-cell;\"></div><div style=\"display: table-cell;\">js_property_callbacks&nbsp;=&nbsp;{},</div></div><div class=\"ab14680c-a9e6-4efc-9bc6-6686e7e4f780\" style=\"display: none;\"><div style=\"display: table-cell;\"></div><div style=\"display: table-cell;\">level&nbsp;=&nbsp;'glyph',</div></div><div class=\"ab14680c-a9e6-4efc-9bc6-6686e7e4f780\" style=\"display: none;\"><div style=\"display: table-cell;\"></div><div style=\"display: table-cell;\">muted&nbsp;=&nbsp;False,</div></div><div class=\"ab14680c-a9e6-4efc-9bc6-6686e7e4f780\" style=\"display: none;\"><div style=\"display: table-cell;\"></div><div style=\"display: table-cell;\">muted_glyph&nbsp;=&nbsp;None,</div></div><div class=\"ab14680c-a9e6-4efc-9bc6-6686e7e4f780\" style=\"display: none;\"><div style=\"display: table-cell;\"></div><div style=\"display: table-cell;\">name&nbsp;=&nbsp;None,</div></div><div class=\"ab14680c-a9e6-4efc-9bc6-6686e7e4f780\" style=\"display: none;\"><div style=\"display: table-cell;\"></div><div style=\"display: table-cell;\">nonselection_glyph&nbsp;=&nbsp;Line(id='c9a22ab1-9416-439c-a5aa-72749cc2141e', ...),</div></div><div class=\"ab14680c-a9e6-4efc-9bc6-6686e7e4f780\" style=\"display: none;\"><div style=\"display: table-cell;\"></div><div style=\"display: table-cell;\">selection_glyph&nbsp;=&nbsp;None,</div></div><div class=\"ab14680c-a9e6-4efc-9bc6-6686e7e4f780\" style=\"display: none;\"><div style=\"display: table-cell;\"></div><div style=\"display: table-cell;\">subscribed_events&nbsp;=&nbsp;[],</div></div><div class=\"ab14680c-a9e6-4efc-9bc6-6686e7e4f780\" style=\"display: none;\"><div style=\"display: table-cell;\"></div><div style=\"display: table-cell;\">tags&nbsp;=&nbsp;[],</div></div><div class=\"ab14680c-a9e6-4efc-9bc6-6686e7e4f780\" style=\"display: none;\"><div style=\"display: table-cell;\"></div><div style=\"display: table-cell;\">view&nbsp;=&nbsp;CDSView(id='6d219926-cbca-44a1-972a-6faf873b9ee0', ...),</div></div><div class=\"ab14680c-a9e6-4efc-9bc6-6686e7e4f780\" style=\"display: none;\"><div style=\"display: table-cell;\"></div><div style=\"display: table-cell;\">visible&nbsp;=&nbsp;True,</div></div><div class=\"ab14680c-a9e6-4efc-9bc6-6686e7e4f780\" style=\"display: none;\"><div style=\"display: table-cell;\"></div><div style=\"display: table-cell;\">x_range_name&nbsp;=&nbsp;'default',</div></div><div class=\"ab14680c-a9e6-4efc-9bc6-6686e7e4f780\" style=\"display: none;\"><div style=\"display: table-cell;\"></div><div style=\"display: table-cell;\">y_range_name&nbsp;=&nbsp;'default')</div></div></div>\n",
       "<script>\n",
       "(function() {\n",
       "  var expanded = false;\n",
       "  var ellipsis = document.getElementById(\"c5653a95-60ed-4b94-98ad-7db3012b753c\");\n",
       "  ellipsis.addEventListener(\"click\", function() {\n",
       "    var rows = document.getElementsByClassName(\"ab14680c-a9e6-4efc-9bc6-6686e7e4f780\");\n",
       "    for (var i = 0; i < rows.length; i++) {\n",
       "      var el = rows[i];\n",
       "      el.style.display = expanded ? \"none\" : \"table-row\";\n",
       "    }\n",
       "    ellipsis.innerHTML = expanded ? \"&hellip;)\" : \"&lsaquo;&lsaquo;&lsaquo;\";\n",
       "    expanded = !expanded;\n",
       "  });\n",
       "})();\n",
       "</script>\n"
      ],
      "text/plain": [
       "GlyphRenderer(id='a6df83b8-148f-4835-a315-ded4cdab29c4', ...)"
      ]
     },
     "execution_count": 41,
     "metadata": {},
     "output_type": "execute_result"
    }
   ],
   "source": [
    "# Step2: Adding a glyph (circle,square, line, or bars)\n",
    "\n",
    "myPlot.circle(x=[3,4,5], y=[10,11,12],\n",
    "             color=['red','blue','green'],\n",
    "             size=[5,10,15],\n",
    "            # may need to re-run figure object code when changing alpha property\n",
    "             alpha=0.2)\n",
    "\n",
    "myPlot.square(x=[7,4,9], y=[3,4,5],\n",
    "             color=['red','blue','green'],\n",
    "             size=[3,5,7],\n",
    "            # may need to re-run figure object code when changing alpha property\n",
    "             alpha=0.2)\n",
    "\n",
    "myPlot.line(x=[7,4,9], y=[3,4,5],\n",
    "           color='brown',\n",
    "           line_width=1)"
   ]
  },
  {
   "cell_type": "code",
   "execution_count": 42,
   "metadata": {
    "collapsed": true
   },
   "outputs": [],
   "source": [
    "# Setting axis ranges to start at 0\n",
    "myPlot.x_range.start = 0\n",
    "myPlot.y_range.start = 0"
   ]
  },
  {
   "cell_type": "code",
   "execution_count": 43,
   "metadata": {},
   "outputs": [
    {
     "data": {
      "text/html": [
       "\n",
       "<div class=\"bk-root\">\n",
       "    <div class=\"bk-plotdiv\" id=\"38016607-5cad-4eee-9a8a-cbf35209660a\"></div>\n",
       "</div>"
      ]
     },
     "metadata": {},
     "output_type": "display_data"
    },
    {
     "data": {
      "application/javascript": [
       "(function(root) {\n",
       "  function embed_document(root) {\n",
       "    var docs_json = {\"983025e0-aa03-4eee-bbca-d91f66723c51\":{\"roots\":{\"references\":[{\"attributes\":{},\"id\":\"9f7f249a-b8ee-4419-993f-99d496fbca29\",\"type\":\"LinearScale\"},{\"attributes\":{\"callback\":null,\"start\":0},\"id\":\"0d06b7f1-3afb-404c-a511-42ca5aff757a\",\"type\":\"DataRange1d\"},{\"attributes\":{},\"id\":\"382ce755-a462-4bf0-83df-194c58404f05\",\"type\":\"BasicTicker\"},{\"attributes\":{\"callback\":null,\"start\":0},\"id\":\"b9f07cb6-aa4d-4db3-bdb2-1c2b3cb86112\",\"type\":\"DataRange1d\"},{\"attributes\":{\"axis_label\":\"Something on X\",\"formatter\":{\"id\":\"739c46bb-9671-46c9-952f-d15341322850\",\"type\":\"BasicTickFormatter\"},\"plot\":{\"id\":\"bebb706f-5747-4002-9d7d-76f282ab4deb\",\"subtype\":\"Figure\",\"type\":\"Plot\"},\"ticker\":{\"id\":\"382ce755-a462-4bf0-83df-194c58404f05\",\"type\":\"BasicTicker\"}},\"id\":\"fd26e55f-ce17-49fa-8189-f0bf431e7924\",\"type\":\"LinearAxis\"},{\"attributes\":{\"bottom_units\":\"screen\",\"fill_alpha\":{\"value\":0.5},\"fill_color\":{\"value\":\"lightgrey\"},\"left_units\":\"screen\",\"level\":\"overlay\",\"line_alpha\":{\"value\":1.0},\"line_color\":{\"value\":\"black\"},\"line_dash\":[4,4],\"line_width\":{\"value\":2},\"plot\":null,\"render_mode\":\"css\",\"right_units\":\"screen\",\"top_units\":\"screen\"},\"id\":\"f4255d35-096a-4756-bcd8-76446592b1d3\",\"type\":\"BoxAnnotation\"},{\"attributes\":{\"plot\":null,\"text\":\"My first bokeh chart\"},\"id\":\"862170d8-46a2-4d6a-b056-0b47da6520b5\",\"type\":\"Title\"},{\"attributes\":{\"source\":{\"id\":\"409acc55-8063-4ff5-b227-ac6acb6a1b83\",\"type\":\"ColumnDataSource\"}},\"id\":\"414562f7-daec-4d9f-92bc-834cd6e4f0d4\",\"type\":\"CDSView\"},{\"attributes\":{\"active_drag\":\"auto\",\"active_inspect\":\"auto\",\"active_scroll\":\"auto\",\"active_tap\":\"auto\",\"tools\":[{\"id\":\"0a599e35-0602-429a-be96-fd3126c27e38\",\"type\":\"PanTool\"},{\"id\":\"6c24a1d9-1520-4318-8e2d-e3ea9c186d52\",\"type\":\"WheelZoomTool\"},{\"id\":\"1aed05d6-51b5-4b7f-b64a-29c40e90de70\",\"type\":\"BoxZoomTool\"},{\"id\":\"ff9b6bbb-005d-41c0-9114-544f012d29b5\",\"type\":\"SaveTool\"},{\"id\":\"6dc42893-dbce-4d9e-9274-fbc22f974ffd\",\"type\":\"ResetTool\"},{\"id\":\"c88dcaa0-3672-4c86-bba8-8cc097c0c0ed\",\"type\":\"HelpTool\"}]},\"id\":\"93bb446b-af2b-46eb-89ee-f6374cb034e1\",\"type\":\"Toolbar\"},{\"attributes\":{\"line_alpha\":{\"value\":0.1},\"line_color\":{\"value\":\"#1f77b4\"},\"x\":{\"field\":\"x\"},\"y\":{\"field\":\"y\"}},\"id\":\"c9a22ab1-9416-439c-a5aa-72749cc2141e\",\"type\":\"Line\"},{\"attributes\":{},\"id\":\"6dc42893-dbce-4d9e-9274-fbc22f974ffd\",\"type\":\"ResetTool\"},{\"attributes\":{\"source\":{\"id\":\"27a1798e-e024-4a2f-bfd3-536e343392d6\",\"type\":\"ColumnDataSource\"}},\"id\":\"ef86be95-7e62-42ed-b831-b116fe4f92e8\",\"type\":\"CDSView\"},{\"attributes\":{\"callback\":null,\"column_names\":[\"x\",\"y\",\"size\",\"fill_color\",\"line_color\"],\"data\":{\"fill_color\":[\"red\",\"blue\",\"green\"],\"line_color\":[\"red\",\"blue\",\"green\"],\"size\":[3,5,7],\"x\":[7,4,9],\"y\":[3,4,5]}},\"id\":\"27a1798e-e024-4a2f-bfd3-536e343392d6\",\"type\":\"ColumnDataSource\"},{\"attributes\":{\"callback\":null,\"column_names\":[\"size\",\"x\",\"y\",\"fill_color\",\"line_color\"],\"data\":{\"fill_color\":[\"red\",\"blue\",\"green\"],\"line_color\":[\"red\",\"blue\",\"green\"],\"size\":[5,10,15],\"x\":[3,4,5],\"y\":[10,11,12]}},\"id\":\"409acc55-8063-4ff5-b227-ac6acb6a1b83\",\"type\":\"ColumnDataSource\"},{\"attributes\":{\"axis_label\":\"Something on Y\",\"formatter\":{\"id\":\"2b013bff-5452-4a6b-b12e-4841ba075d2e\",\"type\":\"BasicTickFormatter\"},\"plot\":{\"id\":\"bebb706f-5747-4002-9d7d-76f282ab4deb\",\"subtype\":\"Figure\",\"type\":\"Plot\"},\"ticker\":{\"id\":\"d5f92a19-c56b-41d8-bf34-fb625a62ea02\",\"type\":\"BasicTicker\"}},\"id\":\"8bb126bf-84fb-400c-b844-5c1e402cfc24\",\"type\":\"LinearAxis\"},{\"attributes\":{\"data_source\":{\"id\":\"409acc55-8063-4ff5-b227-ac6acb6a1b83\",\"type\":\"ColumnDataSource\"},\"glyph\":{\"id\":\"19dc6744-76b4-4b8a-9d09-567bb6c97e7d\",\"type\":\"Circle\"},\"hover_glyph\":null,\"muted_glyph\":null,\"nonselection_glyph\":{\"id\":\"2d4ab428-6726-4bc1-aea3-51271db85090\",\"type\":\"Circle\"},\"selection_glyph\":null,\"view\":{\"id\":\"414562f7-daec-4d9f-92bc-834cd6e4f0d4\",\"type\":\"CDSView\"}},\"id\":\"fc0d3526-0eb3-4deb-ab23-e4f29d05973c\",\"type\":\"GlyphRenderer\"},{\"attributes\":{\"data_source\":{\"id\":\"d7dba7d9-0769-4cdc-b0b9-9e8abf510afd\",\"type\":\"ColumnDataSource\"},\"glyph\":{\"id\":\"81b53ed6-a7ba-4329-add3-1804c0b6c1a9\",\"type\":\"Line\"},\"hover_glyph\":null,\"muted_glyph\":null,\"nonselection_glyph\":{\"id\":\"c9a22ab1-9416-439c-a5aa-72749cc2141e\",\"type\":\"Line\"},\"selection_glyph\":null,\"view\":{\"id\":\"6d219926-cbca-44a1-972a-6faf873b9ee0\",\"type\":\"CDSView\"}},\"id\":\"a6df83b8-148f-4835-a315-ded4cdab29c4\",\"type\":\"GlyphRenderer\"},{\"attributes\":{},\"id\":\"6c24a1d9-1520-4318-8e2d-e3ea9c186d52\",\"type\":\"WheelZoomTool\"},{\"attributes\":{\"callback\":null,\"column_names\":[\"x\",\"y\"],\"data\":{\"x\":[7,4,9],\"y\":[3,4,5]}},\"id\":\"d7dba7d9-0769-4cdc-b0b9-9e8abf510afd\",\"type\":\"ColumnDataSource\"},{\"attributes\":{\"plot\":{\"id\":\"bebb706f-5747-4002-9d7d-76f282ab4deb\",\"subtype\":\"Figure\",\"type\":\"Plot\"},\"ticker\":{\"id\":\"382ce755-a462-4bf0-83df-194c58404f05\",\"type\":\"BasicTicker\"}},\"id\":\"f9967754-f279-4066-a646-f766f2ccac5c\",\"type\":\"Grid\"},{\"attributes\":{\"fill_alpha\":{\"value\":0.1},\"fill_color\":{\"value\":\"#1f77b4\"},\"line_alpha\":{\"value\":0.1},\"line_color\":{\"value\":\"#1f77b4\"},\"size\":{\"field\":\"size\",\"units\":\"screen\"},\"x\":{\"field\":\"x\"},\"y\":{\"field\":\"y\"}},\"id\":\"2d4ab428-6726-4bc1-aea3-51271db85090\",\"type\":\"Circle\"},{\"attributes\":{\"dimension\":1,\"plot\":{\"id\":\"bebb706f-5747-4002-9d7d-76f282ab4deb\",\"subtype\":\"Figure\",\"type\":\"Plot\"},\"ticker\":{\"id\":\"d5f92a19-c56b-41d8-bf34-fb625a62ea02\",\"type\":\"BasicTicker\"}},\"id\":\"425743d0-2aff-41c6-a95f-14585d164c66\",\"type\":\"Grid\"},{\"attributes\":{},\"id\":\"ff9b6bbb-005d-41c0-9114-544f012d29b5\",\"type\":\"SaveTool\"},{\"attributes\":{\"fill_alpha\":{\"value\":0.2},\"fill_color\":{\"field\":\"fill_color\"},\"line_alpha\":{\"value\":0.2},\"line_color\":{\"field\":\"line_color\"},\"size\":{\"field\":\"size\",\"units\":\"screen\"},\"x\":{\"field\":\"x\"},\"y\":{\"field\":\"y\"}},\"id\":\"f7c8d010-aa6b-44fd-90b2-9664cd51de0b\",\"type\":\"Square\"},{\"attributes\":{},\"id\":\"3c522a45-b42f-496d-924d-15e9c27b66db\",\"type\":\"LinearScale\"},{\"attributes\":{\"overlay\":{\"id\":\"f4255d35-096a-4756-bcd8-76446592b1d3\",\"type\":\"BoxAnnotation\"}},\"id\":\"1aed05d6-51b5-4b7f-b64a-29c40e90de70\",\"type\":\"BoxZoomTool\"},{\"attributes\":{\"fill_alpha\":{\"value\":0.2},\"fill_color\":{\"field\":\"fill_color\"},\"line_alpha\":{\"value\":0.2},\"line_color\":{\"field\":\"line_color\"},\"size\":{\"field\":\"size\",\"units\":\"screen\"},\"x\":{\"field\":\"x\"},\"y\":{\"field\":\"y\"}},\"id\":\"19dc6744-76b4-4b8a-9d09-567bb6c97e7d\",\"type\":\"Circle\"},{\"attributes\":{},\"id\":\"2b013bff-5452-4a6b-b12e-4841ba075d2e\",\"type\":\"BasicTickFormatter\"},{\"attributes\":{},\"id\":\"739c46bb-9671-46c9-952f-d15341322850\",\"type\":\"BasicTickFormatter\"},{\"attributes\":{},\"id\":\"0a599e35-0602-429a-be96-fd3126c27e38\",\"type\":\"PanTool\"},{\"attributes\":{},\"id\":\"d5f92a19-c56b-41d8-bf34-fb625a62ea02\",\"type\":\"BasicTicker\"},{\"attributes\":{\"line_color\":{\"value\":\"brown\"},\"x\":{\"field\":\"x\"},\"y\":{\"field\":\"y\"}},\"id\":\"81b53ed6-a7ba-4329-add3-1804c0b6c1a9\",\"type\":\"Line\"},{\"attributes\":{\"source\":{\"id\":\"d7dba7d9-0769-4cdc-b0b9-9e8abf510afd\",\"type\":\"ColumnDataSource\"}},\"id\":\"6d219926-cbca-44a1-972a-6faf873b9ee0\",\"type\":\"CDSView\"},{\"attributes\":{\"fill_alpha\":{\"value\":0.1},\"fill_color\":{\"value\":\"#1f77b4\"},\"line_alpha\":{\"value\":0.1},\"line_color\":{\"value\":\"#1f77b4\"},\"size\":{\"field\":\"size\",\"units\":\"screen\"},\"x\":{\"field\":\"x\"},\"y\":{\"field\":\"y\"}},\"id\":\"2cc4dbfb-35c2-41b4-9073-d22f6ce26849\",\"type\":\"Square\"},{\"attributes\":{\"data_source\":{\"id\":\"27a1798e-e024-4a2f-bfd3-536e343392d6\",\"type\":\"ColumnDataSource\"},\"glyph\":{\"id\":\"f7c8d010-aa6b-44fd-90b2-9664cd51de0b\",\"type\":\"Square\"},\"hover_glyph\":null,\"muted_glyph\":null,\"nonselection_glyph\":{\"id\":\"2cc4dbfb-35c2-41b4-9073-d22f6ce26849\",\"type\":\"Square\"},\"selection_glyph\":null,\"view\":{\"id\":\"ef86be95-7e62-42ed-b831-b116fe4f92e8\",\"type\":\"CDSView\"}},\"id\":\"149e3ace-e7ac-4447-8ab8-94ab317dbc9a\",\"type\":\"GlyphRenderer\"},{\"attributes\":{},\"id\":\"c88dcaa0-3672-4c86-bba8-8cc097c0c0ed\",\"type\":\"HelpTool\"},{\"attributes\":{\"below\":[{\"id\":\"fd26e55f-ce17-49fa-8189-f0bf431e7924\",\"type\":\"LinearAxis\"}],\"left\":[{\"id\":\"8bb126bf-84fb-400c-b844-5c1e402cfc24\",\"type\":\"LinearAxis\"}],\"plot_height\":500,\"plot_width\":500,\"renderers\":[{\"id\":\"fd26e55f-ce17-49fa-8189-f0bf431e7924\",\"type\":\"LinearAxis\"},{\"id\":\"f9967754-f279-4066-a646-f766f2ccac5c\",\"type\":\"Grid\"},{\"id\":\"8bb126bf-84fb-400c-b844-5c1e402cfc24\",\"type\":\"LinearAxis\"},{\"id\":\"425743d0-2aff-41c6-a95f-14585d164c66\",\"type\":\"Grid\"},{\"id\":\"f4255d35-096a-4756-bcd8-76446592b1d3\",\"type\":\"BoxAnnotation\"},{\"id\":\"fc0d3526-0eb3-4deb-ab23-e4f29d05973c\",\"type\":\"GlyphRenderer\"},{\"id\":\"149e3ace-e7ac-4447-8ab8-94ab317dbc9a\",\"type\":\"GlyphRenderer\"},{\"id\":\"a6df83b8-148f-4835-a315-ded4cdab29c4\",\"type\":\"GlyphRenderer\"}],\"title\":{\"id\":\"862170d8-46a2-4d6a-b056-0b47da6520b5\",\"type\":\"Title\"},\"toolbar\":{\"id\":\"93bb446b-af2b-46eb-89ee-f6374cb034e1\",\"type\":\"Toolbar\"},\"x_range\":{\"id\":\"b9f07cb6-aa4d-4db3-bdb2-1c2b3cb86112\",\"type\":\"DataRange1d\"},\"x_scale\":{\"id\":\"3c522a45-b42f-496d-924d-15e9c27b66db\",\"type\":\"LinearScale\"},\"y_range\":{\"id\":\"0d06b7f1-3afb-404c-a511-42ca5aff757a\",\"type\":\"DataRange1d\"},\"y_scale\":{\"id\":\"9f7f249a-b8ee-4419-993f-99d496fbca29\",\"type\":\"LinearScale\"}},\"id\":\"bebb706f-5747-4002-9d7d-76f282ab4deb\",\"subtype\":\"Figure\",\"type\":\"Plot\"}],\"root_ids\":[\"bebb706f-5747-4002-9d7d-76f282ab4deb\"]},\"title\":\"Bokeh Application\",\"version\":\"0.12.10\"}};\n",
       "    var render_items = [{\"docid\":\"983025e0-aa03-4eee-bbca-d91f66723c51\",\"elementid\":\"38016607-5cad-4eee-9a8a-cbf35209660a\",\"modelid\":\"bebb706f-5747-4002-9d7d-76f282ab4deb\"}];\n",
       "\n",
       "    root.Bokeh.embed.embed_items(docs_json, render_items);\n",
       "  }\n",
       "\n",
       "  if (root.Bokeh !== undefined) {\n",
       "    embed_document(root);\n",
       "  } else {\n",
       "    var attempts = 0;\n",
       "    var timer = setInterval(function(root) {\n",
       "      if (root.Bokeh !== undefined) {\n",
       "        embed_document(root);\n",
       "        clearInterval(timer);\n",
       "      }\n",
       "      attempts++;\n",
       "      if (attempts > 100) {\n",
       "        console.log(\"Bokeh: ERROR: Unable to embed document because BokehJS library is missing\")\n",
       "        clearInterval(timer);\n",
       "      }\n",
       "    }, 10, root)\n",
       "  }\n",
       "})(window);"
      ],
      "application/vnd.bokehjs_exec.v0+json": ""
     },
     "metadata": {
      "application/vnd.bokehjs_exec.v0+json": {
       "id": "bebb706f-5747-4002-9d7d-76f282ab4deb"
      }
     },
     "output_type": "display_data"
    }
   ],
   "source": [
    "show(myPlot)"
   ]
  },
  {
   "cell_type": "code",
   "execution_count": 46,
   "metadata": {
    "collapsed": true
   },
   "outputs": [],
   "source": [
    "fruits = ['mangoes','bananas','berries']"
   ]
  },
  {
   "cell_type": "code",
   "execution_count": 47,
   "metadata": {
    "collapsed": true
   },
   "outputs": [],
   "source": [
    "from bokeh.models import HoverTool"
   ]
  },
  {
   "cell_type": "code",
   "execution_count": 48,
   "metadata": {},
   "outputs": [],
   "source": [
    "myBar = figure(height=500, width=500,\n",
    "            x_range=fruits,\n",
    "              title=\"My fruit bar chart\",\n",
    "              tools = 'pan,reset')"
   ]
  },
  {
   "cell_type": "code",
   "execution_count": 51,
   "metadata": {},
   "outputs": [
    {
     "data": {
      "text/html": [
       "<div style=\"display: table;\"><div style=\"display: table-row;\"><div style=\"display: table-cell;\"><b title=\"bokeh.models.renderers.GlyphRenderer\">GlyphRenderer</b>(</div><div style=\"display: table-cell;\">id&nbsp;=&nbsp;'4aa251cf-decf-4efd-a1e9-e6a1311373fd', <span id=\"dcaeb270-9c83-4e0a-94a8-75bf932ed647\" style=\"cursor: pointer;\">&hellip;)</span></div></div><div class=\"8dfe3271-3cbd-4990-b1c5-9fbd419e4e60\" style=\"display: none;\"><div style=\"display: table-cell;\"></div><div style=\"display: table-cell;\">data_source&nbsp;=&nbsp;ColumnDataSource(id='12bb4d97-fe1a-44c7-a143-c99a13704de5', ...),</div></div><div class=\"8dfe3271-3cbd-4990-b1c5-9fbd419e4e60\" style=\"display: none;\"><div style=\"display: table-cell;\"></div><div style=\"display: table-cell;\">glyph&nbsp;=&nbsp;VBar(id='e60dd7a4-85ac-4c28-9c4b-08c286ce12b7', ...),</div></div><div class=\"8dfe3271-3cbd-4990-b1c5-9fbd419e4e60\" style=\"display: none;\"><div style=\"display: table-cell;\"></div><div style=\"display: table-cell;\">hover_glyph&nbsp;=&nbsp;None,</div></div><div class=\"8dfe3271-3cbd-4990-b1c5-9fbd419e4e60\" style=\"display: none;\"><div style=\"display: table-cell;\"></div><div style=\"display: table-cell;\">js_event_callbacks&nbsp;=&nbsp;{},</div></div><div class=\"8dfe3271-3cbd-4990-b1c5-9fbd419e4e60\" style=\"display: none;\"><div style=\"display: table-cell;\"></div><div style=\"display: table-cell;\">js_property_callbacks&nbsp;=&nbsp;{},</div></div><div class=\"8dfe3271-3cbd-4990-b1c5-9fbd419e4e60\" style=\"display: none;\"><div style=\"display: table-cell;\"></div><div style=\"display: table-cell;\">level&nbsp;=&nbsp;'glyph',</div></div><div class=\"8dfe3271-3cbd-4990-b1c5-9fbd419e4e60\" style=\"display: none;\"><div style=\"display: table-cell;\"></div><div style=\"display: table-cell;\">muted&nbsp;=&nbsp;False,</div></div><div class=\"8dfe3271-3cbd-4990-b1c5-9fbd419e4e60\" style=\"display: none;\"><div style=\"display: table-cell;\"></div><div style=\"display: table-cell;\">muted_glyph&nbsp;=&nbsp;None,</div></div><div class=\"8dfe3271-3cbd-4990-b1c5-9fbd419e4e60\" style=\"display: none;\"><div style=\"display: table-cell;\"></div><div style=\"display: table-cell;\">name&nbsp;=&nbsp;None,</div></div><div class=\"8dfe3271-3cbd-4990-b1c5-9fbd419e4e60\" style=\"display: none;\"><div style=\"display: table-cell;\"></div><div style=\"display: table-cell;\">nonselection_glyph&nbsp;=&nbsp;VBar(id='885ffaac-69a2-4a71-be46-bfdeff73bd82', ...),</div></div><div class=\"8dfe3271-3cbd-4990-b1c5-9fbd419e4e60\" style=\"display: none;\"><div style=\"display: table-cell;\"></div><div style=\"display: table-cell;\">selection_glyph&nbsp;=&nbsp;None,</div></div><div class=\"8dfe3271-3cbd-4990-b1c5-9fbd419e4e60\" style=\"display: none;\"><div style=\"display: table-cell;\"></div><div style=\"display: table-cell;\">subscribed_events&nbsp;=&nbsp;[],</div></div><div class=\"8dfe3271-3cbd-4990-b1c5-9fbd419e4e60\" style=\"display: none;\"><div style=\"display: table-cell;\"></div><div style=\"display: table-cell;\">tags&nbsp;=&nbsp;[],</div></div><div class=\"8dfe3271-3cbd-4990-b1c5-9fbd419e4e60\" style=\"display: none;\"><div style=\"display: table-cell;\"></div><div style=\"display: table-cell;\">view&nbsp;=&nbsp;CDSView(id='5fb66da8-451b-4a45-9f14-0e371c67df86', ...),</div></div><div class=\"8dfe3271-3cbd-4990-b1c5-9fbd419e4e60\" style=\"display: none;\"><div style=\"display: table-cell;\"></div><div style=\"display: table-cell;\">visible&nbsp;=&nbsp;True,</div></div><div class=\"8dfe3271-3cbd-4990-b1c5-9fbd419e4e60\" style=\"display: none;\"><div style=\"display: table-cell;\"></div><div style=\"display: table-cell;\">x_range_name&nbsp;=&nbsp;'default',</div></div><div class=\"8dfe3271-3cbd-4990-b1c5-9fbd419e4e60\" style=\"display: none;\"><div style=\"display: table-cell;\"></div><div style=\"display: table-cell;\">y_range_name&nbsp;=&nbsp;'default')</div></div></div>\n",
       "<script>\n",
       "(function() {\n",
       "  var expanded = false;\n",
       "  var ellipsis = document.getElementById(\"dcaeb270-9c83-4e0a-94a8-75bf932ed647\");\n",
       "  ellipsis.addEventListener(\"click\", function() {\n",
       "    var rows = document.getElementsByClassName(\"8dfe3271-3cbd-4990-b1c5-9fbd419e4e60\");\n",
       "    for (var i = 0; i < rows.length; i++) {\n",
       "      var el = rows[i];\n",
       "      el.style.display = expanded ? \"none\" : \"table-row\";\n",
       "    }\n",
       "    ellipsis.innerHTML = expanded ? \"&hellip;)\" : \"&lsaquo;&lsaquo;&lsaquo;\";\n",
       "    expanded = !expanded;\n",
       "  });\n",
       "})();\n",
       "</script>\n"
      ],
      "text/plain": [
       "GlyphRenderer(id='4aa251cf-decf-4efd-a1e9-e6a1311373fd', ...)"
      ]
     },
     "execution_count": 51,
     "metadata": {},
     "output_type": "execute_result"
    }
   ],
   "source": [
    "myBar.vbar(x=fruits, top=[200,300,400],\n",
    "          width=0.4,\n",
    "          color = 'blue')"
   ]
  },
  {
   "cell_type": "code",
   "execution_count": 50,
   "metadata": {},
   "outputs": [
    {
     "data": {
      "text/html": [
       "\n",
       "<div class=\"bk-root\">\n",
       "    <div class=\"bk-plotdiv\" id=\"980b1e69-9869-4f54-bc2a-2e6e8c9cca4e\"></div>\n",
       "</div>"
      ]
     },
     "metadata": {},
     "output_type": "display_data"
    },
    {
     "data": {
      "application/javascript": [
       "(function(root) {\n",
       "  function embed_document(root) {\n",
       "    var docs_json = {\"52d10f18-ae7f-49d1-b934-078e36591a06\":{\"roots\":{\"references\":[{\"attributes\":{},\"id\":\"abde067b-77b3-4ac0-aa9c-5d1ce5514ec2\",\"type\":\"BasicTickFormatter\"},{\"attributes\":{\"below\":[{\"id\":\"4cf57112-ab35-45c3-b3df-6dd15439250f\",\"type\":\"CategoricalAxis\"}],\"left\":[{\"id\":\"bb7d5285-2209-40cb-95ab-0bcd7ff04751\",\"type\":\"LinearAxis\"}],\"plot_height\":500,\"plot_width\":500,\"renderers\":[{\"id\":\"4cf57112-ab35-45c3-b3df-6dd15439250f\",\"type\":\"CategoricalAxis\"},{\"id\":\"7add95bd-e41f-426b-bb93-e8e2ba712c5b\",\"type\":\"Grid\"},{\"id\":\"bb7d5285-2209-40cb-95ab-0bcd7ff04751\",\"type\":\"LinearAxis\"},{\"id\":\"c02c5736-3e9f-45dd-91bb-a937c3eb2967\",\"type\":\"Grid\"},{\"id\":\"638bc823-41ce-4081-9d99-c0d64508e14a\",\"type\":\"GlyphRenderer\"}],\"title\":{\"id\":\"90604e2a-5b5a-42df-b2c3-d8db390b3e34\",\"type\":\"Title\"},\"toolbar\":{\"id\":\"9119d149-b1ab-468e-b198-7c74a2bb7000\",\"type\":\"Toolbar\"},\"x_range\":{\"id\":\"f23b5da2-0daf-43ce-ac3b-3f7fb3d1ba81\",\"type\":\"FactorRange\"},\"x_scale\":{\"id\":\"41de137f-e661-492a-bb87-05cd64cc63fd\",\"type\":\"CategoricalScale\"},\"y_range\":{\"id\":\"fea09368-1261-4992-9649-e3971aa26cd3\",\"type\":\"DataRange1d\"},\"y_scale\":{\"id\":\"511ed68c-2b33-404e-8b25-24d7b6ba3bb0\",\"type\":\"LinearScale\"}},\"id\":\"d82d0018-a25a-4289-aeb0-84b33181a650\",\"subtype\":\"Figure\",\"type\":\"Plot\"},{\"attributes\":{},\"id\":\"8c3995ef-0818-411a-ae84-c8aaff07eb76\",\"type\":\"CategoricalTickFormatter\"},{\"attributes\":{\"callback\":null,\"column_names\":[\"x\",\"top\"],\"data\":{\"top\":[200,300,400],\"x\":[\"mangoes\",\"bananas\",\"berries\"]}},\"id\":\"25b0ac78-593e-476f-ae1a-b99432e2a490\",\"type\":\"ColumnDataSource\"},{\"attributes\":{},\"id\":\"f8bc7bf3-ce12-421b-9ee1-c4a1383e8ceb\",\"type\":\"ResetTool\"},{\"attributes\":{\"plot\":null,\"text\":\"My fruit bar chart\"},\"id\":\"90604e2a-5b5a-42df-b2c3-d8db390b3e34\",\"type\":\"Title\"},{\"attributes\":{\"callback\":null,\"factors\":[\"mangoes\",\"bananas\",\"berries\"]},\"id\":\"f23b5da2-0daf-43ce-ac3b-3f7fb3d1ba81\",\"type\":\"FactorRange\"},{\"attributes\":{\"fill_color\":{\"value\":\"blue\"},\"line_color\":{\"value\":\"blue\"},\"top\":{\"field\":\"top\"},\"width\":{\"value\":0.4},\"x\":{\"field\":\"x\"}},\"id\":\"434ddbd7-4750-4016-a75e-428d7e257907\",\"type\":\"VBar\"},{\"attributes\":{\"active_drag\":\"auto\",\"active_inspect\":\"auto\",\"active_scroll\":\"auto\",\"active_tap\":\"auto\",\"tools\":[{\"id\":\"4f55070f-0bbc-4ee1-9018-4b26ec8a0391\",\"type\":\"PanTool\"},{\"id\":\"f8bc7bf3-ce12-421b-9ee1-c4a1383e8ceb\",\"type\":\"ResetTool\"}]},\"id\":\"9119d149-b1ab-468e-b198-7c74a2bb7000\",\"type\":\"Toolbar\"},{\"attributes\":{\"formatter\":{\"id\":\"abde067b-77b3-4ac0-aa9c-5d1ce5514ec2\",\"type\":\"BasicTickFormatter\"},\"plot\":{\"id\":\"d82d0018-a25a-4289-aeb0-84b33181a650\",\"subtype\":\"Figure\",\"type\":\"Plot\"},\"ticker\":{\"id\":\"945244c9-7b52-4732-849e-a7d4ab8583bb\",\"type\":\"BasicTicker\"}},\"id\":\"bb7d5285-2209-40cb-95ab-0bcd7ff04751\",\"type\":\"LinearAxis\"},{\"attributes\":{\"fill_alpha\":{\"value\":0.1},\"fill_color\":{\"value\":\"#1f77b4\"},\"line_alpha\":{\"value\":0.1},\"line_color\":{\"value\":\"#1f77b4\"},\"top\":{\"field\":\"top\"},\"width\":{\"value\":0.4},\"x\":{\"field\":\"x\"}},\"id\":\"758a7fb1-0648-450c-a317-dce0ec46511e\",\"type\":\"VBar\"},{\"attributes\":{},\"id\":\"41de137f-e661-492a-bb87-05cd64cc63fd\",\"type\":\"CategoricalScale\"},{\"attributes\":{\"callback\":null},\"id\":\"fea09368-1261-4992-9649-e3971aa26cd3\",\"type\":\"DataRange1d\"},{\"attributes\":{},\"id\":\"511ed68c-2b33-404e-8b25-24d7b6ba3bb0\",\"type\":\"LinearScale\"},{\"attributes\":{\"plot\":{\"id\":\"d82d0018-a25a-4289-aeb0-84b33181a650\",\"subtype\":\"Figure\",\"type\":\"Plot\"},\"ticker\":{\"id\":\"f6863dbe-3ba4-4b37-be79-3ea0c4c6db94\",\"type\":\"CategoricalTicker\"}},\"id\":\"7add95bd-e41f-426b-bb93-e8e2ba712c5b\",\"type\":\"Grid\"},{\"attributes\":{\"data_source\":{\"id\":\"25b0ac78-593e-476f-ae1a-b99432e2a490\",\"type\":\"ColumnDataSource\"},\"glyph\":{\"id\":\"434ddbd7-4750-4016-a75e-428d7e257907\",\"type\":\"VBar\"},\"hover_glyph\":null,\"muted_glyph\":null,\"nonselection_glyph\":{\"id\":\"758a7fb1-0648-450c-a317-dce0ec46511e\",\"type\":\"VBar\"},\"selection_glyph\":null,\"view\":{\"id\":\"1b606946-aca7-462e-8618-88869362b4ec\",\"type\":\"CDSView\"}},\"id\":\"638bc823-41ce-4081-9d99-c0d64508e14a\",\"type\":\"GlyphRenderer\"},{\"attributes\":{\"formatter\":{\"id\":\"8c3995ef-0818-411a-ae84-c8aaff07eb76\",\"type\":\"CategoricalTickFormatter\"},\"plot\":{\"id\":\"d82d0018-a25a-4289-aeb0-84b33181a650\",\"subtype\":\"Figure\",\"type\":\"Plot\"},\"ticker\":{\"id\":\"f6863dbe-3ba4-4b37-be79-3ea0c4c6db94\",\"type\":\"CategoricalTicker\"}},\"id\":\"4cf57112-ab35-45c3-b3df-6dd15439250f\",\"type\":\"CategoricalAxis\"},{\"attributes\":{\"dimension\":1,\"plot\":{\"id\":\"d82d0018-a25a-4289-aeb0-84b33181a650\",\"subtype\":\"Figure\",\"type\":\"Plot\"},\"ticker\":{\"id\":\"945244c9-7b52-4732-849e-a7d4ab8583bb\",\"type\":\"BasicTicker\"}},\"id\":\"c02c5736-3e9f-45dd-91bb-a937c3eb2967\",\"type\":\"Grid\"},{\"attributes\":{},\"id\":\"f6863dbe-3ba4-4b37-be79-3ea0c4c6db94\",\"type\":\"CategoricalTicker\"},{\"attributes\":{},\"id\":\"4f55070f-0bbc-4ee1-9018-4b26ec8a0391\",\"type\":\"PanTool\"},{\"attributes\":{},\"id\":\"945244c9-7b52-4732-849e-a7d4ab8583bb\",\"type\":\"BasicTicker\"},{\"attributes\":{\"source\":{\"id\":\"25b0ac78-593e-476f-ae1a-b99432e2a490\",\"type\":\"ColumnDataSource\"}},\"id\":\"1b606946-aca7-462e-8618-88869362b4ec\",\"type\":\"CDSView\"}],\"root_ids\":[\"d82d0018-a25a-4289-aeb0-84b33181a650\"]},\"title\":\"Bokeh Application\",\"version\":\"0.12.10\"}};\n",
       "    var render_items = [{\"docid\":\"52d10f18-ae7f-49d1-b934-078e36591a06\",\"elementid\":\"980b1e69-9869-4f54-bc2a-2e6e8c9cca4e\",\"modelid\":\"d82d0018-a25a-4289-aeb0-84b33181a650\"}];\n",
       "\n",
       "    root.Bokeh.embed.embed_items(docs_json, render_items);\n",
       "  }\n",
       "\n",
       "  if (root.Bokeh !== undefined) {\n",
       "    embed_document(root);\n",
       "  } else {\n",
       "    var attempts = 0;\n",
       "    var timer = setInterval(function(root) {\n",
       "      if (root.Bokeh !== undefined) {\n",
       "        embed_document(root);\n",
       "        clearInterval(timer);\n",
       "      }\n",
       "      attempts++;\n",
       "      if (attempts > 100) {\n",
       "        console.log(\"Bokeh: ERROR: Unable to embed document because BokehJS library is missing\")\n",
       "        clearInterval(timer);\n",
       "      }\n",
       "    }, 10, root)\n",
       "  }\n",
       "})(window);"
      ],
      "application/vnd.bokehjs_exec.v0+json": ""
     },
     "metadata": {
      "application/vnd.bokehjs_exec.v0+json": {
       "id": "d82d0018-a25a-4289-aeb0-84b33181a650"
      }
     },
     "output_type": "display_data"
    }
   ],
   "source": [
    "show(myBar)"
   ]
  },
  {
   "cell_type": "code",
   "execution_count": null,
   "metadata": {
    "collapsed": true
   },
   "outputs": [],
   "source": []
  }
 ],
 "metadata": {
  "kernelspec": {
   "display_name": "Python 3",
   "language": "python",
   "name": "python3"
  },
  "language_info": {
   "codemirror_mode": {
    "name": "ipython",
    "version": 3
   },
   "file_extension": ".py",
   "mimetype": "text/x-python",
   "name": "python",
   "nbconvert_exporter": "python",
   "pygments_lexer": "ipython3",
   "version": "3.6.3"
  }
 },
 "nbformat": 4,
 "nbformat_minor": 2
}
