{
 "cells": [
  {
   "cell_type": "code",
   "execution_count": 25,
   "metadata": {},
   "outputs": [
    {
     "data": {
      "text/plain": [
       "'C:\\\\Users\\\\khanhdi'"
      ]
     },
     "execution_count": 25,
     "metadata": {},
     "output_type": "execute_result"
    }
   ],
   "source": [
    "import json\n",
    "import os\n",
    "import requests\n",
    "import csv\n",
    "import numpy as np\n",
    "import pandas as pd\n",
    "import matplotlib.pyplot as plt\n",
    "from config import api_key\n",
    "os.getcwd()"
   ]
  },
  {
   "cell_type": "code",
   "execution_count": 2,
   "metadata": {},
   "outputs": [],
   "source": [
    "with open(\"youtube_response.json\") as jsonfile:\n",
    "    json_data = json.load(jsonfile)"
   ]
  },
  {
   "cell_type": "code",
   "execution_count": 3,
   "metadata": {},
   "outputs": [
    {
     "name": "stdout",
     "output_type": "stream",
     "text": [
      "{\n",
      "    \"apiVersion\": \"2.0\",\n",
      "    \"data\": {\n",
      "        \"items\": [\n",
      "            {\n",
      "                \"accessControl\": {\n",
      "                    \"comment\": \"allowed\",\n",
      "                    \"commentVote\": \"allowed\",\n",
      "                    \"embed\": \"allowed\",\n",
      "                    \"list\": \"allowed\",\n",
      "                    \"rate\": \"allowed\",\n",
      "                    \"syndicate\": \"allowed\",\n",
      "                    \"videoRespond\": \"moderated\"\n",
      "                },\n",
      "                \"aspectRatio\": \"widescreen\",\n",
      "                \"category\": \"News\",\n",
      "                \"commentCount\": 22,\n",
      "                \"content\": {\n",
      "                    \"1\": \"rtsp://v5.cache3.c.youtube.com/CiILENy.../0/0/0/video.3gp\",\n",
      "                    \"5\": \"http://www.youtube.com/v/hYB0mn5zh2c?f...\",\n",
      "                    \"6\": \"rtsp://v1.cache1.c.youtube.com/CiILENy.../0/0/0/video.3gp\"\n",
      "                },\n",
      "                \"description\": \"Google Maps API Introduction ...\",\n",
      "                \"duration\": 2840,\n",
      "                \"favoriteCount\": 201,\n",
      "                \"id\": \"hYB0mn5zh2c\",\n",
      "                \"player\": {\n",
      "                    \"default\": \"http://www.youtube.com/watch?vu003dhYB0mn5zh2c\"\n",
      "                },\n",
      "                \"rating\": 4.63,\n",
      "                \"ratingCount\": 68,\n",
      "                \"status\": {\n",
      "                    \"reason\": \"limitedSyndication\",\n",
      "                    \"value\": \"restricted\"\n",
      "                },\n",
      "                \"tags\": [\n",
      "                    \"GDD07\",\n",
      "                    \"GDD07US\",\n",
      "                    \"Maps\"\n",
      "                ],\n",
      "                \"thumbnail\": {\n",
      "                    \"default\": \"http://i.ytimg.com/vi/hYB0mn5zh2c/default.jpg\",\n",
      "                    \"hqDefault\": \"http://i.ytimg.com/vi/hYB0mn5zh2c/hqdefault.jpg\"\n",
      "                },\n",
      "                \"title\": \"Google Developers Day US - Maps API Introduction\",\n",
      "                \"updated\": \"2010-01-07T13:26:50.000Z\",\n",
      "                \"uploaded\": \"2007-06-05T22:07:03.000Z\",\n",
      "                \"uploader\": \"GoogleDeveloperDay\",\n",
      "                \"viewCount\": 220101\n",
      "            }\n",
      "        ],\n",
      "        \"itemsPerPage\": 1,\n",
      "        \"startIndex\": 1,\n",
      "        \"totalItems\": 800,\n",
      "        \"updated\": \"2010-01-07T19:58:42.949Z\"\n",
      "    }\n",
      "}\n"
     ]
    }
   ],
   "source": [
    "print(json.dumps(json_data, indent=4, sort_keys=True))"
   ]
  },
  {
   "cell_type": "code",
   "execution_count": 4,
   "metadata": {},
   "outputs": [
    {
     "name": "stdout",
     "output_type": "stream",
     "text": [
      "Google Developers Day US - Maps API Introduction\n"
     ]
    }
   ],
   "source": [
    "data = json_data[\"data\"]\n",
    "items = data[\"items\"]\n",
    "title = items[0][\"title\"]\n",
    "print(title)"
   ]
  },
  {
   "cell_type": "markdown",
   "metadata": {},
   "source": [
    "# Open Weather API"
   ]
  },
  {
   "cell_type": "code",
   "execution_count": 9,
   "metadata": {},
   "outputs": [],
   "source": [
    "open_url = \"https://api.openweathermap.org/data/2.5/weather?\"\n",
    "city_name = \"Berlin\"\n",
    "weather_url = open_url + \"appid=\" + api_key + \"&q=\" + city_name\n",
    "#has to include 'https://' in the front for the url"
   ]
  },
  {
   "cell_type": "code",
   "execution_count": 10,
   "metadata": {},
   "outputs": [
    {
     "name": "stdout",
     "output_type": "stream",
     "text": [
      "{\n",
      "    \"base\": \"stations\",\n",
      "    \"clouds\": {\n",
      "        \"all\": 75\n",
      "    },\n",
      "    \"cod\": 200,\n",
      "    \"coord\": {\n",
      "        \"lat\": 52.52,\n",
      "        \"lon\": 13.39\n",
      "    },\n",
      "    \"dt\": 1550794800,\n",
      "    \"id\": 2950159,\n",
      "    \"main\": {\n",
      "        \"humidity\": 87,\n",
      "        \"pressure\": 1024,\n",
      "        \"temp\": 282.15,\n",
      "        \"temp_max\": 282.15,\n",
      "        \"temp_min\": 282.15\n",
      "    },\n",
      "    \"name\": \"Berlin\",\n",
      "    \"sys\": {\n",
      "        \"country\": \"DE\",\n",
      "        \"id\": 1275,\n",
      "        \"message\": 0.004,\n",
      "        \"sunrise\": 1550815737,\n",
      "        \"sunset\": 1550853109,\n",
      "        \"type\": 1\n",
      "    },\n",
      "    \"visibility\": 10000,\n",
      "    \"weather\": [\n",
      "        {\n",
      "            \"description\": \"light intensity drizzle\",\n",
      "            \"icon\": \"09n\",\n",
      "            \"id\": 300,\n",
      "            \"main\": \"Drizzle\"\n",
      "        }\n",
      "    ],\n",
      "    \"wind\": {\n",
      "        \"deg\": 330,\n",
      "        \"speed\": 5.1\n",
      "    }\n",
      "}\n"
     ]
    }
   ],
   "source": [
    "print(json.dumps(requests.get(weather_url).json(), indent=4, sort_keys=True))"
   ]
  },
  {
   "cell_type": "code",
   "execution_count": 14,
   "metadata": {},
   "outputs": [
    {
     "name": "stdout",
     "output_type": "stream",
     "text": [
      "The latitude information received is: [48.86, 51.51, 59.91, 39.91]\n",
      "The temperature information received is: [3.74, 6.35, -1.82, 3]\n"
     ]
    }
   ],
   "source": [
    "units = 'metric'\n",
    "units_url = open_url + \"appid=\" + api_key + \"&units=\" + units + \"&q=\"\n",
    "cities = ['Paris','London','Oslo','Beijing']\n",
    "\n",
    "# set up lists to hold reponse info\n",
    "lat = []\n",
    "temp = []\n",
    "\n",
    "# Loop through the list of cities and perform a request for data on each\n",
    "for city in cities:\n",
    "    response = requests.get(units_url + city).json()\n",
    "    lat.append(response['coord']['lat'])\n",
    "    temp.append(response['main']['temp'])\n",
    "\n",
    "print(f\"The latitude information received is: {lat}\")\n",
    "print(f\"The temperature information received is: {temp}\")\n"
   ]
  },
  {
   "cell_type": "code",
   "execution_count": 15,
   "metadata": {},
   "outputs": [
    {
     "data": {
      "text/html": [
       "<div>\n",
       "<style scoped>\n",
       "    .dataframe tbody tr th:only-of-type {\n",
       "        vertical-align: middle;\n",
       "    }\n",
       "\n",
       "    .dataframe tbody tr th {\n",
       "        vertical-align: top;\n",
       "    }\n",
       "\n",
       "    .dataframe thead th {\n",
       "        text-align: right;\n",
       "    }\n",
       "</style>\n",
       "<table border=\"1\" class=\"dataframe\">\n",
       "  <thead>\n",
       "    <tr style=\"text-align: right;\">\n",
       "      <th></th>\n",
       "      <th>city</th>\n",
       "      <th>lat</th>\n",
       "      <th>temp</th>\n",
       "    </tr>\n",
       "  </thead>\n",
       "  <tbody>\n",
       "    <tr>\n",
       "      <th>0</th>\n",
       "      <td>Paris</td>\n",
       "      <td>48.86</td>\n",
       "      <td>3.74</td>\n",
       "    </tr>\n",
       "    <tr>\n",
       "      <th>1</th>\n",
       "      <td>London</td>\n",
       "      <td>51.51</td>\n",
       "      <td>6.35</td>\n",
       "    </tr>\n",
       "    <tr>\n",
       "      <th>2</th>\n",
       "      <td>Oslo</td>\n",
       "      <td>59.91</td>\n",
       "      <td>-1.82</td>\n",
       "    </tr>\n",
       "    <tr>\n",
       "      <th>3</th>\n",
       "      <td>Beijing</td>\n",
       "      <td>39.91</td>\n",
       "      <td>3.00</td>\n",
       "    </tr>\n",
       "  </tbody>\n",
       "</table>\n",
       "</div>"
      ],
      "text/plain": [
       "      city    lat  temp\n",
       "0    Paris  48.86  3.74\n",
       "1   London  51.51  6.35\n",
       "2     Oslo  59.91 -1.82\n",
       "3  Beijing  39.91  3.00"
      ]
     },
     "execution_count": 15,
     "metadata": {},
     "output_type": "execute_result"
    }
   ],
   "source": [
    "# create a data frame from cities, lat, and temp\n",
    "weather_dict = {\n",
    "    \"city\": cities,\n",
    "    \"lat\": lat,\n",
    "    \"temp\": temp\n",
    "}\n",
    "weather_data = pd.DataFrame(weather_dict)\n",
    "weather_data.head()"
   ]
  },
  {
   "cell_type": "code",
   "execution_count": 16,
   "metadata": {},
   "outputs": [
    {
     "data": {
      "image/png": "[encoded data removed]",
      "text/plain": [
       "<Figure size 432x288 with 1 Axes>"
      ]
     },
     "metadata": {
      "needs_background": "light"
     },
     "output_type": "display_data"
    }
   ],
   "source": [
    "# Build a scatter plot for each data type\n",
    "plt.scatter(weather_data[\"lat\"], weather_data[\"temp\"], marker=\"o\")\n",
    "\n",
    "# Incorporate the other graph properties\n",
    "plt.title(\"Temperature in World Cities\")\n",
    "plt.ylabel(\"Temperature (Celsius)\")\n",
    "plt.xlabel(\"Latitude\")\n",
    "plt.grid(True)\n",
    "\n",
    "# Save the figure\n",
    "plt.savefig(\"TemperatureInWorldCities.png\")\n",
    "\n",
    "# Show plot\n",
    "plt.show()"
   ]
  },
  {
   "cell_type": "markdown",
   "metadata": {},
   "source": [
    "# TV Ratings"
   ]
  },
  {
   "cell_type": "code",
   "execution_count": 23,
   "metadata": {},
   "outputs": [
    {
     "name": "stdout",
     "output_type": "stream",
     "text": [
      "[\n",
      "    {\n",
      "        \"score\": 34.265076,\n",
      "        \"show\": {\n",
      "            \"_links\": {\n",
      "                \"nextepisode\": {\n",
      "                    \"href\": \"http://api.tvmaze.com/episodes/1599392\"\n",
      "                },\n",
      "                \"previousepisode\": {\n",
      "                    \"href\": \"http://api.tvmaze.com/episodes/1596864\"\n",
      "                },\n",
      "                \"self\": {\n",
      "                    \"href\": \"http://api.tvmaze.com/shows/17128\"\n",
      "                }\n",
      "            },\n",
      "            \"externals\": {\n",
      "                \"imdb\": \"tt5555260\",\n",
      "                \"thetvdb\": 311714,\n",
      "                \"tvrage\": null\n",
      "            },\n",
      "            \"genres\": [\n",
      "                \"Drama\",\n",
      "                \"Comedy\",\n",
      "                \"Romance\"\n",
      "            ],\n",
      "            \"id\": 17128,\n",
      "            \"image\": {\n",
      "                \"medium\": \"http://static.tvmaze.com/uploads/images/medium_portrait/168/420381.jpg\",\n",
      "                \"original\": \"http://static.tvmaze.com/uploads/images/original_untouched/168/420381.jpg\"\n",
      "            },\n",
      "            \"language\": \"English\",\n",
      "            \"name\": \"This Is Us\",\n",
      "            \"network\": {\n",
      "                \"country\": {\n",
      "                    \"code\": \"US\",\n",
      "                    \"name\": \"United States\",\n",
      "                    \"timezone\": \"America/New_York\"\n",
      "                },\n",
      "                \"id\": 1,\n",
      "                \"name\": \"NBC\"\n",
      "            },\n",
      "            \"officialSite\": \"http://www.nbc.com/this-is-us\",\n",
      "            \"premiered\": \"2016-09-20\",\n",
      "            \"rating\": {\n",
      "                \"average\": 8.2\n",
      "            },\n",
      "            \"runtime\": 60,\n",
      "            \"schedule\": {\n",
      "                \"days\": [\n",
      "                    \"Tuesday\"\n",
      "                ],\n",
      "                \"time\": \"21:00\"\n",
      "            },\n",
      "            \"status\": \"Running\",\n",
      "            \"summary\": \"<p>Sometimes life will surprise you. This refreshingly honest and provocative series follows a unique ensemble whose paths cross and their life stories intertwine in curious ways. We find several of them share the same birthday, and so much more than anyone would expect. From the writer and directors of \\\"Crazy, Stupid, Love\\\" comes a smart, modern dramedy that will challenge your everyday presumptions about the people you think you know.</p>\",\n",
      "            \"type\": \"Scripted\",\n",
      "            \"updated\": 1550689353,\n",
      "            \"url\": \"http://www.tvmaze.com/shows/17128/this-is-us\",\n",
      "            \"webChannel\": null,\n",
      "            \"weight\": 99\n",
      "        }\n",
      "    }\n",
      "]\n"
     ]
    }
   ],
   "source": [
    "#list of tv show titles to query\n",
    "tv_shows = [\"Altered Carbon\", \"Grey's Anatomy\", \"This is Us\", \"The Flash\", \"Vikings\", \"Shameless\", \"Arrow\", \"Peaky Blinders\", \"Dirk Gently\"]\n",
    "\n",
    "#tv maze show search base url\n",
    "base_url = \"http://api.tvmaze.com/search/shows?q=\"\n",
    "\n",
    "#json view\n",
    "example_url = base_url + \"This is Us\"\n",
    "print(json.dumps(requests.get(example_url).json(), indent=4, sort_keys=True))"
   ]
  },
  {
   "cell_type": "code",
   "execution_count": 41,
   "metadata": {},
   "outputs": [
    {
     "data": {
      "text/html": [
       "<div>\n",
       "<style scoped>\n",
       "    .dataframe tbody tr th:only-of-type {\n",
       "        vertical-align: middle;\n",
       "    }\n",
       "\n",
       "    .dataframe tbody tr th {\n",
       "        vertical-align: top;\n",
       "    }\n",
       "\n",
       "    .dataframe thead th {\n",
       "        text-align: right;\n",
       "    }\n",
       "</style>\n",
       "<table border=\"1\" class=\"dataframe\">\n",
       "  <thead>\n",
       "    <tr style=\"text-align: right;\">\n",
       "      <th></th>\n",
       "      <th>title</th>\n",
       "      <th>rating</th>\n",
       "    </tr>\n",
       "  </thead>\n",
       "  <tbody>\n",
       "    <tr>\n",
       "      <th>0</th>\n",
       "      <td>Altered Carbon</td>\n",
       "      <td>8.1</td>\n",
       "    </tr>\n",
       "    <tr>\n",
       "      <th>1</th>\n",
       "      <td>Grey's Anatomy</td>\n",
       "      <td>8.4</td>\n",
       "    </tr>\n",
       "    <tr>\n",
       "      <th>2</th>\n",
       "      <td>This Is Us</td>\n",
       "      <td>8.2</td>\n",
       "    </tr>\n",
       "    <tr>\n",
       "      <th>3</th>\n",
       "      <td>The Flash</td>\n",
       "      <td>8.0</td>\n",
       "    </tr>\n",
       "    <tr>\n",
       "      <th>4</th>\n",
       "      <td>Vikings</td>\n",
       "      <td>8.8</td>\n",
       "    </tr>\n",
       "    <tr>\n",
       "      <th>5</th>\n",
       "      <td>Shameless</td>\n",
       "      <td>8.7</td>\n",
       "    </tr>\n",
       "    <tr>\n",
       "      <th>6</th>\n",
       "      <td>Arrow</td>\n",
       "      <td>7.5</td>\n",
       "    </tr>\n",
       "    <tr>\n",
       "      <th>7</th>\n",
       "      <td>Peaky Blinders</td>\n",
       "      <td>9.0</td>\n",
       "    </tr>\n",
       "    <tr>\n",
       "      <th>8</th>\n",
       "      <td>Dirk Gently</td>\n",
       "      <td>7.2</td>\n",
       "    </tr>\n",
       "  </tbody>\n",
       "</table>\n",
       "</div>"
      ],
      "text/plain": [
       "            title  rating\n",
       "0  Altered Carbon     8.1\n",
       "1  Grey's Anatomy     8.4\n",
       "2      This Is Us     8.2\n",
       "3       The Flash     8.0\n",
       "4         Vikings     8.8\n",
       "5       Shameless     8.7\n",
       "6           Arrow     7.5\n",
       "7  Peaky Blinders     9.0\n",
       "8     Dirk Gently     7.2"
      ]
     },
     "execution_count": 41,
     "metadata": {},
     "output_type": "execute_result"
    }
   ],
   "source": [
    "#set up lists to hold response data for name and rating\n",
    "show_titles = []\n",
    "ratings_avg = []\n",
    "networks = []\n",
    "\n",
    "#loop through tv show titles, make requests and parse\n",
    "for show in tv_shows:\n",
    "    try:\n",
    "        target_url = base_url + show\n",
    "        response_tv = requests.get(target_url).json()\n",
    "        show_titles.append(response_tv[0]['show']['name'])\n",
    "        ratings_avg.append(response_tv[0]['show']['rating']['average'])\n",
    "    except KeyError:\n",
    "        print('Shows name not found')\n",
    "    \n",
    "#create dataframe\n",
    "shows_df = pd.DataFrame({\n",
    "    \"title\": show_titles,\n",
    "    \"rating\": ratings\n",
    "})\n",
    "\n",
    "shows_df"
   ]
  },
  {
   "cell_type": "code",
   "execution_count": 28,
   "metadata": {},
   "outputs": [
    {
     "data": {
      "image/png": "[encoded data removed]",
      "text/plain": [
       "<Figure size 432x288 with 1 Axes>"
      ]
     },
     "metadata": {
      "needs_background": "light"
     },
     "output_type": "display_data"
    }
   ],
   "source": [
    "# create a list of numbers for x values\n",
    "tick_locations = np.arange(len(shows_df))\n",
    "\n",
    "# create bar chart and set the values of xticks\n",
    "plt.bar(tick_locations, shows_df['rating'], align=\"center\")\n",
    "plt.xticks(tick_locations, shows_df['title'], rotation=45, ha=\"right\")\n",
    "\n",
    "plt.savefig(\"tv_show_ratings.png\")\n",
    "plt.show()"
   ]
  },
  {
   "cell_type": "markdown",
   "metadata": {},
   "source": [
    "# Exception Handling"
   ]
  },
  {
   "cell_type": "code",
   "execution_count": 29,
   "metadata": {},
   "outputs": [
    {
     "name": "stdout",
     "output_type": "stream",
     "text": [
      "We don't have this person\n",
      "Next...\n"
     ]
    }
   ],
   "source": [
    "students = {\n",
    "    # Name  : Age\n",
    "    \"James\": 27,\n",
    "    \"Sarah\": 19,\n",
    "    \"Jocelyn\": 28\n",
    "}\n",
    "\n",
    "try:\n",
    "    students['Who lol']\n",
    "except KeyError:\n",
    "    print(\"We don't have this person\")\n",
    "    \n",
    "print('Next...')"
   ]
  },
  {
   "cell_type": "code",
   "execution_count": 40,
   "metadata": {},
   "outputs": [
    {
     "name": "stdout",
     "output_type": "stream",
     "text": [
      "Don't forget that we cannot divide zero lol\n",
      "I don't know that variable\n",
      "Numbers can turn into string, but letter string cannot turn into number\n",
      "You made it through the gauntlet--the message survived!\n"
     ]
    }
   ],
   "source": [
    "# Your assignment is to get the last line to print without changing any\n",
    "# of the code below. Instead, wrap each line that throws an error in a\n",
    "# try/except block.\n",
    "try:\n",
    "    print(\"Infinity looks like + \" + str(10 / 0) + \".\")\n",
    "except ZeroDivisionError:\n",
    "    print(\"Don't forget that we cannot divide zero lol\")\n",
    "    \n",
    "try:\n",
    "    print(\"I think her name was + \" + name + \"?\")\n",
    "except NameError:\n",
    "    print(\"I don't know that variable\")\n",
    "\n",
    "try:\n",
    "    print(\"Your name is a nonsense number. Look: \" + int(\"Gabriel\"))\n",
    "except ValueError:\n",
    "    print('Numbers can turn into string, but letter string cannot turn into number')\n",
    "\n",
    "print(\"You made it through the gauntlet--the message survived!\")"
   ]
  },
  {
   "cell_type": "markdown",
   "metadata": {},
   "source": [
    "# Open Weather Wrapper\n",
    "Document: https://pypi.org/project/openweathermapy/"
   ]
  },
  {
   "cell_type": "code",
   "execution_count": 45,
   "metadata": {},
   "outputs": [],
   "source": [
    "#do pip install in anaconda prompt\n",
    "import openweathermapy.core as owm\n",
    "from config import api_key"
   ]
  },
  {
   "cell_type": "code",
   "execution_count": 61,
   "metadata": {},
   "outputs": [
    {
     "name": "stdout",
     "output_type": "stream",
     "text": [
      "Current weather object for Paris: {'coord': {'lon': 2.35, 'lat': 48.86}, 'weather': [{'id': 701, 'main': 'Mist', 'description': 'mist', 'icon': '50n'}, {'id': 741, 'main': 'Fog', 'description': 'fog', 'icon': '50n'}], 'base': 'stations', 'main': {'temp': 3.11, 'pressure': 1032, 'humidity': 93, 'temp_min': 1, 'temp_max': 5}, 'visibility': 3700, 'wind': {'speed': 1.5, 'deg': 20}, 'clouds': {'all': 0}, 'dt': 1550800800, 'sys': {'type': 1, 'id': 6540, 'message': 0.0039, 'country': 'FR', 'sunrise': 1550817997, 'sunset': 1550856141}, 'id': 2988507, 'name': 'Paris', 'cod': 200}.\n"
     ]
    }
   ],
   "source": [
    "# Create settings dictionary with information we're interested in\n",
    "settings = {\"units\": \"metric\", \"appid\": api_key}\n",
    "\n",
    "# Get current weather\n",
    "current_weather_paris = owm.get_current(\"Paris\", **settings)\n",
    "print(f\"Current weather object for Paris: {current_weather_paris}.\")"
   ]
  },
  {
   "cell_type": "code",
   "execution_count": 62,
   "metadata": {},
   "outputs": [
    {
     "name": "stdout",
     "output_type": "stream",
     "text": [
      "The current weather summary for Paris is: ('Paris', 3.11).\n"
     ]
    }
   ],
   "source": [
    "summary = [\"name\", \"main.temp\"]\n",
    "\n",
    "data = current_weather_paris(*summary)\n",
    "print(f\"The current weather summary for Paris is: {data}.\")"
   ]
  },
  {
   "cell_type": "code",
   "execution_count": 67,
   "metadata": {},
   "outputs": [
    {
     "data": {
      "text/plain": [
       "[{'coord': {'lon': 2.35, 'lat': 48.86},\n",
       "  'weather': [{'id': 701,\n",
       "    'main': 'Mist',\n",
       "    'description': 'mist',\n",
       "    'icon': '50n'},\n",
       "   {'id': 741, 'main': 'Fog', 'description': 'fog', 'icon': '50n'}],\n",
       "  'base': 'stations',\n",
       "  'main': {'temp': 3.11,\n",
       "   'pressure': 1032,\n",
       "   'humidity': 93,\n",
       "   'temp_min': 1,\n",
       "   'temp_max': 5},\n",
       "  'visibility': 3700,\n",
       "  'wind': {'speed': 1.5, 'deg': 20},\n",
       "  'clouds': {'all': 0},\n",
       "  'dt': 1550800800,\n",
       "  'sys': {'type': 1,\n",
       "   'id': 6540,\n",
       "   'message': 0.0039,\n",
       "   'country': 'FR',\n",
       "   'sunrise': 1550817997,\n",
       "   'sunset': 1550856141},\n",
       "  'id': 2988507,\n",
       "  'name': 'Paris',\n",
       "  'cod': 200},\n",
       " {'coord': {'lon': -0.13, 'lat': 51.51},\n",
       "  'weather': [{'id': 701,\n",
       "    'main': 'Mist',\n",
       "    'description': 'mist',\n",
       "    'icon': '50n'},\n",
       "   {'id': 741, 'main': 'Fog', 'description': 'fog', 'icon': '50n'}],\n",
       "  'base': 'stations',\n",
       "  'main': {'temp': 6.49,\n",
       "   'pressure': 1032,\n",
       "   'humidity': 93,\n",
       "   'temp_min': 4,\n",
       "   'temp_max': 8},\n",
       "  'visibility': 7000,\n",
       "  'wind': {'speed': 3.1, 'deg': 230},\n",
       "  'clouds': {'all': 0},\n",
       "  'dt': 1550796600,\n",
       "  'sys': {'type': 1,\n",
       "   'id': 1414,\n",
       "   'message': 0.0049,\n",
       "   'country': 'GB',\n",
       "   'sunrise': 1550818863,\n",
       "   'sunset': 1550856470},\n",
       "  'id': 2643743,\n",
       "  'name': 'London',\n",
       "  'cod': 200},\n",
       " {'coord': {'lon': 10.74, 'lat': 59.91},\n",
       "  'weather': [{'id': 600,\n",
       "    'main': 'Snow',\n",
       "    'description': 'light snow',\n",
       "    'icon': '13n'}],\n",
       "  'base': 'stations',\n",
       "  'main': {'temp': -1.95,\n",
       "   'pressure': 1034,\n",
       "   'humidity': 100,\n",
       "   'temp_min': -3,\n",
       "   'temp_max': -1},\n",
       "  'visibility': 7000,\n",
       "  'wind': {'speed': 2.6, 'deg': 150},\n",
       "  'clouds': {'all': 90},\n",
       "  'dt': 1550800200,\n",
       "  'sys': {'type': 1,\n",
       "   'id': 1624,\n",
       "   'message': 0.0034,\n",
       "   'country': 'NO',\n",
       "   'sunrise': 1550817373,\n",
       "   'sunset': 1550852759},\n",
       "  'id': 3143244,\n",
       "  'name': 'Oslo',\n",
       "  'cod': 200},\n",
       " {'coord': {'lon': 116.39, 'lat': 39.91},\n",
       "  'weather': [{'id': 800,\n",
       "    'main': 'Clear',\n",
       "    'description': 'clear sky',\n",
       "    'icon': '01d'}],\n",
       "  'base': 'stations',\n",
       "  'main': {'temp': 4,\n",
       "   'pressure': 1026,\n",
       "   'humidity': 29,\n",
       "   'temp_min': 4,\n",
       "   'temp_max': 4},\n",
       "  'visibility': 10000,\n",
       "  'wind': {'speed': 2, 'deg': 360},\n",
       "  'clouds': {'all': 0},\n",
       "  'dt': 1550799000,\n",
       "  'sys': {'type': 1,\n",
       "   'id': 9609,\n",
       "   'message': 0.0035,\n",
       "   'country': 'CN',\n",
       "   'sunrise': 1550789924,\n",
       "   'sunset': 1550829468},\n",
       "  'id': 1816670,\n",
       "  'name': 'Beijing',\n",
       "  'cod': 200},\n",
       " {'coord': {'lon': 37.62, 'lat': 55.75},\n",
       "  'weather': [{'id': 620,\n",
       "    'main': 'Snow',\n",
       "    'description': 'light shower snow',\n",
       "    'icon': '13n'}],\n",
       "  'base': 'stations',\n",
       "  'main': {'temp': -8.75,\n",
       "   'pressure': 1006,\n",
       "   'humidity': 78,\n",
       "   'temp_min': -9,\n",
       "   'temp_max': -8},\n",
       "  'visibility': 3500,\n",
       "  'wind': {'speed': 8, 'deg': 330, 'gust': 13},\n",
       "  'clouds': {'all': 90},\n",
       "  'dt': 1550797200,\n",
       "  'sys': {'type': 1,\n",
       "   'id': 9027,\n",
       "   'message': 0.0035,\n",
       "   'country': 'RU',\n",
       "   'sunrise': 1550810320,\n",
       "   'sunset': 1550846902},\n",
       "  'id': 524901,\n",
       "  'name': 'Moscow',\n",
       "  'cod': 200},\n",
       " {'coord': {'lon': 131.89, 'lat': 43.12},\n",
       "  'weather': [{'id': 800,\n",
       "    'main': 'Clear',\n",
       "    'description': 'clear sky',\n",
       "    'icon': '01d'}],\n",
       "  'base': 'stations',\n",
       "  'main': {'temp': 5,\n",
       "   'pressure': 1020,\n",
       "   'humidity': 25,\n",
       "   'temp_min': 5,\n",
       "   'temp_max': 5},\n",
       "  'visibility': 10000,\n",
       "  'wind': {'speed': 5, 'deg': 340},\n",
       "  'clouds': {'all': 0},\n",
       "  'dt': 1550799000,\n",
       "  'sys': {'type': 1,\n",
       "   'id': 8885,\n",
       "   'message': 0.0031,\n",
       "   'country': 'RU',\n",
       "   'sunrise': 1550786448,\n",
       "   'sunset': 1550825508},\n",
       "  'id': 2013348,\n",
       "  'name': 'Vladivostok',\n",
       "  'cod': 200},\n",
       " {'coord': {'lon': 135.5, 'lat': 34.7},\n",
       "  'weather': [{'id': 803,\n",
       "    'main': 'Clouds',\n",
       "    'description': 'broken clouds',\n",
       "    'icon': '04d'}],\n",
       "  'base': 'stations',\n",
       "  'main': {'temp': 8.49,\n",
       "   'pressure': 1021,\n",
       "   'humidity': 57,\n",
       "   'temp_min': 8,\n",
       "   'temp_max': 9},\n",
       "  'visibility': 10000,\n",
       "  'wind': {'speed': 4.1, 'deg': 30},\n",
       "  'clouds': {'all': 75},\n",
       "  'dt': 1550799000,\n",
       "  'sys': {'type': 1,\n",
       "   'id': 7962,\n",
       "   'message': 0.0035,\n",
       "   'country': 'JP',\n",
       "   'sunrise': 1550784995,\n",
       "   'sunset': 1550825220},\n",
       "  'id': 1853909,\n",
       "  'name': 'Osaka',\n",
       "  'cod': 200},\n",
       " {'coord': {'lon': -157.86, 'lat': 21.3},\n",
       "  'weather': [{'id': 803,\n",
       "    'main': 'Clouds',\n",
       "    'description': 'broken clouds',\n",
       "    'icon': '04n'}],\n",
       "  'base': 'stations',\n",
       "  'main': {'temp': 24.92,\n",
       "   'pressure': 1013,\n",
       "   'humidity': 61,\n",
       "   'temp_min': 24,\n",
       "   'temp_max': 26},\n",
       "  'visibility': 16093,\n",
       "  'wind': {'speed': 4.1, 'deg': 200},\n",
       "  'clouds': {'all': 75},\n",
       "  'dt': 1550800380,\n",
       "  'sys': {'type': 1,\n",
       "   'id': 7878,\n",
       "   'message': 0.0038,\n",
       "   'country': 'US',\n",
       "   'sunrise': 1550854631,\n",
       "   'sunset': 1550896371},\n",
       "  'id': 5856195,\n",
       "  'name': 'Honolulu',\n",
       "  'cod': 200},\n",
       " {'coord': {'lon': -95.72, 'lat': 44.94},\n",
       "  'weather': [{'id': 802,\n",
       "    'main': 'Clouds',\n",
       "    'description': 'scattered clouds',\n",
       "    'icon': '03n'}],\n",
       "  'base': 'stations',\n",
       "  'main': {'temp': -11.3,\n",
       "   'pressure': 1025,\n",
       "   'humidity': 72,\n",
       "   'temp_min': -13,\n",
       "   'temp_max': -9},\n",
       "  'visibility': 16093,\n",
       "  'wind': {'speed': 1.41, 'deg': 166.502},\n",
       "  'clouds': {'all': 40},\n",
       "  'dt': 1550799420,\n",
       "  'sys': {'type': 1,\n",
       "   'id': 5004,\n",
       "   'message': 0.0047,\n",
       "   'country': 'US',\n",
       "   'sunrise': 1550841160,\n",
       "   'sunset': 1550880042},\n",
       "  'id': 5038018,\n",
       "  'name': 'Montevideo',\n",
       "  'cod': 200},\n",
       " {'coord': {'lon': 44.01, 'lat': 36.19},\n",
       "  'weather': [{'id': 802,\n",
       "    'main': 'Clouds',\n",
       "    'description': 'scattered clouds',\n",
       "    'icon': '03n'}],\n",
       "  'base': 'stations',\n",
       "  'main': {'temp': 3.82,\n",
       "   'pressure': 1020.37,\n",
       "   'humidity': 87,\n",
       "   'temp_min': 3.82,\n",
       "   'temp_max': 3.82,\n",
       "   'sea_level': 1020.37,\n",
       "   'grnd_level': 977.97},\n",
       "  'wind': {'speed': 1.66, 'deg': 75.002},\n",
       "  'clouds': {'all': 32},\n",
       "  'dt': 1550801401,\n",
       "  'sys': {'message': 0.0048,\n",
       "   'country': 'IQ',\n",
       "   'sunrise': 1550807029,\n",
       "   'sunset': 1550847099},\n",
       "  'id': 95446,\n",
       "  'name': 'Erbil',\n",
       "  'cod': 200}]"
      ]
     },
     "execution_count": 67,
     "metadata": {},
     "output_type": "execute_result"
    }
   ],
   "source": [
    "weather_cities = []\n",
    "with open(\"cities.csv\") as the_cities:\n",
    "    read_cities = csv.reader(the_cities)\n",
    "    cities = [city[0] for city in read_cities]\n",
    "    weather_cities = [owm.get_current(city, **settings) for city in cities]\n",
    "weather_cities"
   ]
  },
  {
   "cell_type": "code",
   "execution_count": 68,
   "metadata": {},
   "outputs": [
    {
     "data": {
      "text/plain": [
       "[(3.11, 48.86, 2.35),\n",
       " (6.49, 51.51, -0.13),\n",
       " (-1.95, 59.91, 10.74),\n",
       " (4, 39.91, 116.39),\n",
       " (-8.75, 55.75, 37.62),\n",
       " (5, 43.12, 131.89),\n",
       " (8.49, 34.7, 135.5),\n",
       " (24.92, 21.3, -157.86),\n",
       " (-11.3, 44.94, -95.72),\n",
       " (3.82, 36.19, 44.01)]"
      ]
     },
     "execution_count": 68,
     "metadata": {},
     "output_type": "execute_result"
    }
   ],
   "source": [
    "summary_weather = [\"main.temp\",\"coord.lat\",\"coord.lon\"]\n",
    "weather_extract = [cities_name(*summary_weather) for cities_name in weather_cities]\n",
    "weather_extract"
   ]
  },
  {
   "cell_type": "code",
   "execution_count": 72,
   "metadata": {
    "scrolled": true
   },
   "outputs": [
    {
     "data": {
      "text/html": [
       "<div>\n",
       "<style scoped>\n",
       "    .dataframe tbody tr th:only-of-type {\n",
       "        vertical-align: middle;\n",
       "    }\n",
       "\n",
       "    .dataframe tbody tr th {\n",
       "        vertical-align: top;\n",
       "    }\n",
       "\n",
       "    .dataframe thead th {\n",
       "        text-align: right;\n",
       "    }\n",
       "</style>\n",
       "<table border=\"1\" class=\"dataframe\">\n",
       "  <thead>\n",
       "    <tr style=\"text-align: right;\">\n",
       "      <th></th>\n",
       "      <th>Temperature</th>\n",
       "      <th>Latitude</th>\n",
       "      <th>Longitude</th>\n",
       "    </tr>\n",
       "  </thead>\n",
       "  <tbody>\n",
       "    <tr>\n",
       "      <th>Paris</th>\n",
       "      <td>3.11</td>\n",
       "      <td>48.86</td>\n",
       "      <td>2.35</td>\n",
       "    </tr>\n",
       "    <tr>\n",
       "      <th>London</th>\n",
       "      <td>6.49</td>\n",
       "      <td>51.51</td>\n",
       "      <td>-0.13</td>\n",
       "    </tr>\n",
       "    <tr>\n",
       "      <th>Oslo</th>\n",
       "      <td>-1.95</td>\n",
       "      <td>59.91</td>\n",
       "      <td>10.74</td>\n",
       "    </tr>\n",
       "    <tr>\n",
       "      <th>Beijing</th>\n",
       "      <td>4.00</td>\n",
       "      <td>39.91</td>\n",
       "      <td>116.39</td>\n",
       "    </tr>\n",
       "    <tr>\n",
       "      <th>Moscow</th>\n",
       "      <td>-8.75</td>\n",
       "      <td>55.75</td>\n",
       "      <td>37.62</td>\n",
       "    </tr>\n",
       "    <tr>\n",
       "      <th>Vladivostok</th>\n",
       "      <td>5.00</td>\n",
       "      <td>43.12</td>\n",
       "      <td>131.89</td>\n",
       "    </tr>\n",
       "    <tr>\n",
       "      <th>Osaka</th>\n",
       "      <td>8.49</td>\n",
       "      <td>34.70</td>\n",
       "      <td>135.50</td>\n",
       "    </tr>\n",
       "    <tr>\n",
       "      <th>Honolulu</th>\n",
       "      <td>24.92</td>\n",
       "      <td>21.30</td>\n",
       "      <td>-157.86</td>\n",
       "    </tr>\n",
       "    <tr>\n",
       "      <th>Montevideo</th>\n",
       "      <td>-11.30</td>\n",
       "      <td>44.94</td>\n",
       "      <td>-95.72</td>\n",
       "    </tr>\n",
       "    <tr>\n",
       "      <th>Erbil</th>\n",
       "      <td>3.82</td>\n",
       "      <td>36.19</td>\n",
       "      <td>44.01</td>\n",
       "    </tr>\n",
       "  </tbody>\n",
       "</table>\n",
       "</div>"
      ],
      "text/plain": [
       "             Temperature  Latitude  Longitude\n",
       "Paris               3.11     48.86       2.35\n",
       "London              6.49     51.51      -0.13\n",
       "Oslo               -1.95     59.91      10.74\n",
       "Beijing             4.00     39.91     116.39\n",
       "Moscow             -8.75     55.75      37.62\n",
       "Vladivostok         5.00     43.12     131.89\n",
       "Osaka               8.49     34.70     135.50\n",
       "Honolulu           24.92     21.30    -157.86\n",
       "Montevideo        -11.30     44.94     -95.72\n",
       "Erbil               3.82     36.19      44.01"
      ]
     },
     "execution_count": 72,
     "metadata": {},
     "output_type": "execute_result"
    }
   ],
   "source": [
    "column_names = [\"Temperature\", \"Latitude\", \"Longitude\"]\n",
    "weather_cities = pd.DataFrame(weather_extract, index=cities, columns=column_names)\n",
    "weather_cities"
   ]
  },
  {
   "cell_type": "code",
   "execution_count": null,
   "metadata": {},
   "outputs": [],
   "source": []
  }
 ],
 "metadata": {
  "kernelspec": {
   "display_name": "Python 3",
   "language": "python",
   "name": "python3"
  },
  "language_info": {
   "codemirror_mode": {
    "name": "ipython",
    "version": 3
   },
   "file_extension": ".py",
   "mimetype": "text/x-python",
   "name": "python",
   "nbconvert_exporter": "python",
   "pygments_lexer": "ipython3",
   "version": "3.7.1"
  }
 },
 "nbformat": 4,
 "nbformat_minor": 2
}
