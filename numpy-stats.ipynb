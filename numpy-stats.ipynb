{
 "cells": [
  {
   "cell_type": "code",
   "execution_count": 127,
   "metadata": {},
   "outputs": [
    {
     "data": {
      "text/plain": [
       "'D:\\\\2019 Spring Baruch\\\\Columbia Engineering\\\\Python'"
      ]
     },
     "execution_count": 127,
     "metadata": {},
     "output_type": "execute_result"
    }
   ],
   "source": [
    "import os\n",
    "import matplotlib.pyplot as plt\n",
    "import numpy as np\n",
    "import pandas as pd\n",
    "from random import random\n",
    "from scipy.stats import sem\n",
    "from scipy import stats\n",
    "from collections import Counter\n",
    "\n",
    "os.chdir('D:\\\\2019 Spring Baruch\\\\Columbia Engineering\\\\Python')\n",
    "os.getcwd()"
   ]
  },
  {
   "cell_type": "markdown",
   "metadata": {},
   "source": [
    "# Stat Functions "
   ]
  },
  {
   "cell_type": "code",
   "execution_count": 128,
   "metadata": {},
   "outputs": [],
   "source": [
    "def mean(arr):\n",
    "    return sum(arr) / len(arr)\n",
    "\n",
    "def median(arr):\n",
    "    arr.sort()\n",
    "    if len(arr) % 2 == 1:\n",
    "        return arr[len(arr) // 2]\n",
    "    else:\n",
    "        mid1 = len(arr) // 2\n",
    "        mid2 = mid1 - 1\n",
    "        return (arr[mid1] + arr[mid2]) / 2\n",
    "\n",
    "\n",
    "def mode(arr):\n",
    "    return Counter(arr).most_common(1)[0]\n",
    "\n",
    "\n",
    "def multi_mode(arr):\n",
    "    # Count items\n",
    "    counter = Counter(arr)\n",
    "\n",
    "    # Get number of times most frequently occurring item appears\n",
    "    freq = counter.most_common(1)[0][1]\n",
    "\n",
    "    # Return list of tuples containing most frequently occurring elements\n",
    "    return [(key, val) for key, val in counter.items() if val == freq]"
   ]
  },
  {
   "cell_type": "code",
   "execution_count": 129,
   "metadata": {},
   "outputs": [
    {
     "name": "stdout",
     "output_type": "stream",
     "text": [
      "Median Price: 425.0\n"
     ]
    }
   ],
   "source": [
    "prices = [4, 425, 984, 2932, 49]\n",
    "print(f\"Median Price: {np.median(prices)}\")"
   ]
  },
  {
   "cell_type": "code",
   "execution_count": 130,
   "metadata": {},
   "outputs": [
    {
     "name": "stdout",
     "output_type": "stream",
     "text": [
      "Mean Bootcamp Age: 36.7\n",
      "Median Bootcamp Age: 35.5\n"
     ]
    }
   ],
   "source": [
    "# Ages of students in bootcamp\n",
    "bootcamp_classroom_ages = [27, 35, 42, 52, 36, 28]\n",
    "print(f\"Mean Bootcamp Age: {round(np.mean(bootcamp_classroom_ages),1)}\")\n",
    "print(f\"Median Bootcamp Age: {np.median(bootcamp_classroom_ages)}\")"
   ]
  },
  {
   "cell_type": "code",
   "execution_count": 131,
   "metadata": {},
   "outputs": [
    {
     "name": "stdout",
     "output_type": "stream",
     "text": [
      "Mode of Birthday Party Ages: 19.142857142857142\n"
     ]
    }
   ],
   "source": [
    "# Ages of children and parents at child's party\n",
    "birthday_party_ages = [6, 5, 6, 6, 35, 42, 34]\n",
    "print(f\"Mode of Birthday Party Ages: {np.mean(birthday_party_ages)}\")"
   ]
  },
  {
   "cell_type": "code",
   "execution_count": 132,
   "metadata": {},
   "outputs": [
    {
     "name": "stdout",
     "output_type": "stream",
     "text": [
      "Mean of Geography Test Scores: 91.0\n"
     ]
    }
   ],
   "source": [
    " # Test score from a 2nd grade geography test\n",
    "geo_grades = [87, 89, 91, 93, 95]\n",
    "print(f\"Mean of Geography Test Scores: {np.mean(geo_grades)}\")"
   ]
  },
  {
   "cell_type": "code",
   "execution_count": 133,
   "metadata": {},
   "outputs": [
    {
     "name": "stdout",
     "output_type": "stream",
     "text": [
      "Median of QM Grades: 58.0\n",
      "Modes of QM Grades: [(63, 2), (13, 2)]\n",
      "Mean of QM Grades: 45.142857142857146\n"
     ]
    }
   ],
   "source": [
    "# Test scores from a graduate quantum mechanics midterm\n",
    "quantum_grades = [63, 63, 98, 13, 58, 13, 8]\n",
    "print(f\"Median of QM Grades: {np.median(quantum_grades)}\")\n",
    "print(f\"Modes of QM Grades: {multi_mode(quantum_grades)}\")\n",
    "print(f\"Mean of QM Grades: {np.mean(quantum_grades)}\")"
   ]
  },
  {
   "cell_type": "markdown",
   "metadata": {},
   "source": [
    "# Quartile Outliers "
   ]
  },
  {
   "cell_type": "code",
   "execution_count": 134,
   "metadata": {},
   "outputs": [
    {
     "data": {
      "text/plain": [
       "array([ 2.3, 10.2, 11.2, 12.3, 14.5, 14.6, 15. , 15.1, 19. , 24. ])"
      ]
     },
     "execution_count": 134,
     "metadata": {},
     "output_type": "execute_result"
    }
   ],
   "source": [
    "# Data Points\n",
    "arr = np.array([2.3, 10.2,11.2, 12.3, 14.5, 14.6, 15.0, 15.1, 19.0, 24.0])\n",
    "arr"
   ]
  },
  {
   "cell_type": "code",
   "execution_count": 135,
   "metadata": {},
   "outputs": [
    {
     "data": {
      "text/plain": [
       "14.55"
      ]
     },
     "execution_count": 135,
     "metadata": {},
     "output_type": "execute_result"
    }
   ],
   "source": [
    "# Find the median\n",
    "mid = median(arr)\n",
    "mid"
   ]
  },
  {
   "cell_type": "code",
   "execution_count": 136,
   "metadata": {},
   "outputs": [
    {
     "name": "stdout",
     "output_type": "stream",
     "text": [
      "Q1 is 11.474999999999998\n",
      "Q3 is 15.075\n",
      "Interquartile range: 3.6\n"
     ]
    }
   ],
   "source": [
    "# Use numpy to create quartiles\n",
    "q1 = np.percentile(arr, 25)\n",
    "q3 = np.percentile(arr,75)\n",
    "\n",
    "# Print the quartiles\n",
    "print(f\"Q1 is {q1}\")\n",
    "print(f\"Q3 is {q3}\")\n",
    "\n",
    "# Calculate the interquartile range\n",
    "iqr = (q3 - q1)\n",
    "print(\"Interquartile range:\", round(iqr,2))"
   ]
  },
  {
   "cell_type": "code",
   "execution_count": 137,
   "metadata": {},
   "outputs": [],
   "source": [
    "# Find lower boundary: Q1 - 1.5 * IQR\n",
    "lower_boundary = q1 - (1.5 * iqr)\n",
    "upper_boundary = q3 + (1.5 * iqr)"
   ]
  },
  {
   "cell_type": "code",
   "execution_count": 138,
   "metadata": {},
   "outputs": [],
   "source": [
    "# Check for any lower outliers\n",
    "lo_out = [arr < lower_boundary]\n",
    "up_out = [arr > upper_boundary]"
   ]
  },
  {
   "cell_type": "code",
   "execution_count": 139,
   "metadata": {},
   "outputs": [
    {
     "data": {
      "image/png": "[encoded data removed]",
      "text/plain": [
       "<Figure size 432x288 with 1 Axes>"
      ]
     },
     "metadata": {
      "needs_background": "light"
     },
     "output_type": "display_data"
    }
   ],
   "source": [
    "# Create box plot\n",
    "plt.boxplot(arr, showmeans=True)\n",
    "plt.grid()\n",
    "plt.show()"
   ]
  },
  {
   "cell_type": "markdown",
   "metadata": {},
   "source": [
    "# Standard Error"
   ]
  },
  {
   "cell_type": "code",
   "execution_count": 140,
   "metadata": {},
   "outputs": [
    {
     "data": {
      "text/html": [
       "<div>\n",
       "<style scoped>\n",
       "    .dataframe tbody tr th:only-of-type {\n",
       "        vertical-align: middle;\n",
       "    }\n",
       "\n",
       "    .dataframe tbody tr th {\n",
       "        vertical-align: top;\n",
       "    }\n",
       "\n",
       "    .dataframe thead th {\n",
       "        text-align: right;\n",
       "    }\n",
       "</style>\n",
       "<table border=\"1\" class=\"dataframe\">\n",
       "  <thead>\n",
       "    <tr style=\"text-align: right;\">\n",
       "      <th></th>\n",
       "      <th>Crime Rate Per Capita</th>\n",
       "      <th>Proportion of Land Zoned for Lots</th>\n",
       "      <th>Proportion of Non-Retail Acres</th>\n",
       "      <th>Charles River</th>\n",
       "      <th>Nitric Oxides Concentration</th>\n",
       "      <th>Avg Rooms Per Dwelling</th>\n",
       "      <th>Proportion of Owner-Occupied Units Before 1940</th>\n",
       "      <th>Weighted Distances to Empl Centres</th>\n",
       "      <th>Accessibility to Radial Highways</th>\n",
       "      <th>Property Tax Rate</th>\n",
       "      <th>Pupil Teacher Ratio</th>\n",
       "      <th>Proportion of Blacks by Town</th>\n",
       "      <th>% of Lower Status</th>\n",
       "      <th>Median of Owner-Occupied Homes</th>\n",
       "    </tr>\n",
       "  </thead>\n",
       "  <tbody>\n",
       "    <tr>\n",
       "      <th>0</th>\n",
       "      <td>0.00632</td>\n",
       "      <td>18.0</td>\n",
       "      <td>2.31</td>\n",
       "      <td>0</td>\n",
       "      <td>0.538</td>\n",
       "      <td>6.575</td>\n",
       "      <td>65.2</td>\n",
       "      <td>4.0900</td>\n",
       "      <td>1</td>\n",
       "      <td>296.0</td>\n",
       "      <td>15.3</td>\n",
       "      <td>396.90</td>\n",
       "      <td>4.98</td>\n",
       "      <td>24.0</td>\n",
       "    </tr>\n",
       "    <tr>\n",
       "      <th>1</th>\n",
       "      <td>0.02731</td>\n",
       "      <td>0.0</td>\n",
       "      <td>7.07</td>\n",
       "      <td>0</td>\n",
       "      <td>0.469</td>\n",
       "      <td>6.421</td>\n",
       "      <td>78.9</td>\n",
       "      <td>4.9671</td>\n",
       "      <td>2</td>\n",
       "      <td>242.0</td>\n",
       "      <td>17.8</td>\n",
       "      <td>396.90</td>\n",
       "      <td>9.14</td>\n",
       "      <td>21.6</td>\n",
       "    </tr>\n",
       "    <tr>\n",
       "      <th>2</th>\n",
       "      <td>0.02729</td>\n",
       "      <td>0.0</td>\n",
       "      <td>7.07</td>\n",
       "      <td>0</td>\n",
       "      <td>0.469</td>\n",
       "      <td>7.185</td>\n",
       "      <td>61.1</td>\n",
       "      <td>4.9671</td>\n",
       "      <td>2</td>\n",
       "      <td>242.0</td>\n",
       "      <td>17.8</td>\n",
       "      <td>392.83</td>\n",
       "      <td>4.03</td>\n",
       "      <td>34.7</td>\n",
       "    </tr>\n",
       "    <tr>\n",
       "      <th>3</th>\n",
       "      <td>0.03237</td>\n",
       "      <td>0.0</td>\n",
       "      <td>2.18</td>\n",
       "      <td>0</td>\n",
       "      <td>0.458</td>\n",
       "      <td>6.998</td>\n",
       "      <td>45.8</td>\n",
       "      <td>6.0622</td>\n",
       "      <td>3</td>\n",
       "      <td>222.0</td>\n",
       "      <td>18.7</td>\n",
       "      <td>394.63</td>\n",
       "      <td>2.94</td>\n",
       "      <td>33.4</td>\n",
       "    </tr>\n",
       "    <tr>\n",
       "      <th>4</th>\n",
       "      <td>0.06905</td>\n",
       "      <td>0.0</td>\n",
       "      <td>2.18</td>\n",
       "      <td>0</td>\n",
       "      <td>0.458</td>\n",
       "      <td>7.147</td>\n",
       "      <td>54.2</td>\n",
       "      <td>6.0622</td>\n",
       "      <td>3</td>\n",
       "      <td>222.0</td>\n",
       "      <td>18.7</td>\n",
       "      <td>396.90</td>\n",
       "      <td>5.33</td>\n",
       "      <td>36.2</td>\n",
       "    </tr>\n",
       "  </tbody>\n",
       "</table>\n",
       "</div>"
      ],
      "text/plain": [
       "   Crime Rate Per Capita  Proportion of Land Zoned for Lots  \\\n",
       "0                0.00632                               18.0   \n",
       "1                0.02731                                0.0   \n",
       "2                0.02729                                0.0   \n",
       "3                0.03237                                0.0   \n",
       "4                0.06905                                0.0   \n",
       "\n",
       "   Proportion of Non-Retail Acres  Charles River  Nitric Oxides Concentration  \\\n",
       "0                            2.31              0                        0.538   \n",
       "1                            7.07              0                        0.469   \n",
       "2                            7.07              0                        0.469   \n",
       "3                            2.18              0                        0.458   \n",
       "4                            2.18              0                        0.458   \n",
       "\n",
       "   Avg Rooms Per Dwelling  Proportion of Owner-Occupied Units Before 1940  \\\n",
       "0                   6.575                                            65.2   \n",
       "1                   6.421                                            78.9   \n",
       "2                   7.185                                            61.1   \n",
       "3                   6.998                                            45.8   \n",
       "4                   7.147                                            54.2   \n",
       "\n",
       "   Weighted Distances to Empl Centres  Accessibility to Radial Highways  \\\n",
       "0                              4.0900                                 1   \n",
       "1                              4.9671                                 2   \n",
       "2                              4.9671                                 2   \n",
       "3                              6.0622                                 3   \n",
       "4                              6.0622                                 3   \n",
       "\n",
       "   Property Tax Rate  Pupil Teacher Ratio  Proportion of Blacks by Town  \\\n",
       "0              296.0                 15.3                        396.90   \n",
       "1              242.0                 17.8                        396.90   \n",
       "2              242.0                 17.8                        392.83   \n",
       "3              222.0                 18.7                        394.63   \n",
       "4              222.0                 18.7                        396.90   \n",
       "\n",
       "   % of Lower Status  Median of Owner-Occupied Homes  \n",
       "0               4.98                            24.0  \n",
       "1               9.14                            21.6  \n",
       "2               4.03                            34.7  \n",
       "3               2.94                            33.4  \n",
       "4               5.33                            36.2  "
      ]
     },
     "execution_count": 140,
     "metadata": {},
     "output_type": "execute_result"
    }
   ],
   "source": [
    "housing_columns = ['Crime Rate Per Capita', 'Proportion of Land Zoned for Lots',\n",
    "                   'Proportion of Non-Retail Acres', 'Charles River',\n",
    "                   'Nitric Oxides Concentration', 'Avg Rooms Per Dwelling',\n",
    "                   'Proportion of Owner-Occupied Units Before 1940',\n",
    "                   'Weighted Distances to Empl Centres',\n",
    "                   'Accessibility to Radial Highways', 'Property Tax Rate',\n",
    "                   'Pupil Teacher Ratio', 'Proportion of Blacks by Town',\n",
    "                   '% of Lower Status', 'Median of Owner-Occupied Homes']\n",
    "housing = pd.read_csv('housing_data.csv', names=housing_columns)\n",
    "housing.head()"
   ]
  },
  {
   "cell_type": "code",
   "execution_count": 141,
   "metadata": {},
   "outputs": [
    {
     "name": "stdout",
     "output_type": "stream",
     "text": [
      "<class 'pandas.core.frame.DataFrame'>\n",
      "RangeIndex: 506 entries, 0 to 505\n",
      "Data columns (total 14 columns):\n",
      "Crime Rate Per Capita                             506 non-null float64\n",
      "Proportion of Land Zoned for Lots                 506 non-null float64\n",
      "Proportion of Non-Retail Acres                    506 non-null float64\n",
      "Charles River                                     506 non-null int64\n",
      "Nitric Oxides Concentration                       506 non-null float64\n",
      "Avg Rooms Per Dwelling                            506 non-null float64\n",
      "Proportion of Owner-Occupied Units Before 1940    506 non-null float64\n",
      "Weighted Distances to Empl Centres                506 non-null float64\n",
      "Accessibility to Radial Highways                  506 non-null int64\n",
      "Property Tax Rate                                 506 non-null float64\n",
      "Pupil Teacher Ratio                               506 non-null float64\n",
      "Proportion of Blacks by Town                      506 non-null float64\n",
      "% of Lower Status                                 506 non-null float64\n",
      "Median of Owner-Occupied Homes                    506 non-null float64\n",
      "dtypes: float64(12), int64(2)\n",
      "memory usage: 55.4 KB\n"
     ]
    }
   ],
   "source": [
    "housing.info()"
   ]
  },
  {
   "cell_type": "code",
   "execution_count": 142,
   "metadata": {},
   "outputs": [],
   "source": [
    "group_size = 20\n",
    "lim = len(housing) // group_size\n",
    "housing_sample = [housing.iloc[(i*group_size):(i*group_size + group_size), 13]\n",
    "                  for i in range(0,lim)]"
   ]
  },
  {
   "cell_type": "code",
   "execution_count": 143,
   "metadata": {},
   "outputs": [],
   "source": [
    "#Calculate means\n",
    "mean_housing = [np.mean(s) for s in housing_sample]\n",
    "\n",
    "#Standard error of the means\n",
    "std_error_housing = [s.sem() for s in housing_sample]"
   ]
  },
  {
   "cell_type": "code",
   "execution_count": 144,
   "metadata": {},
   "outputs": [
    {
     "data": {
      "image/png": "[encoded data removed]",
      "text/plain": [
       "<Figure size 432x288 with 1 Axes>"
      ]
     },
     "metadata": {
      "needs_background": "light"
     },
     "output_type": "display_data"
    }
   ],
   "source": [
    "# Plot sample means with error bars\n",
    "fig, ax = plt.subplots()\n",
    "\n",
    "ax.errorbar(np.arange(0, len(mean_housing)), mean_housing, \n",
    "            yerr=std_error_housing, fmt=\"o\", color=\"b\",\n",
    "            alpha=0.5, label=\"Mean of Pupil-Teacher Ratio\")\n",
    "\n",
    "ax.set_xlim(-0.5, len(mean_housing))\n",
    "\n",
    "ax.set_xlabel(\"Sample Number\")\n",
    "ax.set_ylabel(\"Mean of Median\")\n",
    "\n",
    "plt.legend(loc=\"best\", fontsize=\"small\", fancybox=True)\n",
    "\n",
    "plt.show()"
   ]
  },
  {
   "cell_type": "markdown",
   "metadata": {},
   "source": [
    "# T-Test Statistics\n",
    "Test whether two samples have significantly different means \n",
    "- Ho: the mean height of WBA players is similar to the mean of standard height\n",
    "- Ha: the WBA players are taller than standard on average"
   ]
  },
  {
   "cell_type": "code",
   "execution_count": 145,
   "metadata": {},
   "outputs": [],
   "source": [
    "general_heights = pd.read_csv('general_heights.csv')\n",
    "wba = pd.read_csv('wba_data.csv')\n",
    "wba_heights = wba.iloc[:,-1]\n",
    "(t_stat, p) = stats.ttest_ind(general_heights, wba_heights, equal_var=False)"
   ]
  },
  {
   "cell_type": "code",
   "execution_count": 146,
   "metadata": {},
   "outputs": [
    {
     "name": "stdout",
     "output_type": "stream",
     "text": [
      "The mean height of WBA players is 72.32.\n",
      "The mean height of women sampled is 64.68416666666667.\n",
      "p is 3.147413627696938e-33.\n",
      "The difference in sample means is significant.\n"
     ]
    }
   ],
   "source": [
    "# Report the data\n",
    "print(\"The mean height of WBA players is {}.\".format(wba_heights.mean()))\n",
    "print(\"The mean height of women sampled is {}.\".format(\n",
    "    general_heights.values.mean()))\n",
    "\n",
    "print(\"p is {}.\".format(p[0]))\n",
    "if p < 0.05:\n",
    "    print(\"The difference in sample means is significant.\")\n",
    "else:\n",
    "    print(\"The difference in sample means is not significant.\")"
   ]
  },
  {
   "cell_type": "code",
   "execution_count": 147,
   "metadata": {},
   "outputs": [],
   "source": [
    "# Plot sample means with error bars\n",
    "tick_labels = [\"General Public\", \"WBA Players\"]\n",
    "\n",
    "means = [general_heights.mean().values[0], wba_heights.mean()]\n",
    "x_axis = np.arange(0, len(means))\n",
    "\n",
    "sem = [general_heights.sem().values[0], wba_heights.sem()]"
   ]
  },
  {
   "cell_type": "code",
   "execution_count": 148,
   "metadata": {},
   "outputs": [
    {
     "data": {
      "image/png": "[encoded data removed]",
      "text/plain": [
       "<Figure size 432x288 with 1 Axes>"
      ]
     },
     "metadata": {
      "needs_background": "light"
     },
     "output_type": "display_data"
    }
   ],
   "source": [
    "# Plot mean height of players\n",
    "fig, ax = plt.subplots()\n",
    "fig.suptitle(\"Mean Height of Women in General Population and WBA Players\",\n",
    "             fontsize=12, fontweight=\"bold\")\n",
    "ax.errorbar(x_axis, means, yerr=sem, fmt=\"o\")\n",
    "ax.set_xlim(-0.5, 1.5)\n",
    "ax.set_ylim(64, 73)\n",
    "ax.set_xticklabels(tick_labels)\n",
    "ax.set_xticks([0, 1])\n",
    "ax.set_ylabel(\"Height (Inches)\")\n",
    "\n",
    "plt.show()"
   ]
  },
  {
   "cell_type": "markdown",
   "metadata": {},
   "source": [
    "# Fits and Regression"
   ]
  },
  {
   "cell_type": "code",
   "execution_count": 149,
   "metadata": {},
   "outputs": [
    {
     "data": {
      "text/html": [
       "<div>\n",
       "<style scoped>\n",
       "    .dataframe tbody tr th:only-of-type {\n",
       "        vertical-align: middle;\n",
       "    }\n",
       "\n",
       "    .dataframe tbody tr th {\n",
       "        vertical-align: top;\n",
       "    }\n",
       "\n",
       "    .dataframe thead th {\n",
       "        text-align: right;\n",
       "    }\n",
       "</style>\n",
       "<table border=\"1\" class=\"dataframe\">\n",
       "  <thead>\n",
       "    <tr style=\"text-align: right;\">\n",
       "      <th></th>\n",
       "      <th>year</th>\n",
       "      <th>population</th>\n",
       "      <th>violent crime</th>\n",
       "      <th>violent crime rate</th>\n",
       "      <th>murder and non-negligent manslaughter</th>\n",
       "      <th>murder and non-negligent manslaughter rate</th>\n",
       "      <th>rape</th>\n",
       "      <th>rape rate</th>\n",
       "      <th>robbery</th>\n",
       "      <th>robbery rate</th>\n",
       "      <th>aggravated assault</th>\n",
       "      <th>aggravated assault rate</th>\n",
       "      <th>property crime</th>\n",
       "      <th>property crime rate</th>\n",
       "      <th>burglary</th>\n",
       "      <th>burglary rate</th>\n",
       "      <th>larceny-theft</th>\n",
       "      <th>larceny-theft rate</th>\n",
       "      <th>motor vehicle theft</th>\n",
       "      <th>motor vehicle theft rate</th>\n",
       "    </tr>\n",
       "  </thead>\n",
       "  <tbody>\n",
       "    <tr>\n",
       "      <th>0</th>\n",
       "      <td>1994.0</td>\n",
       "      <td>260327021.0</td>\n",
       "      <td>1857670.0</td>\n",
       "      <td>713.6</td>\n",
       "      <td>23326.0</td>\n",
       "      <td>9.0</td>\n",
       "      <td>102216.0</td>\n",
       "      <td>39.3</td>\n",
       "      <td>618949.0</td>\n",
       "      <td>237.8</td>\n",
       "      <td>1113179.0</td>\n",
       "      <td>427.6</td>\n",
       "      <td>12131873.0</td>\n",
       "      <td>4660.2</td>\n",
       "      <td>2712774.0</td>\n",
       "      <td>1042.1</td>\n",
       "      <td>7879812.0</td>\n",
       "      <td>3026.9</td>\n",
       "      <td>1539287.0</td>\n",
       "      <td>591.3</td>\n",
       "    </tr>\n",
       "    <tr>\n",
       "      <th>1</th>\n",
       "      <td>1995.0</td>\n",
       "      <td>262803276.0</td>\n",
       "      <td>1798792.0</td>\n",
       "      <td>684.5</td>\n",
       "      <td>21606.0</td>\n",
       "      <td>8.2</td>\n",
       "      <td>97470.0</td>\n",
       "      <td>37.1</td>\n",
       "      <td>580509.0</td>\n",
       "      <td>220.9</td>\n",
       "      <td>1099207.0</td>\n",
       "      <td>418.3</td>\n",
       "      <td>12063935.0</td>\n",
       "      <td>4590.5</td>\n",
       "      <td>2593784.0</td>\n",
       "      <td>987.0</td>\n",
       "      <td>7997710.0</td>\n",
       "      <td>3043.2</td>\n",
       "      <td>1472441.0</td>\n",
       "      <td>560.3</td>\n",
       "    </tr>\n",
       "    <tr>\n",
       "      <th>2</th>\n",
       "      <td>1996.0</td>\n",
       "      <td>265228572.0</td>\n",
       "      <td>1688540.0</td>\n",
       "      <td>636.6</td>\n",
       "      <td>19645.0</td>\n",
       "      <td>7.4</td>\n",
       "      <td>96252.0</td>\n",
       "      <td>36.3</td>\n",
       "      <td>535594.0</td>\n",
       "      <td>201.9</td>\n",
       "      <td>1037049.0</td>\n",
       "      <td>391.0</td>\n",
       "      <td>11805323.0</td>\n",
       "      <td>4451.0</td>\n",
       "      <td>2506400.0</td>\n",
       "      <td>945.0</td>\n",
       "      <td>7904685.0</td>\n",
       "      <td>2980.3</td>\n",
       "      <td>1394238.0</td>\n",
       "      <td>525.7</td>\n",
       "    </tr>\n",
       "    <tr>\n",
       "      <th>3</th>\n",
       "      <td>1997.0</td>\n",
       "      <td>267783607.0</td>\n",
       "      <td>1636096.0</td>\n",
       "      <td>611.0</td>\n",
       "      <td>18208.0</td>\n",
       "      <td>6.8</td>\n",
       "      <td>96153.0</td>\n",
       "      <td>35.9</td>\n",
       "      <td>498534.0</td>\n",
       "      <td>186.2</td>\n",
       "      <td>1023201.0</td>\n",
       "      <td>382.1</td>\n",
       "      <td>11558475.0</td>\n",
       "      <td>4316.3</td>\n",
       "      <td>2460526.0</td>\n",
       "      <td>918.8</td>\n",
       "      <td>7743760.0</td>\n",
       "      <td>2891.8</td>\n",
       "      <td>1354189.0</td>\n",
       "      <td>505.7</td>\n",
       "    </tr>\n",
       "    <tr>\n",
       "      <th>4</th>\n",
       "      <td>1998.0</td>\n",
       "      <td>270248003.0</td>\n",
       "      <td>1533887.0</td>\n",
       "      <td>567.6</td>\n",
       "      <td>16974.0</td>\n",
       "      <td>6.3</td>\n",
       "      <td>93144.0</td>\n",
       "      <td>34.5</td>\n",
       "      <td>447186.0</td>\n",
       "      <td>165.5</td>\n",
       "      <td>976583.0</td>\n",
       "      <td>361.4</td>\n",
       "      <td>10951827.0</td>\n",
       "      <td>4052.5</td>\n",
       "      <td>2332735.0</td>\n",
       "      <td>863.2</td>\n",
       "      <td>7376311.0</td>\n",
       "      <td>2729.5</td>\n",
       "      <td>1242781.0</td>\n",
       "      <td>459.9</td>\n",
       "    </tr>\n",
       "  </tbody>\n",
       "</table>\n",
       "</div>"
      ],
      "text/plain": [
       "     year   population  violent crime  violent crime rate  \\\n",
       "0  1994.0  260327021.0      1857670.0               713.6   \n",
       "1  1995.0  262803276.0      1798792.0               684.5   \n",
       "2  1996.0  265228572.0      1688540.0               636.6   \n",
       "3  1997.0  267783607.0      1636096.0               611.0   \n",
       "4  1998.0  270248003.0      1533887.0               567.6   \n",
       "\n",
       "   murder and non-negligent manslaughter  \\\n",
       "0                                23326.0   \n",
       "1                                21606.0   \n",
       "2                                19645.0   \n",
       "3                                18208.0   \n",
       "4                                16974.0   \n",
       "\n",
       "    murder and non-negligent manslaughter rate      rape  rape rate   robbery  \\\n",
       "0                                          9.0  102216.0       39.3  618949.0   \n",
       "1                                          8.2   97470.0       37.1  580509.0   \n",
       "2                                          7.4   96252.0       36.3  535594.0   \n",
       "3                                          6.8   96153.0       35.9  498534.0   \n",
       "4                                          6.3   93144.0       34.5  447186.0   \n",
       "\n",
       "   robbery rate   aggravated assault  aggravated assault rate  property crime  \\\n",
       "0         237.8            1113179.0                    427.6      12131873.0   \n",
       "1         220.9            1099207.0                    418.3      12063935.0   \n",
       "2         201.9            1037049.0                    391.0      11805323.0   \n",
       "3         186.2            1023201.0                    382.1      11558475.0   \n",
       "4         165.5             976583.0                    361.4      10951827.0   \n",
       "\n",
       "   property crime rate   burglary  burglary rate  larceny-theft  \\\n",
       "0               4660.2  2712774.0         1042.1      7879812.0   \n",
       "1               4590.5  2593784.0          987.0      7997710.0   \n",
       "2               4451.0  2506400.0          945.0      7904685.0   \n",
       "3               4316.3  2460526.0          918.8      7743760.0   \n",
       "4               4052.5  2332735.0          863.2      7376311.0   \n",
       "\n",
       "   larceny-theft rate  motor vehicle theft  motor vehicle theft rate  \n",
       "0              3026.9            1539287.0                     591.3  \n",
       "1              3043.2            1472441.0                     560.3  \n",
       "2              2980.3            1394238.0                     525.7  \n",
       "3              2891.8            1354189.0                     505.7  \n",
       "4              2729.5            1242781.0                     459.9  "
      ]
     },
     "execution_count": 149,
     "metadata": {},
     "output_type": "execute_result"
    }
   ],
   "source": [
    "crime = pd.read_csv('crime_data.csv')\n",
    "crime.head()"
   ]
  },
  {
   "cell_type": "code",
   "execution_count": 150,
   "metadata": {},
   "outputs": [],
   "source": [
    "year = crime['year']\n",
    "violent = crime['violent crime rate']\n",
    "murder = crime[' murder and non-negligent manslaughter rate']\n",
    "assault = crime['aggravated assault rate']"
   ]
  },
  {
   "cell_type": "code",
   "execution_count": 151,
   "metadata": {},
   "outputs": [
    {
     "name": "stdout",
     "output_type": "stream",
     "text": [
      "slope: -15.465564    intercept: 31487.187293\n",
      "r_value: -0.944906   p_value: 0.000000    std_error: 1.262824\n"
     ]
    }
   ],
   "source": [
    "#Years and violent crime rate\n",
    "slope, intercept, r_value, p_value, std_err = stats.linregress(year, violent)\n",
    "print(\"slope: %f    intercept: %f\" % (slope, intercept))\n",
    "print(\"r_value: %f   p_value: %f    std_error: %f\" % (r_value, p_value, std_err))"
   ]
  },
  {
   "cell_type": "code",
   "execution_count": 158,
   "metadata": {},
   "outputs": [
    {
     "data": {
      "image/png": "[encoded data removed]",
      "text/plain": [
       "<Figure size 432x288 with 1 Axes>"
      ]
     },
     "metadata": {
      "needs_background": "light"
     },
     "output_type": "display_data"
    }
   ],
   "source": [
    "#Plot the violent crime rate over years\n",
    "expected_violent = intercept + slope * year\n",
    "plt.plot(year, violent, 'o', label='violent crime rate')\n",
    "plt.plot(year, expected_violent, 'b--', label='fitted line')\n",
    "plt.legend()\n",
    "plt.show()"
   ]
  },
  {
   "cell_type": "code",
   "execution_count": 153,
   "metadata": {},
   "outputs": [
    {
     "name": "stdout",
     "output_type": "stream",
     "text": [
      "slope: -0.170150    intercept: 346.771278\n",
      "r_value: -0.861548   p_value: 0.000001    std_error: 0.023632\n"
     ]
    }
   ],
   "source": [
    "#Years and murder crime rate\n",
    "slope_m, intercept_m, r_value_m, p_value_m, std_err_m = stats.linregress(year, murder)\n",
    "print(\"slope: %f    intercept: %f\" % (slope_m, intercept_m))\n",
    "print(\"r_value: %f   p_value: %f    std_error: %f\" % (r_value_m, p_value_m, std_err_m))"
   ]
  },
  {
   "cell_type": "code",
   "execution_count": 160,
   "metadata": {},
   "outputs": [
    {
     "data": {
      "image/png": "[encoded data removed]",
      "text/plain": [
       "<Figure size 432x288 with 1 Axes>"
      ]
     },
     "metadata": {
      "needs_background": "light"
     },
     "output_type": "display_data"
    }
   ],
   "source": [
    "#Plot the murder crime rate over years\n",
    "expected_murder = intercept_m + slope_m * year\n",
    "plt.plot(year, murder, 'o', label='murder crime rate')\n",
    "plt.plot(year, expected_murder, 'r--', label='fitted line')\n",
    "plt.legend()\n",
    "plt.show()"
   ]
  },
  {
   "cell_type": "code",
   "execution_count": 155,
   "metadata": {},
   "outputs": [
    {
     "name": "stdout",
     "output_type": "stream",
     "text": [
      "slope: -9.553985    intercept: 19452.868872\n",
      "r_value: -0.967889   p_value: 0.000000    std_error: 0.584861\n"
     ]
    }
   ],
   "source": [
    "#Years and assault crime rate\n",
    "slope_a, intercept_a, r_value_a, p_value_a, std_err_a = stats.linregress(year, assault)\n",
    "print(\"slope: %f    intercept: %f\" % (slope_a, intercept_a))\n",
    "print(\"r_value: %f   p_value: %f    std_error: %f\" % (r_value_a, p_value_a, std_err_a))"
   ]
  },
  {
   "cell_type": "code",
   "execution_count": 161,
   "metadata": {},
   "outputs": [
    {
     "data": {
      "image/png": "[encoded data removed]",
      "text/plain": [
       "<Figure size 432x288 with 1 Axes>"
      ]
     },
     "metadata": {
      "needs_background": "light"
     },
     "output_type": "display_data"
    }
   ],
   "source": [
    "#Plot the assault crime rate over years\n",
    "expected_assault = intercept_a + slope_a * year\n",
    "plt.plot(year, murder, 'o', label='assault crime rate')\n",
    "plt.plot(year, expected_assault, 'g--', label='fitted line')\n",
    "plt.legend()\n",
    "plt.show()"
   ]
  },
  {
   "cell_type": "code",
   "execution_count": 157,
   "metadata": {},
   "outputs": [
    {
     "data": {
      "text/plain": [
       "Text(0.5, 0, 'Year')"
      ]
     },
     "execution_count": 157,
     "metadata": {},
     "output_type": "execute_result"
    },
    {
     "data": {
      "image/png": "[encoded data removed]",
      "text/plain": [
       "<Figure size 432x288 with 3 Axes>"
      ]
     },
     "metadata": {
      "needs_background": "light"
     },
     "output_type": "display_data"
    }
   ],
   "source": [
    "#Summary Plot\n",
    "# Plot\n",
    "fig, (ax1, ax2, ax3) = plt.subplots(3, sharex=True)\n",
    "fig.suptitle(\"Crime Rates Over Time\", fontsize=16, fontweight=\"bold\")\n",
    "\n",
    "ax1.set_xlim(min(year), max(year))\n",
    "ax1.plot(year, violent, linewidth=1, marker=\"o\")\n",
    "ax1.plot(year, expected_violent, \"b--\", linewidth=1)\n",
    "ax1.set_ylabel(\"Violent Crime Rate\")\n",
    "\n",
    "ax2.plot(year, murder, linewidth=1, marker=\"o\", color=\"r\")\n",
    "ax2.plot(year, expected_murder, \"r--\", linewidth=1)\n",
    "ax2.set_ylabel(\"Murder Rate\")\n",
    "\n",
    "ax3.plot(year, assault, linewidth=1, marker=\"o\", color=\"g\")\n",
    "ax3.plot(year, expected_assault, \"g--\", linewidth=1)\n",
    "ax3.set_ylabel(\"Aggravated Assault Rate\")\n",
    "ax3.set_xlabel(\"Year\")"
   ]
  },
  {
   "cell_type": "code",
   "execution_count": 162,
   "metadata": {},
   "outputs": [
    {
     "name": "stdout",
     "output_type": "stream",
     "text": [
      "The violent crime rate in 2019 will be 262.2137593984953.\n",
      "The murder rate in 2019 will be 3.2376691729323284.\n",
      "The aggravated assault rate in 2019 will be 163.37323308270788.\n"
     ]
    }
   ],
   "source": [
    "#Predict the crime rate in 2019\n",
    "predicted_year = 2019\n",
    "print(\"The violent crime rate in 2019 will be \" +\n",
    "      str(slope * predicted_year + intercept) + \".\")\n",
    "print(\"The murder rate in 2019 will be \" + str(slope_m * predicted_year + intercept_m) + \".\")\n",
    "print(\"The aggravated assault rate in 2019 will be \" +\n",
    "      str(slope_a * predicted_year + intercept_a) + \".\")"
   ]
  },
  {
   "cell_type": "code",
   "execution_count": null,
   "metadata": {},
   "outputs": [],
   "source": []
  }
 ],
 "metadata": {
  "kernelspec": {
   "display_name": "Python 3",
   "language": "python",
   "name": "python3"
  },
  "language_info": {
   "codemirror_mode": {
    "name": "ipython",
    "version": 3
   },
   "file_extension": ".py",
   "mimetype": "text/x-python",
   "name": "python",
   "nbconvert_exporter": "python",
   "pygments_lexer": "ipython3",
   "version": "3.7.1"
  }
 },
 "nbformat": 4,
 "nbformat_minor": 2
}
